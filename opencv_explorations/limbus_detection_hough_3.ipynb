{
 "cells": [
  {
   "cell_type": "markdown",
   "id": "c293a85e",
   "metadata": {},
   "source": [
    "### Imports"
   ]
  },
  {
   "cell_type": "code",
   "execution_count": null,
   "id": "fff7b4cb",
   "metadata": {
    "lines_to_next_cell": 2
   },
   "outputs": [],
   "source": [
    "import cv2\n",
    "import numpy as np\n",
    "from matplotlib import pyplot as plt"
   ]
  },
  {
   "cell_type": "code",
   "execution_count": null,
   "id": "73eed2c9",
   "metadata": {},
   "outputs": [],
   "source": [
    "base = cv2.imread('data/artificial/base1.jpeg', cv2.IMREAD_COLOR)\n",
    "base_rgb = cv2.cvtColor(base, cv2.COLOR_BGR2RGB)\n",
    "base_gray = cv2.cvtColor(base, cv2.COLOR_BGR2GRAY)\n",
    "base_hsv = cv2.cvtColor(base, cv2.COLOR_BGR2HSV)\n",
    "\n",
    "base_hue = base_hsv[:, :, 0]\n",
    "base_saturation = base_hsv[:, :, 1]\n",
    "base_value = base_hsv[:, :, 2]\n",
    "\n",
    "fig, ((plot1, plot2, _), (plot3, plot4, plot5)\n",
    "      ) = plt.subplots(2, 3, figsize=(20, 10))\n",
    "plot1.set_title('base')\n",
    "plot1.imshow(base_rgb)\n",
    "plot1.axis('off')\n",
    "\n",
    "plot2.set_title('base grayscale')\n",
    "plot2.imshow(base_gray, cmap=plt.cm.gray)\n",
    "plot2.axis('off')\n",
    "\n",
    "plot3.set_title('hue')\n",
    "plot3.imshow(base_hue, cmap=plt.cm.gray)\n",
    "plot3.axis('off')\n",
    "\n",
    "plot4.set_title('saturation')\n",
    "plot4.imshow(base_saturation, cmap=plt.cm.gray)\n",
    "plot4.axis('off')\n",
    "\n",
    "plot5.set_title('value')\n",
    "plot5.imshow(base_value, cmap=plt.cm.gray)\n",
    "plot5.axis('off')\n",
    "\n",
    "plt.show()"
   ]
  },
  {
   "cell_type": "code",
   "execution_count": null,
   "id": "83afad49",
   "metadata": {},
   "outputs": [],
   "source": [
    "scale = 0.4\n",
    "base_gray_small = cv2.resize(base_gray, (0, 0), fx=scale, fy=scale)\n",
    "base_gray_small.shape"
   ]
  },
  {
   "cell_type": "code",
   "execution_count": null,
   "id": "f6d4c442",
   "metadata": {},
   "outputs": [],
   "source": [
    "def get_tuple_point(array_point):\n",
    "    return tuple(np.round(array_point).astype('int'))"
   ]
  },
  {
   "cell_type": "code",
   "execution_count": null,
   "id": "6b390e6c",
   "metadata": {},
   "outputs": [],
   "source": [
    "def detect_circle(gray, return_all=False):\n",
    "    circles = cv2.HoughCircles(\n",
    "        cv2.GaussianBlur(255 - gray, ksize=(0, 0), sigmaX=2),\n",
    "        cv2.HOUGH_GRADIENT, dp=1, minDist=1,\n",
    "        param1=120, param2=40,\n",
    "        minRadius=gray.shape[0]//10, maxRadius=round(gray.shape[0]//1.5)\n",
    "    )\n",
    "\n",
    "    if circles is None:\n",
    "        return None\n",
    "\n",
    "    if return_all:\n",
    "        return circles[0, :, :]\n",
    "\n",
    "    return circles[0, 0, :2], circles[0, 0, 2]"
   ]
  },
  {
   "cell_type": "code",
   "execution_count": null,
   "id": "0f6e318e",
   "metadata": {},
   "outputs": [],
   "source": [
    "circles = detect_circle(base_gray_small, return_all=True)\n",
    "\n",
    "base_copy = base_rgb.copy()\n",
    "for circle in circles[:20, :]:\n",
    "    limbus_center = circle[:2] / scale\n",
    "    limbus_radius = circle[2] / scale\n",
    "\n",
    "#     cv2.drawMarker(base_copy, get_tuple_point(limbus_center), (0,255,0))\n",
    "    cv2.circle(base_copy, get_tuple_point(limbus_center),\n",
    "               round(limbus_radius), (0, 255, 0), thickness=1)\n",
    "\n",
    "fig, plots = plt.subplots(1, 2, figsize=(20, 10))\n",
    "plots[0].set_title('limbus circles')\n",
    "plots[0].imshow(base_copy)\n",
    "plots[0].axis('off')\n",
    "\n",
    "plots[1].set_title('absolute laplacian image')\n",
    "# plots[1].imshow(np.abs(cv2.Laplacian(base_gray_small, cv2.CV_16S)), cmap=plt.cm.gray)\n",
    "plots[1].imshow(cv2.Laplacian(255 - base_gray_small,\n",
    "                cv2.CV_16S), cmap=plt.cm.gray)\n",
    "plots[1].axis('off')\n",
    "\n",
    "plt.show()"
   ]
  },
  {
   "cell_type": "code",
   "execution_count": null,
   "id": "5aa58188",
   "metadata": {},
   "outputs": [],
   "source": [
    "def get_mean_laplacian(laplacian, center, radius):\n",
    "    mask = np.zeros(laplacian.shape, dtype=np.byte)\n",
    "    cv2.circle(mask, center, radius, 1)\n",
    "    return np.mean(laplacian[mask == 1])"
   ]
  },
  {
   "cell_type": "code",
   "execution_count": null,
   "id": "3bc84317",
   "metadata": {},
   "outputs": [],
   "source": [
    "def get_std_laplacian(laplacian, center, radius):\n",
    "    mask = np.zeros(laplacian.shape, dtype=np.byte)\n",
    "    cv2.circle(mask, center, radius, 1)\n",
    "    return np.std(laplacian[mask == 1])"
   ]
  },
  {
   "cell_type": "code",
   "execution_count": null,
   "id": "619d7c2b",
   "metadata": {},
   "outputs": [],
   "source": [
    "circle_width_to_radius_ratio = 0.05\n",
    "\n",
    "\n",
    "def get_mean_intensity(grey, center, radius):\n",
    "    mask = np.zeros(grey.shape, dtype=np.byte)\n",
    "    circle_width = int(circle_width_to_radius_ratio*radius)\n",
    "    cv2.circle(mask, center, radius + (circle_width//2),\n",
    "               1, thickness=circle_width)\n",
    "    return np.mean(grey[mask == 1])"
   ]
  },
  {
   "cell_type": "code",
   "execution_count": null,
   "id": "3d8fc842",
   "metadata": {},
   "outputs": [],
   "source": [
    "circle_width_to_radius_ratio = 0.04\n",
    "\n",
    "\n",
    "def get_in_out_intensity_diff(grey, center, radius):\n",
    "    mask = np.zeros(grey.shape, dtype=np.byte)\n",
    "    circle_width = int(circle_width_to_radius_ratio*radius)\n",
    "\n",
    "    cv2.circle(mask, center, radius - (circle_width//2),\n",
    "               1, thickness=circle_width)\n",
    "    in_intensity = np.mean(grey[mask == 1])\n",
    "\n",
    "    cv2.circle(mask, center, radius + (circle_width//2),\n",
    "               1, thickness=circle_width)\n",
    "    out_intensity = np.mean(grey[mask == 1])\n",
    "\n",
    "    return out_intensity - in_intensity"
   ]
  },
  {
   "cell_type": "code",
   "execution_count": null,
   "id": "0d312831",
   "metadata": {},
   "outputs": [],
   "source": [
    "circles = detect_circle(base_gray_small, return_all=True)\n",
    "\n",
    "mean_intensity = np.zeros(circles.shape[0])\n",
    "in_out_intensity_diff = np.zeros(circles.shape[0])\n",
    "for index, circle in enumerate(circles):\n",
    "    limbus_center = get_tuple_point(circle[:2])\n",
    "    limbus_radius = np.round(circle[2]).astype('int')\n",
    "    mean_intensity[index] = get_mean_intensity(\n",
    "        base_gray_small, limbus_center, limbus_radius)\n",
    "    in_out_intensity_diff[index] = get_in_out_intensity_diff(\n",
    "        base_gray_small, limbus_center, limbus_radius)\n",
    "\n",
    "base_copy_mean = base_rgb.copy()\n",
    "interesting_indices = np.argsort(mean_intensity)[-10:]\n",
    "for index in interesting_indices:\n",
    "    circle = circles[index]\n",
    "\n",
    "    limbus_center = get_tuple_point(circle[:2] / scale)\n",
    "    limbus_radius = np.round(circle[2] / scale).astype('int')\n",
    "    cv2.circle(base_copy_mean, limbus_center,\n",
    "               limbus_radius, (0, 255, 0), thickness=1)\n",
    "\n",
    "base_copy_in_out = base_rgb.copy()\n",
    "interesting_indices = np.argsort(in_out_intensity_diff)[-10:]\n",
    "for index in interesting_indices:\n",
    "    circle = circles[index]\n",
    "\n",
    "    limbus_center = get_tuple_point(circle[:2] / scale)\n",
    "    limbus_radius = np.round(circle[2] / scale).astype('int')\n",
    "    cv2.circle(base_copy_in_out, limbus_center,\n",
    "               limbus_radius, (255, 0, 0), thickness=1)\n",
    "\n",
    "fig, plots = plt.subplots(2, 2, figsize=(15, 12))\n",
    "plots[0][0].set_title('mean')\n",
    "plots[0][0].imshow(base_copy_mean)\n",
    "plots[0][0].axis('off')\n",
    "\n",
    "plots[0][1].plot(range(mean_intensity.shape[0]), mean_intensity)\n",
    "\n",
    "plots[1][0].set_title('in out diff')\n",
    "plots[1][0].imshow(base_copy_in_out)\n",
    "plots[1][0].axis('off')\n",
    "\n",
    "plots[1][1].plot(range(mean_intensity.shape[0]), in_out_intensity_diff)\n",
    "\n",
    "plt.show()"
   ]
  }
 ],
 "metadata": {
  "kernelspec": {
   "display_name": "Python 3 (ipykernel)",
   "language": "python",
   "name": "python3"
  },
  "language_info": {
   "codemirror_mode": {
    "name": "ipython",
    "version": 3
   },
   "file_extension": ".py",
   "mimetype": "text/x-python",
   "name": "python",
   "nbconvert_exporter": "python",
   "pygments_lexer": "ipython3",
   "version": "3.9.9"
  }
 },
 "nbformat": 4,
 "nbformat_minor": 5
}
