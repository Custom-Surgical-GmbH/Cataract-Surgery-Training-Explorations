{
 "cells": [
  {
   "cell_type": "markdown",
   "metadata": {},
   "source": [
    "### Imports"
   ]
  },
  {
   "cell_type": "code",
   "execution_count": 1,
   "metadata": {},
   "outputs": [],
   "source": [
    "import cv2\n",
    "import time\n",
    "\n",
    "import requests\n",
    "import numpy as np\n",
    "import matplotlib.pyplot as plt\n",
    "\n",
    "from PIL import ImageFont, ImageDraw, Image\n",
    "\n",
    "from helpers.limbus_detection import detect_circle\n",
    "from helpers.bioniko_detection import detect_bioniko\n",
    "from helpers.orientation_detection import detect_markers_entropy, detect_markers_hu_moments\n",
    "from helpers.keypoint_based_tracking import estimate_transform, get_transform_info\n",
    "from helpers.misc import get_avg_laplacian, get_in_out_intensity_diff, get_mean_intensity, \\\n",
    "    jiggle_circle, tighten_circle\n",
    "from helpers.view_detection import get_view_mask\n",
    "\n",
    "\n",
    "%load_ext autoreload\n",
    "%autoreload 2"
   ]
  },
  {
   "cell_type": "markdown",
   "metadata": {},
   "source": [
    "### 1. video demo playback"
   ]
  },
  {
   "cell_type": "code",
   "execution_count": 2,
   "metadata": {
    "code_folding": [
     0
    ]
   },
   "outputs": [],
   "source": [
    "#\n",
    "cap = cv2.VideoCapture('data/artificial/procedure4_lofi.mkv')\n",
    "\n",
    "while cap.isOpened():\n",
    "    ret, frame = cap.read() \n",
    "  \n",
    "    gray = cv2.cvtColor(frame, cv2.COLOR_BGR2GRAY) \n",
    "  \n",
    "    circles = cv2.HoughCircles(\n",
    "        cv2.GaussianBlur(255 - gray, ksize=(0,0), sigmaX=2),\n",
    "        cv2.HOUGH_GRADIENT, dp=1, minDist=1,\n",
    "        param1=120, param2=40,\n",
    "        minRadius=gray.shape[0]//10, maxRadius=round(gray.shape[0]/1.2)\n",
    "    )\n",
    "    \n",
    "    if circles is not None:\n",
    "        circles_filtered = np.uint16(np.around(circles[0,:1,:]))\n",
    "        for i, circle in enumerate(circles_filtered):\n",
    "            cv2.circle(frame, (circle[0], circle[1]), circle[2], (0, 255, 0), 1)\n",
    "            cv2.putText(frame, str(i + 1), (circle[0], circle[1]), cv2.FONT_HERSHEY_PLAIN, 1, (0, 255, 0), 1)\n",
    "  \n",
    "    cv2.imshow('original', frame)\n",
    "\n",
    "    if cv2.waitKey(25) & 0xFF == ord('q'): \n",
    "        break\n",
    "\n",
    "cap.release() \n",
    "cv2.destroyAllWindows() "
   ]
  },
  {
   "cell_type": "markdown",
   "metadata": {},
   "source": [
    "### 2. video demo capture"
   ]
  },
  {
   "cell_type": "code",
   "execution_count": 36,
   "metadata": {
    "code_folding": [
     0
    ]
   },
   "outputs": [],
   "source": [
    "#\n",
    "cap = cv2.VideoCapture('data/artificial/procedure3_lofi.mkv')\n",
    "out = cv2.VideoWriter('test.mp4', cv2.VideoWriter_fourcc(*'mp4v'), 30,\n",
    "    (int(cap.get(cv2.CAP_PROP_FRAME_WIDTH)), int(cap.get(cv2.CAP_PROP_FRAME_HEIGHT))))\n",
    "\n",
    "while cap.isOpened():\n",
    "    ret, frame = cap.read() \n",
    "    if ret == False:\n",
    "        break\n",
    "  \n",
    "    gray = cv2.cvtColor(frame, cv2.COLOR_BGR2GRAY) \n",
    "  \n",
    "    circles = cv2.HoughCircles(\n",
    "        cv2.GaussianBlur(255 - gray, ksize=(0,0), sigmaX=2),\n",
    "        cv2.HOUGH_GRADIENT, dp=1, minDist=10,\n",
    "        param1=120, param2=40,\n",
    "        minRadius=gray.shape[0]//10, maxRadius=int(gray.shape[0]/1.5)\n",
    "    )\n",
    "    \n",
    "    if circles is not None:\n",
    "        circles_filtered = np.uint16(np.around(circles[0,:1,:]))\n",
    "        for i, circle in enumerate(circles_filtered):\n",
    "            cv2.circle(frame, (circle[0], circle[1]), circle[2], (0, 255, 0), 1)\n",
    "            cv2.drawMarker(frame, (circle[0], circle[1]), (0, 255, 0))\n",
    "  \n",
    "    out.write(frame)\n",
    "\n",
    "    if cv2.waitKey(1) & 0xFF == ord('q'): \n",
    "        break\n",
    "\n",
    "cap.release()\n",
    "out.release()                      \n",
    "cv2.destroyAllWindows() "
   ]
  },
  {
   "cell_type": "markdown",
   "metadata": {},
   "source": [
    "### 3. realtime demo"
   ]
  },
  {
   "cell_type": "code",
   "execution_count": null,
   "metadata": {
    "code_folding": [
     0
    ]
   },
   "outputs": [],
   "source": [
    "#\n",
    "url = 'http://192.168.0.207:8080/shot.jpg'\n",
    "\n",
    "while True:\n",
    "    response = requests.get(url)\n",
    "    img_arr = np.array(bytearray(response.content), dtype=np.uint8)\n",
    "    img = cv2.imdecode(img_arr, -1)\n",
    "    \n",
    "    img_gray = cv2.cvtColor(img, cv2.COLOR_BGR2GRAY) \n",
    "  \n",
    "    circles = cv2.HoughCircles(\n",
    "        cv2.GaussianBlur(255 - img_gray, ksize=(0,0), sigmaX=2),\n",
    "        cv2.HOUGH_GRADIENT, dp=1, minDist=10,\n",
    "        param1=120, param2=40,\n",
    "        minRadius=img_gray.shape[0]//10, maxRadius=img_gray.shape[0]//2\n",
    "    )\n",
    "    \n",
    "    if circles is not None:\n",
    "        circles_filtered = np.uint16(np.around(circles[0,:1,:]))\n",
    "        for i, circle in enumerate(circles_filtered):\n",
    "            cv2.circle(img, (circle[0], circle[1]), circle[2], (0, 255, 0), 1)\n",
    "            cv2.drawMarker(img, (circle[0], circle[1]), (0, 255, 0))\n",
    "    \n",
    "    cv2.imshow('android', img)\n",
    "\n",
    "    if cv2.waitKey(25) & 0xFF == ord('q'): \n",
    "        break\n",
    "\n",
    "cv2.destroyAllWindows() "
   ]
  },
  {
   "cell_type": "markdown",
   "metadata": {},
   "source": [
    "### 4. video demo with smoothing"
   ]
  },
  {
   "cell_type": "code",
   "execution_count": 3,
   "metadata": {
    "code_folding": [
     0
    ]
   },
   "outputs": [],
   "source": [
    "#\n",
    "window_size = 30\n",
    "scale = 0.25\n",
    "\n",
    "cap = cv2.VideoCapture('data/artificial/procedure1.mp4')\n",
    "\n",
    "frame_num = 0\n",
    "window_circles = np.zeros((window_size,3))\n",
    "while cap.isOpened():\n",
    "    ret, frame = cap.read()\n",
    "    if not ret:\n",
    "        break\n",
    "  \n",
    "    gray = cv2.cvtColor(frame, cv2.COLOR_BGR2GRAY)\n",
    "    gray = cv2.resize(gray, None, fx=scale, fy=scale)\n",
    "  \n",
    "    circles = cv2.HoughCircles(\n",
    "        cv2.GaussianBlur(255 - gray, ksize=(0,0), sigmaX=2),\n",
    "        cv2.HOUGH_GRADIENT, dp=1, minDist=10,\n",
    "        param1=120, param2=40,\n",
    "        minRadius=gray.shape[0]//10, maxRadius=gray.shape[0]\n",
    "    )\n",
    "    \n",
    "    if circles is not None:\n",
    "        circles *= (1/scale)\n",
    "        if frame_num == 0:\n",
    "            window_circles[:,:] = circles[0,0,:]\n",
    "        else:\n",
    "            window_circles[frame_num % window_size,:] = circles[0,0,:]\n",
    "        frame_num += 1\n",
    "        \n",
    "    smoothed_circle = np.mean(window_circles, axis=0)\n",
    "    smoothed_circle = np.uint16(np.around(smoothed_circle))\n",
    "\n",
    "    cv2.circle(frame, (smoothed_circle[0], smoothed_circle[1]),\n",
    "        smoothed_circle[2], (0, 255, 0), 1)\n",
    "    cv2.drawMarker(frame, (smoothed_circle[0], smoothed_circle[1]),\n",
    "        (0, 255, 0))\n",
    "\n",
    "    cv2.imshow('original', frame)\n",
    "\n",
    "    if cv2.waitKey(25) & 0xFF == ord('q'): \n",
    "        break\n",
    "\n",
    "cap.release() \n",
    "cv2.destroyAllWindows() "
   ]
  },
  {
   "cell_type": "markdown",
   "metadata": {},
   "source": [
    "### 5. video demo with pupil and orientation"
   ]
  },
  {
   "cell_type": "code",
   "execution_count": 8,
   "metadata": {
    "code_folding": [
     0
    ]
   },
   "outputs": [],
   "source": [
    "#\n",
    "cap = cv2.VideoCapture('data/artificial/procedure3_lofi.mkv')\n",
    "\n",
    "while cap.isOpened():\n",
    "    ret, base = cap.read()\n",
    "    base_gray = cv2.cvtColor(base, cv2.COLOR_BGR2GRAY) \n",
    "  \n",
    "    iris_circles = cv2.HoughCircles(\n",
    "        cv2.GaussianBlur(255 - base_gray, ksize=(0,0), sigmaX=2),\n",
    "        cv2.HOUGH_GRADIENT, dp=1, minDist=10,\n",
    "        param1=120, param2=40,\n",
    "        minRadius=base_gray.shape[0]//10, maxRadius=base_gray.shape[0]//2\n",
    "    )\n",
    "    \n",
    "    if iris_circles is not None:\n",
    "        # limbus\n",
    "        iris_circle = np.uint16(np.around(iris_circles[0,0,:]))\n",
    "        cv2.circle(base, (iris_circle[0], iris_circle[1]), iris_circle[2], (0, 255, 0), 1)\n",
    "        cv2.drawMarker(base, (iris_circle[0], iris_circle[1]), (0, 255, 0))\n",
    "        \n",
    "        # pupil\n",
    "        iris_pupil_mask = np.zeros(base.shape[:2], dtype=np.uint8)\n",
    "        cv2.circle(iris_pupil_mask, (iris_circle[0], iris_circle[1]), iris_circle[2] - 20, 255, cv2.FILLED)\n",
    "\n",
    "        base_gray_blur = cv2.GaussianBlur(base_gray, ksize=(0,0), sigmaX=2)\n",
    "        base_roi_values = base_gray_blur[np.where(iris_pupil_mask == 255)]\n",
    "        thres_otsu, _ = cv2.threshold(\n",
    "            src=base_roi_values,\n",
    "            thresh=0,\n",
    "            maxval=255,\n",
    "            type=cv2.THRESH_BINARY_INV+cv2.THRESH_OTSU\n",
    "        )\n",
    "\n",
    "        base_gray_roi_thres = base_gray_blur.copy()\n",
    "        base_gray_roi_thres[np.where(base_gray_roi_thres > thres_otsu)] = 255\n",
    "        base_gray_roi_thres[np.where(base_gray_roi_thres <= thres_otsu)] = 0\n",
    "        base_gray_roi_thres[np.where(iris_pupil_mask == 0)[0],np.where(iris_pupil_mask == 0)[1]] = 255//2\n",
    "\n",
    "        base_pupil_gray = base_gray_blur.copy()\n",
    "        base_pupil_gray[np.where(base_gray_roi_thres > thres_otsu)] = 255\n",
    "        base_pupil_gray[np.where(base_gray_roi_thres <= thres_otsu)] = 0\n",
    "        base_pupil_gray[np.where(iris_pupil_mask == 0)[0],np.where(iris_pupil_mask == 0)[1]] = 0\n",
    "        pupil_circles = cv2.HoughCircles(\n",
    "            cv2.GaussianBlur(base_pupil_gray, ksize=(0,0), sigmaX=2),\n",
    "            cv2.HOUGH_GRADIENT, dp=1, minDist=10,\n",
    "            param1=150, param2=1,\n",
    "            minRadius=base_pupil_gray.shape[0]//10, maxRadius=int((7/10)*iris_circle[2])\n",
    "        )\n",
    "        \n",
    "        if pupil_circles is not None:\n",
    "            pupil_circle = np.uint16(np.around(pupil_circles[0,0,:]))\n",
    "\n",
    "            cv2.circle(base, (pupil_circle[0], pupil_circle[1]), pupil_circle[2], (0, 255, 0), 1)\n",
    "\n",
    "            # orientation\n",
    "            thresh_percentage = 0.01\n",
    "            \n",
    "            iris_mask = iris_pupil_mask.copy()\n",
    "            cv2.circle(iris_mask, (pupil_circle[0], pupil_circle[1]), pupil_circle[2], 0, cv2.FILLED)\n",
    "            iris_values = base_gray[np.where(iris_mask == 255)[0],np.where(iris_mask == 255)[1]]\n",
    "            \n",
    "            low_thres = np.sort(iris_values)[int(thresh_percentage * iris_values.size)]\n",
    "            iris_low = base_gray.copy()\n",
    "            _, iris_low = cv2.threshold(iris_low, thresh=low_thres, maxval=255, type=cv2.THRESH_BINARY_INV)\n",
    "            iris_low = cv2.bitwise_and(iris_low, iris_mask)\n",
    "            \n",
    "            kernel = np.ones((2,2), dtype=np.uint8)\n",
    "\n",
    "            morphed = iris_low.copy()\n",
    "            morphed = cv2.morphologyEx(morphed, cv2.MORPH_OPEN, kernel, iterations=1)\n",
    "            morphed = cv2.dilate(morphed, kernel, iterations=10)\n",
    "\n",
    "            iris_center = np.array((iris_circle[0], iris_circle[1]))\n",
    "\n",
    "            bioniko_center = np.mean(np.array(np.where(morphed == 255)), axis=1)\n",
    "            bioniko_center = np.uint16(np.flip(bioniko_center))\n",
    "\n",
    "            orientation = bioniko_center - iris_center\n",
    "            start_point = iris_center + orientation\n",
    "            end_point = iris_center - orientation\n",
    "\n",
    "            cv2.drawMarker(base, tuple(bioniko_center), (0, 255, 0))\n",
    "            cv2.line(\n",
    "                base,\n",
    "                tuple(start_point),\n",
    "                tuple(end_point),\n",
    "                [0, 255, 0], thickness=2\n",
    "            )\n",
    "        \n",
    "\n",
    "    cv2.imshow('result', base)\n",
    "    cv2.imshow('pupil', base_pupil_gray)\n",
    "    cv2.imshow('bioniko marker thresholded', iris_low)\n",
    "    cv2.imshow('bioniko marker morphed', morphed)\n",
    "\n",
    "    if cv2.waitKey(25) & 0xFF == ord('q'): \n",
    "        break\n",
    "\n",
    "cap.release() \n",
    "cv2.destroyAllWindows() "
   ]
  },
  {
   "cell_type": "markdown",
   "metadata": {},
   "source": [
    "### 6. video demo with cross-correlation based orientation detection"
   ]
  },
  {
   "cell_type": "code",
   "execution_count": 9,
   "metadata": {
    "code_folding": [
     0
    ]
   },
   "outputs": [],
   "source": [
    "#\n",
    "cap = cv2.VideoCapture('data/artificial/procedure4_lofi.mkv')\n",
    "\n",
    "base_polar = None\n",
    "base_ccoef = None\n",
    "while cap.isOpened():\n",
    "    ret, base = cap.read()\n",
    "    if not ret:\n",
    "        break\n",
    "    \n",
    "    base_hsv = cv2.cvtColor(base, cv2.COLOR_BGR2HSV)\n",
    "    base_value = base_hsv[:,:,2]\n",
    "    \n",
    "    ret = detect_circle(base_value)\n",
    "    if ret is not None:\n",
    "        limbus_center, limbus_radius = ret[:2], ret[2]\n",
    "        bioniko_loc, base_polar, base_ccoef = detect_bioniko(\n",
    "            base_value, limbus_center, limbus_radius, return_verbose=True)\n",
    "        \n",
    "        limbus_center_t = tuple(np.around(limbus_center).astype('int'))\n",
    "        bioniko_loc_t = tuple(np.around(bioniko_loc).astype('int'))\n",
    "        \n",
    "        # overlay\n",
    "        cv2.drawMarker(base, limbus_center_t, (0,255,0))\n",
    "        cv2.circle(base, limbus_center_t, round(limbus_radius), (0,255,0))\n",
    "        cv2.line(base, limbus_center_t, bioniko_loc_t, (0,255,0))\n",
    "\n",
    "    cv2.imshow('result', base)\n",
    "    cv2.imshow('base polar', base_polar)\n",
    "    cv2.imshow('base sqdiff', base_ccoef)\n",
    "\n",
    "    \n",
    "    if cv2.waitKey(25) & 0xFF == ord('q'): \n",
    "        break\n",
    "\n",
    "cap.release() \n",
    "cv2.destroyAllWindows() "
   ]
  },
  {
   "cell_type": "markdown",
   "metadata": {},
   "source": [
    "### 7. limbus validation using laplacian image"
   ]
  },
  {
   "cell_type": "code",
   "execution_count": 12,
   "metadata": {
    "code_folding": [
     0
    ]
   },
   "outputs": [],
   "source": [
    "#\n",
    "cap = cv2.VideoCapture('data/artificial/procedure1.mp4')\n",
    "\n",
    "base_polar = None\n",
    "base_sqdiff = None\n",
    "arg_maxima = []\n",
    "while cap.isOpened():\n",
    "    ret, base = cap.read()\n",
    "    if not ret:\n",
    "        break\n",
    "    \n",
    "    base_hsv = cv2.cvtColor(base, cv2.COLOR_BGR2HSV)\n",
    "    base_value = base_hsv[:,:,2]\n",
    "    base_laplacian = cv2.Laplacian(base_value, cv2.CV_16S)\n",
    "    \n",
    "    circles = detect_circle(base_value, return_all=True)\n",
    "    \n",
    "    if circles is not None:\n",
    "        avg_laplacians = np.zeros(circles.shape[0])\n",
    "        for index, circle in enumerate(circles):\n",
    "            limbus_center = tuple(np.round(circle[:2]).astype('int'))\n",
    "            limbus_radius = round(circle[2])\n",
    "            avg_laplacians[index] = get_avg_laplacian(base_laplacian, limbus_center, limbus_radius)\n",
    "        best_circle = circles[np.argmax(avg_laplacians),:]\n",
    "\n",
    "        # overlays\n",
    "        cv2.circle(base, tuple(np.round(circles[0,:2]).astype('int')), round(circles[0,2]), (0,255,0))\n",
    "        cv2.circle(base, tuple(np.round(best_circle[:2]).astype('int')), round(best_circle[2]), (255,0,0))\n",
    "        cv2.putText(\n",
    "            base,\n",
    "            'l(%d) = %f' % (np.argmax(avg_laplacians), np.max(avg_laplacians)),\n",
    "            (0,base.shape[0]-1), \n",
    "            cv2.FONT_HERSHEY_PLAIN, \n",
    "            2, \n",
    "            (255,0,0)\n",
    "        )\n",
    "        \n",
    "        arg_maxima.append(np.argmax(avg_laplacians))\n",
    "        \n",
    "    cv2.imshow('base', base)\n",
    "#     cv2.imshow('base value', base_value)\n",
    "#     cv2.imshow('base laplacian', cv2.convertScaleAbs(base_laplacian))\n",
    "    \n",
    "    if cv2.waitKey(25) & 0xFF == ord('q'): \n",
    "        break\n",
    "\n",
    "cap.release() \n",
    "cv2.destroyAllWindows() "
   ]
  },
  {
   "cell_type": "markdown",
   "metadata": {},
   "source": [
    "### 8. Orientation detection using color markers"
   ]
  },
  {
   "cell_type": "code",
   "execution_count": 15,
   "metadata": {
    "code_folding": [
     0
    ]
   },
   "outputs": [],
   "source": [
    "#\n",
    "cap = cv2.VideoCapture('data/artificial/procedure5_lofi.mkv')\n",
    "\n",
    "colors_stacked = None\n",
    "colors_polar = None\n",
    "while cap.isOpened():\n",
    "    ret, base = cap.read()\n",
    "    if not ret:\n",
    "        break\n",
    "    \n",
    "    base_hsv = cv2.cvtColor(base, cv2.COLOR_BGR2HSV)\n",
    "    base_value = base_hsv[:,:,2]\n",
    "    \n",
    "    ret = detect_circle(base_value)\n",
    "    if ret is not None:\n",
    "        limbus_center, limbus_radius = ret[:2], ret[2]\n",
    "        zero_deg_loc, markers_vis, colors_polar = detect_markers_hu_moments(\n",
    "            base_hsv, limbus_center, limbus_radius, return_verbose=True)\n",
    "        \n",
    "        limbus_center_t = tuple(np.around(limbus_center).astype('int'))\n",
    "        zero_deg_loc_t = tuple(np.around(zero_deg_loc).astype('int'))\n",
    "        \n",
    "        # overlay\n",
    "        cv2.drawMarker(base, limbus_center_t, (0,255,0))\n",
    "        cv2.circle(base, limbus_center_t, round(limbus_radius), (0,255,0))\n",
    "        cv2.line(base, limbus_center_t, zero_deg_loc_t, (0,255,0))\n",
    "\n",
    "    cv2.imshow('result', base)\n",
    "    cv2.imshow('markers vis', markers_vis)\n",
    "#     cv2.imshow('green', colors_polar[0])\n",
    "#     cv2.imshow('black', colors_polar[1])\n",
    "#     cv2.imshow('red', colors_polar[2])\n",
    "#     cv2.imshow('blue', colors_polar[3])\n",
    "    \n",
    "    if cv2.waitKey(25) & 0xFF == ord('q'): \n",
    "        break\n",
    "\n",
    "cap.release() \n",
    "cv2.destroyAllWindows() "
   ]
  },
  {
   "cell_type": "code",
   "execution_count": 35,
   "metadata": {
    "code_folding": [
     0
    ],
    "collapsed": true
   },
   "outputs": [
    {
     "name": "stdout",
     "output_type": "stream",
     "text": [
      "6.5 (array([5, 6, 7, 8]),)\n",
      "6.5 (array([5, 6, 7, 8]),)\n",
      "6.5 (array([5, 6, 7, 8]),)\n",
      "7.0 (array([5, 6, 7, 8, 9]),)\n",
      "6.5 (array([5, 6, 7, 8]),)\n",
      "6.5 (array([5, 6, 7, 8]),)\n",
      "6.5 (array([5, 6, 7, 8]),)\n",
      "7.5 (array([ 5,  6,  7,  8,  9, 10]),)\n",
      "6.5 (array([5, 6, 7, 8]),)\n",
      "6.5 (array([5, 6, 7, 8]),)\n",
      "6.5 (array([5, 6, 7, 8]),)\n",
      "6.5 (array([5, 6, 7, 8]),)\n",
      "7.5 (array([ 5,  6,  7,  8,  9, 10]),)\n",
      "6.5 (array([5, 6, 7, 8]),)\n",
      "6.5 (array([5, 6, 7, 8]),)\n",
      "6.0 (array([5, 6, 7]),)\n",
      "6.5 (array([5, 6, 7, 8]),)\n",
      "6.5 (array([5, 6, 7, 8]),)\n",
      "6.5 (array([5, 6, 7, 8]),)\n",
      "6.5 (array([5, 6, 7, 8]),)\n",
      "6.5 (array([5, 6, 7, 8]),)\n",
      "7.5 (array([ 5,  6,  7,  8,  9, 10]),)\n",
      "6.5 (array([5, 6, 7, 8]),)\n",
      "6.5 (array([5, 6, 7, 8]),)\n",
      "6.5 (array([5, 6, 7, 8]),)\n",
      "7.5 (array([ 5,  6,  7,  8,  9, 10]),)\n",
      "7.0 (array([5, 6, 7, 8, 9]),)\n",
      "6.0 (array([5, 6, 7]),)\n",
      "6.5 (array([5, 6, 7, 8]),)\n",
      "6.5 (array([5, 6, 7, 8]),)\n"
     ]
    }
   ],
   "source": [
    "#\n",
    "cap = cv2.VideoCapture('data/artificial/procedure5_lofi.mkv')\n",
    "\n",
    "colors_stacked = None\n",
    "colors_polar = None\n",
    "while cap.isOpened():\n",
    "    ret, base = cap.read()\n",
    "    if not ret:\n",
    "        break\n",
    "    \n",
    "    base_hsv = cv2.cvtColor(base, cv2.COLOR_BGR2HSV)\n",
    "    base_value = base_hsv[:,:,2]\n",
    "    \n",
    "    ret = detect_circle(base_value)\n",
    "    if ret is not None:\n",
    "        limbus_center, limbus_radius = ret\n",
    "        zero_deg_loc, markers_vis, colors_polar = detect_markers_entropy(\n",
    "            base_hsv, limbus_center, limbus_radius, return_verbose=True)\n",
    "        \n",
    "        limbus_center_t = tuple(np.around(limbus_center).astype('int'))\n",
    "        zero_deg_loc_t = tuple(np.around(zero_deg_loc).astype('int'))\n",
    "        \n",
    "        # overlay\n",
    "        cv2.drawMarker(base, limbus_center_t, (0,255,0))\n",
    "        cv2.circle(base, limbus_center_t, round(limbus_radius), (0,255,0))\n",
    "        cv2.line(base, limbus_center_t, zero_deg_loc_t, (0,255,0))\n",
    "\n",
    "    cv2.imshow('result', base)\n",
    "    cv2.imshow('markers vis', markers_vis)\n",
    "#     cv2.imshow('green', colors_polar[0])\n",
    "#     cv2.imshow('black', colors_polar[1])\n",
    "#     cv2.imshow('red', colors_polar[2])\n",
    "#     cv2.imshow('blue', colors_polar[3])\n",
    "    \n",
    "    if cv2.waitKey(25) & 0xFF == ord('q'): \n",
    "        break\n",
    "\n",
    "cap.release() \n",
    "cv2.destroyAllWindows() "
   ]
  },
  {
   "cell_type": "markdown",
   "metadata": {},
   "source": [
    "### 9. Outer limbus edge detection with low mean intensity based validation"
   ]
  },
  {
   "cell_type": "code",
   "execution_count": 18,
   "metadata": {
    "code_folding": [
     0
    ]
   },
   "outputs": [],
   "source": [
    "#\n",
    "considered_circles_ratio_init = 0.03\n",
    "\n",
    "cap = cv2.VideoCapture('data/artificial/procedure3_lofi.mkv')\n",
    "\n",
    "while cap.isOpened():\n",
    "    ret, base = cap.read()\n",
    "    if not ret:\n",
    "        break\n",
    "    \n",
    "    base_best_hough = base.copy()\n",
    "    base_validated_hough = base.copy()\n",
    "    base_hsv = cv2.cvtColor(base, cv2.COLOR_BGR2HSV)\n",
    "    base_value = base_hsv[:,:,2]\n",
    "    \n",
    "    circles = detect_circle(base_value, return_all=True)\n",
    "    if circles is not None:\n",
    "        # hough w/o validation\n",
    "        best_circle = circles[0]\n",
    "        limbus_center, limbus_radius = best_circle[:2], best_circle[2]\n",
    "        limbus_center_t = tuple(np.around(limbus_center).astype('int'))\n",
    "        cv2.circle(base_best_hough, limbus_center_t, round(limbus_radius), (0,0,255), 2)\n",
    "        cv2.putText(base_best_hough, 'circle index: 0', (0,30) , cv2.FONT_HERSHEY_SIMPLEX, 1, (0,0,255))\n",
    "        \n",
    "        # hough w/ validation\n",
    "        considered_circles_ratio = considered_circles_ratio_init\n",
    "        considered_circles = []\n",
    "        while len(considered_circles) == 0:\n",
    "            considered_circles = circles[:int(len(circles)*considered_circles_ratio)]\n",
    "            considered_circles_ratio *= 2\n",
    "        \n",
    "        in_out_diff_intensities = np.zeros(len(considered_circles))\n",
    "        for index, circle in enumerate(considered_circles):\n",
    "            in_out_diff_intensities[index] = get_in_out_intensity_diff(\n",
    "                base_value,\n",
    "                tuple(np.around(circle[:2]).astype('int')),\n",
    "                np.round(circle[2]).astype('int')\n",
    "            )\n",
    "            \n",
    "        best_circle_index = np.argmax(in_out_diff_intensities)\n",
    "        best_circle = considered_circles[best_circle_index]\n",
    "        \n",
    "        limbus_center, limbus_radius = best_circle[:2], best_circle[2]\n",
    "        limbus_center_t = tuple(np.around(limbus_center).astype('int'))\n",
    "        cv2.circle(base_validated_hough, limbus_center_t, round(limbus_radius), (0,255,0), 2)\n",
    "        cv2.putText(base_validated_hough, 'circle index: %d' % best_circle_index, (0,30) , cv2.FONT_HERSHEY_SIMPLEX, 1, (0,255,0))\n",
    "        \n",
    "        cv2.putText(base_validated_hough, 'circls processed: %d' % len(considered_circles), (0,60) , cv2.FONT_HERSHEY_SIMPLEX, 1, (0,255,0))\n",
    "\n",
    "    cv2.imshow('w/o validation', base_best_hough)\n",
    "    cv2.imshow('w/ validation', base_validated_hough)\n",
    "    \n",
    "    if cv2.waitKey(25) & 0xFF == ord('q'): \n",
    "        break\n",
    "\n",
    "cap.release() \n",
    "cv2.destroyAllWindows() "
   ]
  },
  {
   "cell_type": "markdown",
   "metadata": {},
   "source": [
    "### 10. Outer limbus edge detection with high-low mean intensity based validation"
   ]
  },
  {
   "cell_type": "code",
   "execution_count": 2,
   "metadata": {
    "code_folding": [
     0
    ]
   },
   "outputs": [],
   "source": [
    "#\n",
    "considered_circles_ratio_init = 0.03\n",
    "window_size = 5\n",
    "\n",
    "cap = cv2.VideoCapture('data/artificial/procedure5_lofi.mkv')\n",
    "\n",
    "window = []\n",
    "i = 0\n",
    "while cap.isOpened():\n",
    "    ret, base = cap.read()\n",
    "    if not ret:\n",
    "        break\n",
    "    \n",
    "    base_best_hough = base.copy()\n",
    "    base_validated_hough = base.copy()\n",
    "    base_smoothed_hough = base.copy()\n",
    "    base_hsv = cv2.cvtColor(base, cv2.COLOR_BGR2HSV)\n",
    "    base_value = base_hsv[:,:,2]\n",
    "    \n",
    "    circles = detect_circle(base_value, return_all=True)\n",
    "    if circles is not None:\n",
    "        # hough w/o validation\n",
    "        best_circle = circles[0]\n",
    "        limbus_center, limbus_radius = best_circle[:2], best_circle[2]\n",
    "        limbus_center_t = tuple(np.around(limbus_center).astype('int'))\n",
    "        cv2.circle(base_best_hough, limbus_center_t, round(limbus_radius), (0,0,255), 2)\n",
    "        cv2.putText(base_best_hough, 'circle index: 0', (0,30) , cv2.FONT_HERSHEY_SIMPLEX, 1, (0,0,255))\n",
    "        \n",
    "        # hough w/ validation\n",
    "        considered_circles_ratio = considered_circles_ratio_init\n",
    "        considered_circles = []\n",
    "        while len(considered_circles) == 0:\n",
    "            considered_circles = circles[:int(len(circles)*considered_circles_ratio)]\n",
    "            considered_circles_ratio *= 2\n",
    "        \n",
    "        in_out_diff_intensities = np.zeros(len(considered_circles))\n",
    "        for index, circle in enumerate(considered_circles):\n",
    "            in_out_diff_intensities[index] = get_in_out_intensity_diff(\n",
    "                base_value,\n",
    "                tuple(np.around(circle[:2]).astype('int')),\n",
    "                np.round(circle[2]).astype('int')\n",
    "            )\n",
    "            \n",
    "        best_circle_index = np.argmax(in_out_diff_intensities)\n",
    "        best_circle = considered_circles[best_circle_index]\n",
    "        \n",
    "        limbus_center, limbus_radius = best_circle[:2], best_circle[2]\n",
    "        limbus_center_t = tuple(np.around(limbus_center).astype('int'))\n",
    "        cv2.circle(base_validated_hough, limbus_center_t, round(limbus_radius), (0,255,0), 2)\n",
    "        cv2.putText(base_validated_hough, 'circle index: %d' % best_circle_index, (0,30) , cv2.FONT_HERSHEY_SIMPLEX, 1, (0,255,0))\n",
    "        cv2.putText(base_validated_hough, 'circls processed: %d' % len(considered_circles), (0,60) , cv2.FONT_HERSHEY_SIMPLEX, 1, (0,255,0))\n",
    "        \n",
    "        # hough w/ validation and smoothing\n",
    "        if i < window_size:\n",
    "            window.append(best_circle)\n",
    "        else:\n",
    "            window[i % window_size] = best_circle\n",
    "        i += 1\n",
    "            \n",
    "        best_circle = np.mean(np.array(window), axis=0)\n",
    "        limbus_center, limbus_radius = best_circle[:2], best_circle[2]\n",
    "        limbus_center_t = tuple(np.around(limbus_center).astype('int'))\n",
    "        cv2.circle(base_smoothed_hough, limbus_center_t, round(limbus_radius), (255,0,0), 2)\n",
    "\n",
    "    cv2.imshow('w/o validation', base_best_hough)\n",
    "    cv2.imshow('w/ validation', base_validated_hough)\n",
    "    cv2.imshow('w/ validation and smoothing', base_smoothed_hough)\n",
    "    \n",
    "    if cv2.waitKey(25) & 0xFF == ord('q'): \n",
    "        break\n",
    "\n",
    "cap.release() \n",
    "cv2.destroyAllWindows() "
   ]
  },
  {
   "cell_type": "markdown",
   "metadata": {},
   "source": [
    "### 11. Outer limbus edge detection with high-low mean intensity based validation with fps counter"
   ]
  },
  {
   "cell_type": "code",
   "execution_count": 20,
   "metadata": {
    "code_folding": [
     0
    ]
   },
   "outputs": [],
   "source": [
    "#\n",
    "considered_circles_ratio_init = 0.03\n",
    "window_size = 5\n",
    "frame_rate = 30\n",
    "\n",
    "cap = cv2.VideoCapture('data/artificial/procedure5_lofi.mkv')\n",
    "\n",
    "window = []\n",
    "window_num = 0\n",
    "prev_time = 0\n",
    "while cap.isOpened():\n",
    "    time_elapsed = time.time() - prev_time\n",
    "#     print(1/time_elapsed)\n",
    "    \n",
    "    ret, base = cap.read()\n",
    "    if not ret:\n",
    "        break\n",
    "    \n",
    "    base_best_hough = base.copy()\n",
    "    base_validated_hough = base.copy()\n",
    "    base_smoothed_hough = base.copy()\n",
    "    base_hsv = cv2.cvtColor(base, cv2.COLOR_BGR2HSV)\n",
    "    base_value = base_hsv[:,:,2]\n",
    "    \n",
    "    circles = detect_circle(base_value, return_all=True)\n",
    "    if circles is not None:\n",
    "        # hough w/o validation\n",
    "        best_circle = circles[0]\n",
    "        limbus_center, limbus_radius = best_circle[:2], best_circle[2]\n",
    "        limbus_center_t = tuple(np.around(limbus_center).astype('int'))\n",
    "        cv2.circle(base_best_hough, limbus_center_t, round(limbus_radius), (0,0,255), 2)\n",
    "        cv2.putText(base_best_hough, 'circle index: 0', (0,30) , cv2.FONT_HERSHEY_SIMPLEX, 1, (0,0,255))\n",
    "        \n",
    "        # hough w/ validation\n",
    "        considered_circles_ratio = considered_circles_ratio_init\n",
    "        considered_circles = []\n",
    "        while len(considered_circles) == 0:\n",
    "            considered_circles = circles[:int(len(circles)*considered_circles_ratio)]\n",
    "            considered_circles_ratio *= 2\n",
    "        \n",
    "        in_out_diff_intensities = np.zeros(len(considered_circles))\n",
    "        for index, circle in enumerate(considered_circles):\n",
    "            in_out_diff_intensities[index] = get_in_out_intensity_diff(\n",
    "                base_value,\n",
    "                tuple(np.around(circle[:2]).astype('int')),\n",
    "                np.round(circle[2]).astype('int')\n",
    "            )\n",
    "            \n",
    "        best_circle_index = np.argmax(in_out_diff_intensities)\n",
    "        best_circle = considered_circles[best_circle_index]\n",
    "        \n",
    "        limbus_center, limbus_radius = best_circle[:2], best_circle[2]\n",
    "        limbus_center_t = tuple(np.around(limbus_center).astype('int'))\n",
    "        cv2.circle(base_validated_hough, limbus_center_t, round(limbus_radius), (0,255,0), 2)\n",
    "        cv2.putText(base_validated_hough, 'circle index: %d' % best_circle_index, (0,30) , cv2.FONT_HERSHEY_SIMPLEX, 1, (0,255,0))\n",
    "        cv2.putText(base_validated_hough, 'circls processed: %d' % len(considered_circles), (0,60) , cv2.FONT_HERSHEY_SIMPLEX, 1, (0,255,0))\n",
    "        \n",
    "        # hough w/ validation and smoothing\n",
    "        if window_num < window_size:\n",
    "            window.append(best_circle)\n",
    "        else:\n",
    "            window[window_num % window_size] = best_circle\n",
    "        window_num += 1\n",
    "            \n",
    "        best_circle = np.mean(np.array(window), axis=0)\n",
    "        limbus_center, limbus_radius = best_circle[:2], best_circle[2]\n",
    "        limbus_center_t = tuple(np.around(limbus_center).astype('int'))\n",
    "        cv2.circle(base_smoothed_hough, limbus_center_t, round(limbus_radius), (255,0,0), 2)\n",
    "\n",
    "    cv2.imshow('w/o validation', base_best_hough)\n",
    "    cv2.imshow('w/ validation', base_validated_hough)\n",
    "    cv2.imshow('w/ validation and smoothing', base_smoothed_hough)\n",
    "\n",
    "    prev_time = time.time()\n",
    "    \n",
    "    if cv2.waitKey(25) & 0xFF == ord('q'): \n",
    "        break\n",
    "\n",
    "cap.release() \n",
    "cv2.destroyAllWindows() "
   ]
  },
  {
   "cell_type": "markdown",
   "metadata": {},
   "source": [
    "### 12. Outer limbus edge detection with high-low mean intensity based validation with color marker detection"
   ]
  },
  {
   "cell_type": "code",
   "execution_count": 24,
   "metadata": {
    "code_folding": [
     0
    ]
   },
   "outputs": [],
   "source": [
    "#\n",
    "considered_circles_ratio_init = 0.03\n",
    "window_size = 5\n",
    "cap = cv2.VideoCapture('data/artificial/procedure5_lofi.mkv')\n",
    "\n",
    "window = []\n",
    "window_num = 0\n",
    "colors_stacked = None\n",
    "colors_polar = None\n",
    "while cap.isOpened():\n",
    "    ret, base = cap.read()\n",
    "    if not ret:\n",
    "        break\n",
    "    \n",
    "    base_best_hough = base.copy()\n",
    "    base_validated_hough = base.copy()\n",
    "    base_smoothed_hough = base.copy()\n",
    "    base_hsv = cv2.cvtColor(base, cv2.COLOR_BGR2HSV)\n",
    "    base_value = base_hsv[:,:,2]\n",
    "    \n",
    "    circles = detect_circle(base_value, return_all=True)\n",
    "    if circles is not None:\n",
    "        # hough w/o validation\n",
    "        best_circle = circles[0]\n",
    "        limbus_center, limbus_radius = best_circle[:2], best_circle[2]\n",
    "        limbus_center_t = tuple(np.around(limbus_center).astype('int'))\n",
    "        cv2.circle(base_best_hough, limbus_center_t, round(limbus_radius), (0,0,255), 2)\n",
    "        cv2.putText(base_best_hough, 'circle index: 0', (0,30) , cv2.FONT_HERSHEY_SIMPLEX, 1, (0,0,255))\n",
    "        \n",
    "        zero_deg_loc, markers_vis, _, colors_polar = detect_markers_entropy(\n",
    "            base_hsv, limbus_center, limbus_radius, return_verbose=True)\n",
    "        limbus_center_t = tuple(np.around(limbus_center).astype('int'))\n",
    "        zero_deg_loc_t = tuple(np.around(zero_deg_loc).astype('int'))\n",
    "        cv2.drawMarker(base_best_hough, limbus_center_t, (0,0,255))\n",
    "        cv2.circle(base_best_hough, limbus_center_t, round(limbus_radius), (0,0,255))\n",
    "        cv2.line(base_best_hough, limbus_center_t, zero_deg_loc_t, (0,0,255))\n",
    "        \n",
    "        # hough w/ validation\n",
    "        considered_circles_ratio = considered_circles_ratio_init\n",
    "        considered_circles = []\n",
    "        while len(considered_circles) == 0:\n",
    "            considered_circles = circles[:int(len(circles)*considered_circles_ratio)]\n",
    "            considered_circles_ratio *= 2\n",
    "        \n",
    "        in_out_diff_intensities = np.zeros(len(considered_circles))\n",
    "        for index, circle in enumerate(considered_circles):\n",
    "            in_out_diff_intensities[index] = get_in_out_intensity_diff(\n",
    "                base_value,\n",
    "                tuple(np.around(circle[:2]).astype('int')),\n",
    "                np.round(circle[2]).astype('int')\n",
    "            )\n",
    "            \n",
    "        best_circle_index = np.argmax(in_out_diff_intensities)\n",
    "        best_circle = considered_circles[best_circle_index]\n",
    "        \n",
    "        limbus_center, limbus_radius = best_circle[:2], best_circle[2]\n",
    "        limbus_center_t = tuple(np.around(limbus_center).astype('int'))\n",
    "        cv2.circle(base_validated_hough, limbus_center_t, round(limbus_radius), (0,255,0), 2)\n",
    "        cv2.putText(base_validated_hough, 'circle index: %d' % best_circle_index, (0,30) , cv2.FONT_HERSHEY_SIMPLEX, 1, (0,255,0))\n",
    "        cv2.putText(base_validated_hough, 'circls processed: %d' % len(considered_circles), (0,60) , cv2.FONT_HERSHEY_SIMPLEX, 1, (0,255,0))\n",
    "        \n",
    "        zero_deg_loc, markers_vis, _, colors_polar = detect_markers_entropy(\n",
    "            base_hsv, limbus_center, limbus_radius, return_verbose=True)\n",
    "        limbus_center_t = tuple(np.around(limbus_center).astype('int'))\n",
    "        zero_deg_loc_t = tuple(np.around(zero_deg_loc).astype('int'))\n",
    "        cv2.drawMarker(base_validated_hough, limbus_center_t, (0,255,0))\n",
    "        cv2.circle(base_validated_hough, limbus_center_t, round(limbus_radius), (0,255,0))\n",
    "        cv2.line(base_validated_hough, limbus_center_t, zero_deg_loc_t, (0,255,0))\n",
    "        \n",
    "        # hough w/ validation and smoothing\n",
    "        if window_num < window_size:\n",
    "            window.append(best_circle)\n",
    "        else:\n",
    "            window[window_num % window_size] = best_circle\n",
    "        window_num += 1\n",
    "            \n",
    "        best_circle = np.mean(np.array(window), axis=0)\n",
    "        limbus_center, limbus_radius = best_circle[:2], best_circle[2]\n",
    "        limbus_center_t = tuple(np.around(limbus_center).astype('int'))\n",
    "        cv2.circle(base_smoothed_hough, limbus_center_t, round(limbus_radius), (255,0,0), 2)\n",
    "        \n",
    "        zero_deg_loc, markers_vis, _, colors_polar = detect_markers_entropy(\n",
    "            base_hsv, limbus_center, limbus_radius, return_verbose=True)\n",
    "        limbus_center_t = tuple(np.around(limbus_center).astype('int'))\n",
    "        zero_deg_loc_t = tuple(np.around(zero_deg_loc).astype('int'))\n",
    "        cv2.drawMarker(base_smoothed_hough, limbus_center_t, (255,0,0))\n",
    "        cv2.circle(base_smoothed_hough, limbus_center_t, round(limbus_radius), (255,0,0))\n",
    "        cv2.line(base_smoothed_hough, limbus_center_t, zero_deg_loc_t, (255,0,0))\n",
    "\n",
    "    cv2.imshow('w/o validation', base_best_hough)\n",
    "    cv2.imshow('w/ validation', base_validated_hough)\n",
    "    cv2.imshow('w/ validation and smoothing', base_smoothed_hough)\n",
    "    \n",
    "    if cv2.waitKey(25) & 0xFF == ord('q'): \n",
    "        break\n",
    "\n",
    "cap.release() \n",
    "cv2.destroyAllWindows() "
   ]
  },
  {
   "cell_type": "markdown",
   "metadata": {},
   "source": [
    "### 13. Outer limbus edge detection with high-low mean intensity based validation with color marker detection (capture)"
   ]
  },
  {
   "cell_type": "code",
   "execution_count": 44,
   "metadata": {
    "code_folding": [
     0
    ]
   },
   "outputs": [],
   "source": [
    "#\n",
    "considered_circles_ratio_init = 0.03\n",
    "window_size = 5\n",
    "cap = cv2.VideoCapture('data/artificial/procedure5_lofi.mkv')\n",
    "\n",
    "best_hough_out = cv2.VideoWriter('best_hough.mp4', cv2.VideoWriter_fourcc(*'mp4v'), 30,\n",
    "    (int(cap.get(cv2.CAP_PROP_FRAME_WIDTH)), int(cap.get(cv2.CAP_PROP_FRAME_HEIGHT))))\n",
    "validated_hough_out = cv2.VideoWriter('validated_hough.mp4', cv2.VideoWriter_fourcc(*'mp4v'), 30,\n",
    "    (int(cap.get(cv2.CAP_PROP_FRAME_WIDTH)), int(cap.get(cv2.CAP_PROP_FRAME_HEIGHT))))\n",
    "smoothed_hough_out = cv2.VideoWriter('smoothed_hough.mp4', cv2.VideoWriter_fourcc(*'mp4v'), 30,\n",
    "    (int(cap.get(cv2.CAP_PROP_FRAME_WIDTH)), int(cap.get(cv2.CAP_PROP_FRAME_HEIGHT))))\n",
    "\n",
    "window = []\n",
    "window_num = 0\n",
    "colors_stacked = None\n",
    "colors_polar = None\n",
    "while cap.isOpened():\n",
    "    ret, base = cap.read()\n",
    "    if not ret:\n",
    "        break\n",
    "    \n",
    "    base_best_hough = base.copy()\n",
    "    base_validated_hough = base.copy()\n",
    "    base_smoothed_hough = base.copy()\n",
    "    base_hsv = cv2.cvtColor(base, cv2.COLOR_BGR2HSV)\n",
    "    base_value = base_hsv[:,:,2]\n",
    "    \n",
    "    circles = detect_circle(base_value, return_all=True)\n",
    "    if circles is not None:\n",
    "        # hough w/o validation\n",
    "        best_circle = circles[0]\n",
    "        limbus_center, limbus_radius = best_circle[:2], best_circle[2]\n",
    "        limbus_center_t = tuple(np.around(limbus_center).astype('int'))\n",
    "        cv2.circle(base_best_hough, limbus_center_t, round(limbus_radius), (0,0,255), 2)\n",
    "        cv2.putText(base_best_hough, 'circle index: 0', (0,30) , cv2.FONT_HERSHEY_SIMPLEX, 1, (0,0,255))\n",
    "        \n",
    "        zero_deg_loc, markers_vis, colors_polar = detect_markers_entropy(\n",
    "            base_hsv, limbus_center, limbus_radius, return_verbose=True)\n",
    "        limbus_center_t = tuple(np.around(limbus_center).astype('int'))\n",
    "        zero_deg_loc_t = tuple(np.around(zero_deg_loc).astype('int'))\n",
    "        cv2.drawMarker(base_best_hough, limbus_center_t, (0,0,255))\n",
    "        cv2.circle(base_best_hough, limbus_center_t, round(limbus_radius), (0,0,255))\n",
    "        cv2.line(base_best_hough, limbus_center_t, zero_deg_loc_t, (0,0,255))\n",
    "        \n",
    "        # hough w/ validation\n",
    "        considered_circles_ratio = considered_circles_ratio_init\n",
    "        considered_circles = []\n",
    "        while len(considered_circles) == 0:\n",
    "            considered_circles = circles[:int(len(circles)*considered_circles_ratio)]\n",
    "            considered_circles_ratio *= 2\n",
    "        \n",
    "        in_out_diff_intensities = np.zeros(len(considered_circles))\n",
    "        for index, circle in enumerate(considered_circles):\n",
    "            in_out_diff_intensities[index] = get_in_out_intensity_diff(\n",
    "                base_value,\n",
    "                tuple(np.around(circle[:2]).astype('int')),\n",
    "                np.round(circle[2]).astype('int')\n",
    "            )\n",
    "            \n",
    "        best_circle_index = np.argmax(in_out_diff_intensities)\n",
    "        best_circle = considered_circles[best_circle_index]\n",
    "        \n",
    "        limbus_center, limbus_radius = best_circle[:2], best_circle[2]\n",
    "        limbus_center_t = tuple(np.around(limbus_center).astype('int'))\n",
    "        cv2.circle(base_validated_hough, limbus_center_t, round(limbus_radius), (0,255,0), 2)\n",
    "        cv2.putText(base_validated_hough, 'circle index: %d' % best_circle_index, (0,30) , cv2.FONT_HERSHEY_SIMPLEX, 1, (0,255,0))\n",
    "        cv2.putText(base_validated_hough, 'circls processed: %d' % len(considered_circles), (0,60) , cv2.FONT_HERSHEY_SIMPLEX, 1, (0,255,0))\n",
    "        \n",
    "        zero_deg_loc, markers_vis, colors_polar = detect_markers_entropy(\n",
    "            base_hsv, limbus_center, limbus_radius, return_verbose=True)\n",
    "        limbus_center_t = tuple(np.around(limbus_center).astype('int'))\n",
    "        zero_deg_loc_t = tuple(np.around(zero_deg_loc).astype('int'))\n",
    "        cv2.drawMarker(base_validated_hough, limbus_center_t, (0,255,0))\n",
    "        cv2.circle(base_validated_hough, limbus_center_t, round(limbus_radius), (0,255,0))\n",
    "        cv2.line(base_validated_hough, limbus_center_t, zero_deg_loc_t, (0,255,0))\n",
    "        \n",
    "        # hough w/ validation and smoothing\n",
    "        if window_num < window_size:\n",
    "            window.append(best_circle)\n",
    "        else:\n",
    "            window[window_num % window_size] = best_circle\n",
    "        window_num += 1\n",
    "            \n",
    "        best_circle = np.mean(np.array(window), axis=0)\n",
    "        limbus_center, limbus_radius = best_circle[:2], best_circle[2]\n",
    "        limbus_center_t = tuple(np.around(limbus_center).astype('int'))\n",
    "        cv2.circle(base_smoothed_hough, limbus_center_t, round(limbus_radius), (255,0,0), 2)\n",
    "        \n",
    "        zero_deg_loc, markers_vis, colors_polar = detect_markers_entropy(\n",
    "            base_hsv, limbus_center, limbus_radius, return_verbose=True)\n",
    "        limbus_center_t = tuple(np.around(limbus_center).astype('int'))\n",
    "        zero_deg_loc_t = tuple(np.around(zero_deg_loc).astype('int'))\n",
    "        cv2.drawMarker(base_smoothed_hough, limbus_center_t, (255,0,0))\n",
    "        cv2.circle(base_smoothed_hough, limbus_center_t, round(limbus_radius), (255,0,0))\n",
    "        cv2.line(base_smoothed_hough, limbus_center_t, zero_deg_loc_t, (255,0,0))\n",
    "\n",
    "    best_hough_out.write(base_best_hough)\n",
    "    validated_hough_out.write(base_validated_hough)\n",
    "    smoothed_hough_out.write(base_smoothed_hough)\n",
    "    \n",
    "    if cv2.waitKey(25) & 0xFF == ord('q'): \n",
    "        break\n",
    "\n",
    "cap.release() \n",
    "best_hough_out.release()\n",
    "validated_hough_out.release()\n",
    "smoothed_hough_out.release()\n",
    "cv2.destroyAllWindows() "
   ]
  },
  {
   "cell_type": "markdown",
   "metadata": {},
   "source": [
    "### 14. Rhexis eye pupil segmentation"
   ]
  },
  {
   "cell_type": "code",
   "execution_count": 3,
   "metadata": {
    "code_folding": [
     0
    ]
   },
   "outputs": [],
   "source": [
    "#\n",
    "cap = cv2.VideoCapture('data/artificial/bioniko_rhexis_lofi.mkv')\n",
    "pupil_color_lth = np.array([15, 50, 50])\n",
    "pupil_color_uth = np.array([30, 150, 150])\n",
    "\n",
    "while cap.isOpened():\n",
    "    ret, base = cap.read()\n",
    "    if not ret:\n",
    "        break\n",
    "    \n",
    "    base_hsv = cv2.cvtColor(base, cv2.COLOR_BGR2HSV)\n",
    "    base_pupil_color = cv2.inRange(base_hsv, pupil_color_lth, pupil_color_uth)\n",
    "    base_pupil_color = 255 - base_pupil_color\n",
    "    \n",
    "    cv2.imshow('base', base)\n",
    "    cv2.imshow('pupil color segmentation', base_pupil_color)\n",
    "    \n",
    "    if cv2.waitKey(25) & 0xFF == ord('q'): \n",
    "        break\n",
    "\n",
    "cap.release() \n",
    "cv2.destroyAllWindows() "
   ]
  },
  {
   "cell_type": "markdown",
   "metadata": {},
   "source": [
    "### 15. Rhexis eye outer ring edge detection with high-low mean intensity based validation and color thresholding preprocessing"
   ]
  },
  {
   "cell_type": "code",
   "execution_count": 2,
   "metadata": {
    "code_folding": [
     0
    ]
   },
   "outputs": [],
   "source": [
    "#\n",
    "cap = cv2.VideoCapture('data/artificial/bioniko_rhexis_lofi.mkv')\n",
    "pupil_color_lth = np.array([10, 40, 40])\n",
    "pupil_color_uth = np.array([30, 180, 180])\n",
    "considered_circles_ratio_init = 0.5\n",
    "\n",
    "out_intensities = []\n",
    "in_intensities = []\n",
    "while cap.isOpened():\n",
    "    ret, base = cap.read()\n",
    "    if not ret:\n",
    "        break\n",
    "    \n",
    "    base_validated_hough = base.copy()\n",
    "    base_hsv = cv2.cvtColor(base, cv2.COLOR_BGR2HSV)\n",
    "    base_pupil_color = cv2.inRange(base_hsv, pupil_color_lth, pupil_color_uth)\n",
    "    base_pupil_color = 255 - base_pupil_color\n",
    "    \n",
    "    circles = detect_circle(base_pupil_color, return_all=True)\n",
    "    if circles is not None:        \n",
    "        # hough w/ validation\n",
    "        considered_circles_ratio = considered_circles_ratio_init\n",
    "        considered_circles = []\n",
    "        while len(considered_circles) == 0:\n",
    "            considered_circles = circles[:int(len(circles)*considered_circles_ratio)]\n",
    "            considered_circles_ratio *= 2\n",
    "        \n",
    "        in_out_diff_intensities = np.zeros(len(considered_circles))\n",
    "        out_intensities_cur = np.zeros(len(considered_circles))\n",
    "        in_intensities_cur = np.zeros(len(considered_circles))\n",
    "        for index, circle in enumerate(considered_circles):\n",
    "            in_mean = get_mean_intensity(\n",
    "                base_pupil_color,\n",
    "                tuple(np.around(circle[:2]).astype('int')),\n",
    "                np.round(circle[2]).astype('int'),\n",
    "                mode='filled'\n",
    "            )\n",
    "            out_mean = get_mean_intensity(\n",
    "                base_pupil_color,\n",
    "#                 base_hsv[:,:,2],\n",
    "                tuple(np.around(circle[:2]).astype('int')),\n",
    "                np.round(circle[2]).astype('int'),\n",
    "                width_to_radius_ratio=0.2,\n",
    "                mode='out'\n",
    "            )\n",
    "            \n",
    "#             print('in', in_mean, 'out', out_mean)\n",
    "#             in_out_diff_intensities[index] = 0.5*out_mean - in_mean\n",
    "#             in_out_diff_intensities[index] = -in_mean\n",
    "            in_out_diff_intensities[index] = (out_mean - 228) - 2.8*(in_mean - 30)\n",
    "#             in_out_diff_intensities[index] = out_mean\n",
    "            out_intensities_cur[index] = out_mean\n",
    "            in_intensities_cur[index] = in_mean\n",
    "            \n",
    "        best_circle_index = np.argmax(in_out_diff_intensities)\n",
    "        out_intensities.append(out_intensities_cur[best_circle_index])\n",
    "        in_intensities.append(in_intensities_cur[best_circle_index])\n",
    "        \n",
    "        best_circle = considered_circles[best_circle_index]\n",
    "        \n",
    "        limbus_center, limbus_radius = best_circle[:2], best_circle[2]\n",
    "        limbus_center_t = tuple(np.around(limbus_center).astype('int'))\n",
    "        cv2.circle(base_validated_hough, limbus_center_t, round(limbus_radius), (0,255,0), 2)\n",
    "        cv2.putText(base_validated_hough, 'circle index: %d' % best_circle_index, (0,30) , cv2.FONT_HERSHEY_SIMPLEX, 1, (0,255,0))\n",
    "        cv2.putText(base_validated_hough, 'circls processed: %d' % len(considered_circles), (0,60) , cv2.FONT_HERSHEY_SIMPLEX, 1, (0,255,0))\n",
    "    \n",
    "    cv2.imshow('base validated hough', base_validated_hough)\n",
    "    cv2.imshow('pupil color segmentation', base_pupil_color)\n",
    "    cv2.imshow('base value', base_hsv[:,:,2])\n",
    "    \n",
    "    if cv2.waitKey(25) & 0xFF == ord('q'): \n",
    "        break\n",
    "\n",
    "cap.release() \n",
    "cv2.destroyAllWindows() "
   ]
  },
  {
   "cell_type": "markdown",
   "metadata": {},
   "source": [
    "### 16. Rhexis eye outer ring edge detection with high-low mean intensity based validation and color thresholding preprocessing + smoothing"
   ]
  },
  {
   "cell_type": "code",
   "execution_count": null,
   "metadata": {
    "code_folding": [
     0
    ],
    "collapsed": true
   },
   "outputs": [],
   "source": [
    "#\n",
    "cap = cv2.VideoCapture('data/artificial/bioniko_rhexis_lofi.mkv')\n",
    "window_size = 5\n",
    "pupil_color_lth = np.array([10, 40, 40])\n",
    "pupil_color_uth = np.array([30, 180, 180])\n",
    "considered_circles_ratio_init = 0.5\n",
    "limbus_to_outer_ratio = 0.68\n",
    "\n",
    "out_intensities = []\n",
    "in_intensities = []\n",
    "window = []\n",
    "window_num = 0\n",
    "while cap.isOpened():\n",
    "    ret, base = cap.read()\n",
    "    if not ret:\n",
    "        break\n",
    "    \n",
    "    base_validated_hough = base.copy()\n",
    "    base_smoothed_hough = base.copy()\n",
    "    base_hsv = cv2.cvtColor(base, cv2.COLOR_BGR2HSV)\n",
    "    base_pupil_color = cv2.inRange(base_hsv, pupil_color_lth, pupil_color_uth)\n",
    "    base_pupil_color = 255 - base_pupil_color\n",
    "    \n",
    "    circles = detect_circle(base_pupil_color, return_all=True)\n",
    "    if circles is not None:        \n",
    "        # hough w/ validation\n",
    "        considered_circles_ratio = considered_circles_ratio_init\n",
    "        considered_circles = []\n",
    "        while len(considered_circles) == 0:\n",
    "            considered_circles = circles[:int(len(circles)*considered_circles_ratio)]\n",
    "            considered_circles_ratio *= 2\n",
    "        \n",
    "        in_out_diff_intensities = np.zeros(len(considered_circles))\n",
    "        out_intensities_cur = np.zeros(len(considered_circles))\n",
    "        in_intensities_cur = np.zeros(len(considered_circles))\n",
    "        for index, circle in enumerate(considered_circles):\n",
    "            in_mean = get_mean_intensity(\n",
    "                base_pupil_color,\n",
    "                tuple(np.around(circle[:2]).astype('int')),\n",
    "                np.round(circle[2]).astype('int'),\n",
    "                mode='filled'\n",
    "            )\n",
    "            out_mean = get_mean_intensity(\n",
    "                base_pupil_color,\n",
    "#                 base_hsv[:,:,2],\n",
    "                tuple(np.around(circle[:2]).astype('int')),\n",
    "                np.round(circle[2]).astype('int'),\n",
    "                width_to_radius_ratio=0.2,\n",
    "                mode='out'\n",
    "            )\n",
    "            \n",
    "#             print('in', in_mean, 'out', out_mean)\n",
    "#             in_out_diff_intensities[index] = 0.5*out_mean - in_mean\n",
    "#             in_out_diff_intensities[index] = -in_mean\n",
    "            in_out_diff_intensities[index] = (out_mean - 228) - 2.8*(in_mean - 30)\n",
    "#             in_out_diff_intensities[index] = out_mean\n",
    "            out_intensities_cur[index] = out_mean\n",
    "            in_intensities_cur[index] = in_mean\n",
    "            \n",
    "        best_circle_index = np.argmax(in_out_diff_intensities)\n",
    "        out_intensities.append(out_intensities_cur[best_circle_index])\n",
    "        in_intensities.append(in_intensities_cur[best_circle_index])\n",
    "        \n",
    "        best_circle = considered_circles[best_circle_index]\n",
    "        \n",
    "        limbus_center, limbus_radius = best_circle[:2], best_circle[2]\n",
    "        limbus_center_t = tuple(np.around(limbus_center).astype('int'))\n",
    "        cv2.circle(base_validated_hough, limbus_center_t, round(limbus_to_outer_ratio*limbus_radius), (0,255,0), 2)\n",
    "        cv2.putText(base_validated_hough, 'circle index: %d' % best_circle_index, (0,30) , cv2.FONT_HERSHEY_SIMPLEX, 1, (0,255,0))\n",
    "        cv2.putText(base_validated_hough, 'circls processed: %d' % len(considered_circles), (0,60) , cv2.FONT_HERSHEY_SIMPLEX, 1, (0,255,0))\n",
    "        \n",
    "        # hough w/ validation and smoothing\n",
    "        if window_num < window_size:\n",
    "            window.append(best_circle)\n",
    "        else:\n",
    "            window[window_num % window_size] = best_circle\n",
    "        window_num += 1\n",
    "            \n",
    "        best_circle = np.mean(np.array(window), axis=0)\n",
    "        limbus_center, limbus_radius = best_circle[:2], best_circle[2]\n",
    "        limbus_center_t = tuple(np.around(limbus_center).astype('int'))\n",
    "        cv2.circle(base_smoothed_hough, limbus_center_t, round(limbus_to_outer_ratio*limbus_radius), (255,0,0), 2)\n",
    "    \n",
    "    cv2.imshow('base validated hough', base_validated_hough)\n",
    "    cv2.imshow('base smoothed hough', base_smoothed_hough)\n",
    "    cv2.imshow('pupil color segmentation', base_pupil_color)\n",
    "    cv2.imshow('base value', base_hsv[:,:,2])\n",
    "    \n",
    "    if cv2.waitKey(25) & 0xFF == ord('q'): \n",
    "        break\n",
    "\n",
    "cap.release() \n",
    "cv2.destroyAllWindows() "
   ]
  },
  {
   "cell_type": "markdown",
   "metadata": {},
   "source": [
    "### 15. Limbus detection using keypoint matching with intialization"
   ]
  },
  {
   "cell_type": "code",
   "execution_count": 21,
   "metadata": {
    "code_folding": [
     0
    ]
   },
   "outputs": [],
   "source": [
    "#\n",
    "cap = cv2.VideoCapture('data/artificial/procedure5_lofi.mkv')\n",
    "best_circle_first_frame = None\n",
    "is_first_frame = True\n",
    "previous_frame_value = None\n",
    "transform = np.eye(3)\n",
    "\n",
    "while cap.isOpened():\n",
    "    ret, base = cap.read()\n",
    "    if not ret:\n",
    "        break\n",
    "    \n",
    "    base_hsv = cv2.cvtColor(base, cv2.COLOR_BGR2HSV)\n",
    "    base_value = base_hsv[:,:,2]\n",
    "    \n",
    "    if is_first_frame:\n",
    "        best_circle_first_frame = detect_circle(base_value, validation='inout')\n",
    "        previous_frame_value = base_value\n",
    "        is_first_frame = False\n",
    "    \n",
    "    cur_transform = estimate_transform(previous_frame_value, base_value)\n",
    "    if cur_transform is not None:\n",
    "        previous_frame_value = base_value\n",
    "        cur_transform = np.vstack((cur_transform, np.array((0, 0, 1))))\n",
    "        transform = cur_transform @ transform\n",
    "    \n",
    "    limbus_center = (transform @ np.concatenate((best_circle_first_frame[:2], np.array((1,)))))[:2]\n",
    "    limbus_radius = get_transform_info(transform, parameter='scale') * best_circle_first_frame[2]\n",
    "    \n",
    "    base_copy = base.copy()\n",
    "    limbus_center_t = tuple(np.around(limbus_center).astype('int'))\n",
    "    cv2.circle(base_copy, limbus_center_t, round(limbus_radius), (0,0,255), 2)\n",
    "    \n",
    "    cv2.imshow('result', base_copy)\n",
    "        \n",
    "    previous_frame_value = base_value\n",
    "        \n",
    "    if cv2.waitKey(25) & 0xFF == ord('q'): \n",
    "        break\n",
    "\n",
    "cap.release() \n",
    "cv2.destroyAllWindows() "
   ]
  },
  {
   "cell_type": "code",
   "execution_count": null,
   "metadata": {},
   "outputs": [],
   "source": []
  },
  {
   "cell_type": "code",
   "execution_count": null,
   "metadata": {},
   "outputs": [],
   "source": []
  },
  {
   "cell_type": "code",
   "execution_count": 57,
   "metadata": {},
   "outputs": [],
   "source": [
    "\n",
    "MAX_WINDOW_SIZE = 10\n",
    "window = []\n",
    "\n",
    "cap = cv2.VideoCapture('data/artificial/rhexis_input_augmented.mp4')\n",
    "\n",
    "view_mask = None\n",
    "view_circle = None\n",
    "last_out_of_view_std = None\n",
    "while cap.isOpened():\n",
    "    ret, base = cap.read()\n",
    "    if not ret:\n",
    "        break\n",
    "        \n",
    "    # color conversion\n",
    "    base_hsv = cv2.cvtColor(base, cv2.COLOR_BGR2HSV)\n",
    "    base_value = base_hsv[:,:,2]\n",
    "    \n",
    "    # view mask\n",
    "    if view_mask is None:\n",
    "        view_mask, view_circle = get_view_mask(base_value, radius_shrink=0.95, return_circle=True)\n",
    "        last_out_of_view_std = np.std(base_value[view_mask == 0])\n",
    "        \n",
    "    out_of_view_mean = np.mean(base_value[view_mask == 0])\n",
    "    out_of_view_std = np.std(base_value[view_mask == 0])\n",
    "    cv2.putText(\n",
    "        base, \n",
    "        'out of view: mean %f std %f' % (out_of_view_mean, out_of_view_std), \n",
    "        (20,20), cv2.FONT_HERSHEY_SIMPLEX, 0.5, (0,255,0)\n",
    "    )\n",
    "    \n",
    "    if out_of_view_std > (2 * last_out_of_view_std):\n",
    "        view_mask, view_circle = get_view_mask(base_value, radius_shrink=0.95, return_circle=True)\n",
    "        last_out_of_view_std = np.std(base_value[view_mask == 0])\n",
    "    \n",
    "    # circle detection\n",
    "    best_circle = None\n",
    "    circles = detect_circle(\n",
    "        base_value,\n",
    "        return_all=True\n",
    "    )\n",
    "    if circles is not None:\n",
    "        circles = [\n",
    "            circle\n",
    "            for circle in circles\n",
    "            if not (\n",
    "                (\n",
    "                    0.9*view_circle[2] < circle[2] < 1.1*view_circle[2]\n",
    "                    or\n",
    "                    0.9*circle[2] < view_circle[2] < 1.1*circle[2]\n",
    "                )\n",
    "            )\n",
    "#             if circle[2] < view_circle[2]\n",
    "#             if not (np.linalg.norm(circle[:2] - view_circle[:2]) + view_circle[2]) <= circle[2]\n",
    "#             if (np.linalg.norm(circle[:2] - view_circle[:2]) + circle[2]) <= 1.1*view_circle[2]\n",
    "        ]\n",
    "        circles = circles[:20]\n",
    "\n",
    "        in_out_diff_intensities = np.zeros(len(circles))\n",
    "        for index, circle in enumerate(circles):\n",
    "            in_out_diff_intensities[index] = get_in_out_intensity_diff(\n",
    "                base_value,\n",
    "                tuple(np.around(circle[:2]).astype('int')),\n",
    "                np.round(circle[2]).astype('int'),\n",
    "                view_mask=view_mask,\n",
    "                circle_width_to_radius_ratio=0.088\n",
    "            )\n",
    "        if not np.isnan(in_out_diff_intensities).all():\n",
    "#             print(np.nanargmin(in_out_diff_intensities))\n",
    "            best_circle = circles[np.nanargmin(in_out_diff_intensities)]\n",
    "    \n",
    "    if best_circle is not None:\n",
    "        window.append(best_circle)\n",
    "        if len(window) > MAX_WINDOW_SIZE:\n",
    "            window = window[1:]\n",
    "        best_circle = np.mean(window, axis=0)\n",
    "        cv2.circle(base, (round(best_circle[0]), round(best_circle[1])), round(best_circle[2]), (0,255,0))\n",
    "    \n",
    "    cv2.circle(base, (round(view_circle[0]), round(view_circle[1])), round(view_circle[2]), (255,0,0))\n",
    "\n",
    "    cv2.imshow('view mask', view_mask)\n",
    "    cv2.imshow('original', base)\n",
    "    \n",
    "    if cv2.waitKey(25) & 0xFF == ord('q'):\n",
    "        break\n",
    "\n",
    "cap.release() \n",
    "for _ in range(10):\n",
    "    cv2.destroyAllWindows()\n",
    "    cv2.waitKey(1)\n"
   ]
  },
  {
   "cell_type": "code",
   "execution_count": 35,
   "metadata": {},
   "outputs": [
    {
     "data": {
      "text/plain": [
       "array([334.5    , 209.16667,  80.43333], dtype=float32)"
      ]
     },
     "execution_count": 35,
     "metadata": {},
     "output_type": "execute_result"
    }
   ],
   "source": [
    "window = [circles[0], circles[1], circles[2]]\n",
    "np.mean(window, axis=0)"
   ]
  },
  {
   "cell_type": "code",
   "execution_count": 36,
   "metadata": {},
   "outputs": [
    {
     "data": {
      "text/plain": [
       "[array([335.5, 209.5,  76.7], dtype=float32),\n",
       " array([333.5, 210.5,  77.2], dtype=float32),\n",
       " array([334.5, 207.5,  87.4], dtype=float32)]"
      ]
     },
     "execution_count": 36,
     "metadata": {},
     "output_type": "execute_result"
    }
   ],
   "source": [
    "window"
   ]
  },
  {
   "cell_type": "code",
   "execution_count": 34,
   "metadata": {},
   "outputs": [
    {
     "data": {
      "text/plain": [
       "array([  0, 255], dtype=uint8)"
      ]
     },
     "execution_count": 34,
     "metadata": {},
     "output_type": "execute_result"
    }
   ],
   "source": [
    "np.unique(view_mask)"
   ]
  },
  {
   "cell_type": "code",
   "execution_count": 49,
   "metadata": {},
   "outputs": [
    {
     "data": {
      "image/png": "[encoded data removed]",
      "text/plain": [
       "<Figure size 432x288 with 1 Axes>"
      ]
     },
     "metadata": {
      "needs_background": "light"
     },
     "output_type": "display_data"
    }
   ],
   "source": [
    "test = np.zeros_like(view_mask)\n",
    "test = cv2.putText(test, 'test', (300,200), cv2.FONT_HERSHEY_SIMPLEX, 5, 255, 3)\n",
    "\n",
    "plt.imshow(test, cmap='gray')\n",
    "plt.axis('off')\n",
    "plt.show()"
   ]
  },
  {
   "cell_type": "code",
   "execution_count": 50,
   "metadata": {},
   "outputs": [
    {
     "data": {
      "image/png": "[encoded data removed]",
      "text/plain": [
       "<Figure size 432x288 with 1 Axes>"
      ]
     },
     "metadata": {
      "needs_background": "light"
     },
     "output_type": "display_data"
    }
   ],
   "source": [
    "tt = test & view_mask\n",
    "\n",
    "plt.imshow(tt, cmap='gray')\n",
    "plt.axis('off')\n",
    "plt.show()"
   ]
  },
  {
   "cell_type": "code",
   "execution_count": 64,
   "metadata": {},
   "outputs": [
    {
     "data": {
      "text/plain": [
       "True"
      ]
     },
     "execution_count": 64,
     "metadata": {},
     "output_type": "execute_result"
    }
   ],
   "source": [
    "a = np.array([np.nan,np.nan])\n",
    "np.isnan(a).all()"
   ]
  },
  {
   "cell_type": "code",
   "execution_count": null,
   "metadata": {},
   "outputs": [],
   "source": []
  },
  {
   "cell_type": "code",
   "execution_count": 2,
   "metadata": {},
   "outputs": [],
   "source": [
    "#\n",
    "considered_circles_ratio_init = 0.03\n",
    "window_size = 5\n",
    "\n",
    "cap = cv2.VideoCapture('data/artificial/procedure5_lofi.mkv')\n",
    "\n",
    "radii = []\n",
    "window = []\n",
    "i = 0\n",
    "while cap.isOpened():\n",
    "    ret, base = cap.read()\n",
    "    if not ret:\n",
    "        break\n",
    "    \n",
    "    base_best_hough = base.copy()\n",
    "    base_validated_hough = base.copy()\n",
    "    base_smoothed_hough = base.copy()\n",
    "    base_hsv = cv2.cvtColor(base, cv2.COLOR_BGR2HSV)\n",
    "    base_value = base_hsv[:,:,2]\n",
    "    \n",
    "    circles = detect_circle(base_value, return_all=True)\n",
    "    if circles is not None:\n",
    "        # hough w/o validation\n",
    "        best_circle = circles[0]\n",
    "        limbus_center, limbus_radius = best_circle[:2], best_circle[2]\n",
    "        limbus_center_t = tuple(np.around(limbus_center).astype('int'))\n",
    "        cv2.circle(base_best_hough, limbus_center_t, round(limbus_radius), (0,0,255), 2)\n",
    "        cv2.putText(base_best_hough, 'circle index: 0', (0,30) , cv2.FONT_HERSHEY_SIMPLEX, 1, (0,0,255))\n",
    "        \n",
    "        # hough w/ validation\n",
    "        considered_circles_ratio = considered_circles_ratio_init\n",
    "        considered_circles = []\n",
    "        while len(considered_circles) == 0:\n",
    "            considered_circles = circles[:int(len(circles)*considered_circles_ratio)]\n",
    "            considered_circles_ratio *= 2\n",
    "        \n",
    "        in_out_diff_intensities = np.zeros(len(considered_circles))\n",
    "        for index, circle in enumerate(considered_circles):\n",
    "            in_out_diff_intensities[index] = get_in_out_intensity_diff(\n",
    "                base_value,\n",
    "                tuple(np.around(circle[:2]).astype('int')),\n",
    "                np.round(circle[2]).astype('int')\n",
    "            )\n",
    "            \n",
    "        best_circle_index = np.argmax(in_out_diff_intensities)\n",
    "        best_circle = considered_circles[best_circle_index]\n",
    "        \n",
    "        limbus_center, limbus_radius = best_circle[:2], best_circle[2]\n",
    "        limbus_center_t = tuple(np.around(limbus_center).astype('int'))\n",
    "        cv2.circle(base_validated_hough, limbus_center_t, round(limbus_radius), (0,255,0), 2)\n",
    "        cv2.putText(base_validated_hough, 'circle index: %d' % best_circle_index, (0,30) , cv2.FONT_HERSHEY_SIMPLEX, 1, (0,255,0))\n",
    "        cv2.putText(base_validated_hough, 'circls processed: %d' % len(considered_circles), (0,60) , cv2.FONT_HERSHEY_SIMPLEX, 1, (0,255,0))\n",
    "        \n",
    "        # hough w/ validation and smoothing\n",
    "        if i < window_size:\n",
    "            window.append(best_circle)\n",
    "        else:\n",
    "            window[i % window_size] = best_circle\n",
    "        i += 1\n",
    "            \n",
    "        best_circle = np.mean(np.array(window), axis=0)\n",
    "        limbus_center, limbus_radius = best_circle[:2], best_circle[2]\n",
    "        limbus_center_t = tuple(np.around(limbus_center).astype('int'))\n",
    "\n",
    "        radii.append(limbus_radius)\n",
    "    else:\n",
    "        radii.append(None)\n",
    "    \n",
    "    if cv2.waitKey(25) & 0xFF == ord('q'): \n",
    "        break\n",
    "\n",
    "        \n",
    "cap.release() \n",
    "for _ in range(10):\n",
    "    cv2.destroyAllWindows()\n",
    "    cv2.waitKey(1) "
   ]
  },
  {
   "cell_type": "code",
   "execution_count": 3,
   "metadata": {},
   "outputs": [
    {
     "data": {
      "text/plain": [
       "3872"
      ]
     },
     "execution_count": 3,
     "metadata": {},
     "output_type": "execute_result"
    }
   ],
   "source": [
    "len(radii)"
   ]
  },
  {
   "cell_type": "code",
   "execution_count": 9,
   "metadata": {},
   "outputs": [],
   "source": [
    "import pandas as pd\n",
    "import seaborn as sns"
   ]
  },
  {
   "cell_type": "code",
   "execution_count": 4,
   "metadata": {},
   "outputs": [
    {
     "data": {
      "text/plain": [
       "[<matplotlib.lines.Line2D at 0x13b211b20>]"
      ]
     },
     "execution_count": 4,
     "metadata": {},
     "output_type": "execute_result"
    },
    {
     "data": {
      "image/png": "[encoded data removed]",
      "text/plain": [
       "<Figure size 432x288 with 1 Axes>"
      ]
     },
     "metadata": {
      "needs_background": "light"
     },
     "output_type": "display_data"
    }
   ],
   "source": [
    "plt.plot(radii)"
   ]
  },
  {
   "cell_type": "code",
   "execution_count": 12,
   "metadata": {},
   "outputs": [
    {
     "data": {
      "text/plain": [
       "(500, 2)"
      ]
     },
     "execution_count": 12,
     "metadata": {},
     "output_type": "execute_result"
    }
   ],
   "source": [
    "np.random.randn(500, 2).cumsum(axis=0).shape"
   ]
  },
  {
   "cell_type": "code",
   "execution_count": 18,
   "metadata": {},
   "outputs": [
    {
     "data": {
      "text/plain": [
       "array([[0.0, 152.5],\n",
       "       [0.03, 152.95],\n",
       "       [0.07, 152.73334],\n",
       "       ...,\n",
       "       [128.97, 154.54],\n",
       "       [129.0, 154.92],\n",
       "       [129.03, 155.04]], dtype=object)"
      ]
     },
     "execution_count": 18,
     "metadata": {},
     "output_type": "execute_result"
    }
   ],
   "source": [
    "ts = [round(i/30, 2) for i in range(len(radii))]\n",
    "frames = [i for i in range(len(radii))]\n",
    "np.array((ts, radii)).T"
   ]
  },
  {
   "cell_type": "code",
   "execution_count": 32,
   "metadata": {},
   "outputs": [
    {
     "data": {
      "image/png": "[encoded data removed]",
      "text/plain": [
       "<Figure size 360x360 with 1 Axes>"
      ]
     },
     "metadata": {
      "needs_background": "light"
     },
     "output_type": "display_data"
    }
   ],
   "source": [
    "df = pd.DataFrame(np.array((frames, radii)).T, columns=[\"frame\", \"limbus radius (px)\"])\n",
    "sns.relplot(x=\"frame\", y=\"limbus radius (px)\", sort=False, kind=\"line\", data=df, )\n",
    "plt.xticks([1500, 3300])\n",
    "plt.ylim(0, max([r for r in radii if r is not None]))\n",
    "plt.savefig(\"a.pdf\")"
   ]
  },
  {
   "cell_type": "code",
   "execution_count": null,
   "metadata": {},
   "outputs": [],
   "source": []
  }
 ],
 "metadata": {
  "kernelspec": {
   "display_name": "Python 3 (ipykernel)",
   "language": "python",
   "name": "python3"
  },
  "language_info": {
   "codemirror_mode": {
    "name": "ipython",
    "version": 3
   },
   "file_extension": ".py",
   "mimetype": "text/x-python",
   "name": "python",
   "nbconvert_exporter": "python",
   "pygments_lexer": "ipython3",
   "version": "3.9.10"
  }
 },
 "nbformat": 4,
 "nbformat_minor": 4
}
