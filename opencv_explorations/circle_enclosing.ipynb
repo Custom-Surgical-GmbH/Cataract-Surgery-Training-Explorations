{
 "cells": [
  {
   "cell_type": "markdown",
   "metadata": {},
   "source": [
    "### Imports"
   ]
  },
  {
   "cell_type": "code",
   "execution_count": 1,
   "metadata": {},
   "outputs": [],
   "source": [
    "import cv2\n",
    "import time\n",
    "\n",
    "import ipywidgets as widgets\n",
    "import numpy as np\n",
    "import matplotlib.pyplot as plt\n",
    "\n",
    "%load_ext autoreload\n",
    "%autoreload 2"
   ]
  },
  {
   "cell_type": "code",
   "execution_count": 2,
   "metadata": {},
   "outputs": [],
   "source": [
    "# # from original derivation\n",
    "# def is_enclosed(c1, c2):\n",
    "#     p = np.abs(c1[:2] - c2[:2])\n",
    "#     d = np.array([\n",
    "#         c1[2] * p[0] / np.linalg.norm(p),\n",
    "#         c1[2] * p[1] / np.linalg.norm(p)\n",
    "#     ])\n",
    "    \n",
    "#     return np.linalg.norm(p + d) <= c2[2]\n",
    "\n",
    "# much simplified version\n",
    "def is_enclosed(c1, c2):\n",
    "    p = np.abs(c1[:2] - c2[:2])\n",
    "    \n",
    "    return np.linalg.norm(p) + c1[2] <= c2[2]\n",
    "\n",
    "# another simplification; getting rid of the square root\n",
    "# def is_enclosed(c1, c2):\n",
    "#     p = c1[:2] - c2[:2]\n",
    "    \n",
    "#     return p[0]**2 + p[1]**2 <= (c2[2] - c1[2])**2"
   ]
  },
  {
   "cell_type": "code",
   "execution_count": 3,
   "metadata": {},
   "outputs": [],
   "source": [
    "def vis(cx1=10, cy1=10, r1=10, cx2=30, cy2=30, r2=20):\n",
    "    background_color = None\n",
    "    if is_enclosed(np.array([cx1, cy1, r1]), np.array([cx2, cy2, r2])):\n",
    "        background_color = [0,255,0]\n",
    "    else:\n",
    "        background_color = [255,0,0]\n",
    "    \n",
    "    img = np.zeros((200,200,3), dtype=np.uint8)\n",
    "    img[:,:] = background_color\n",
    "    \n",
    "    cv2.circle(img, (cx2, cy2), r2, (255,255,255), cv2.FILLED)    \n",
    "    cv2.circle(img, (cx1, cy1), r1, (128,128,128), cv2.FILLED)\n",
    "    \n",
    "    plt.imshow(img)\n",
    "    "
   ]
  },
  {
   "cell_type": "code",
   "execution_count": 4,
   "metadata": {},
   "outputs": [
    {
     "data": {
      "application/vnd.jupyter.widget-view+json": {
       "model_id": "af011aa875804304ac06c6fad09f433c",
       "version_major": 2,
       "version_minor": 0
      },
      "text/plain": [
       "interactive(children=(IntSlider(value=10, description='cx1', max=200), IntSlider(value=10, description='cy1', …"
      ]
     },
     "metadata": {},
     "output_type": "display_data"
    }
   ],
   "source": [
    "widgets.interact(vis, \n",
    "                 cx1=(0,200,1), cy1=(0,200,1), r1=(0,200,1),\n",
    "                 cx2=(0,200,1), cy2=(0,200,1), r2=(0,200,1));"
   ]
  },
  {
   "cell_type": "code",
   "execution_count": null,
   "metadata": {},
   "outputs": [],
   "source": []
  }
 ],
 "metadata": {
  "kernelspec": {
   "display_name": "Python 3 (ipykernel)",
   "language": "python",
   "name": "python3"
  },
  "language_info": {
   "codemirror_mode": {
    "name": "ipython",
    "version": 3
   },
   "file_extension": ".py",
   "mimetype": "text/x-python",
   "name": "python",
   "nbconvert_exporter": "python",
   "pygments_lexer": "ipython3",
   "version": "3.9.6"
  }
 },
 "nbformat": 4,
 "nbformat_minor": 4
}
