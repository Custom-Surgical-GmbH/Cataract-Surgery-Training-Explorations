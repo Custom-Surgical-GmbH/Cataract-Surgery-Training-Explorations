{
 "cells": [
  {
   "cell_type": "markdown",
   "id": "3fab7791",
   "metadata": {},
   "source": [
    "## Circle enclosing\n",
    "Derivation and testing of formula for determining whether a circle is fully contained within another circle."
   ]
  },
  {
   "cell_type": "markdown",
   "id": "eb2a65d1",
   "metadata": {},
   "source": [
    "### 1. Imports"
   ]
  },
  {
   "cell_type": "code",
   "execution_count": 1,
   "id": "2560f5c8",
   "metadata": {},
   "outputs": [],
   "source": [
    "import cv2\n",
    "import ipywidgets as widgets\n",
    "import numpy as np\n",
    "from matplotlib import pyplot as plt\n",
    "\n",
    "\n",
    "%load_ext autoreload\n",
    "%autoreload 2"
   ]
  },
  {
   "cell_type": "markdown",
   "id": "03f5a841",
   "metadata": {},
   "source": [
    "### 2. Formula versions"
   ]
  },
  {
   "cell_type": "markdown",
   "id": "d70cfc8b",
   "metadata": {},
   "source": [
    "Original derivation, the most straight-forward."
   ]
  },
  {
   "cell_type": "code",
   "execution_count": 2,
   "id": "f7ba7f7c",
   "metadata": {},
   "outputs": [],
   "source": [
    "def is_enclosed(c1, c2):\n",
    "    p = np.abs(c1[:2] - c2[:2])\n",
    "    d = np.array([\n",
    "        c1[2] * p[0] / np.linalg.norm(p),\n",
    "        c1[2] * p[1] / np.linalg.norm(p)\n",
    "    ])\n",
    "\n",
    "    return np.linalg.norm(p + d) <= c2[2]"
   ]
  },
  {
   "cell_type": "markdown",
   "id": "df0a7380",
   "metadata": {},
   "source": [
    "Much simplified version"
   ]
  },
  {
   "cell_type": "code",
   "execution_count": 3,
   "id": "4934753a",
   "metadata": {},
   "outputs": [],
   "source": [
    "def is_enclosed(c1, c2):\n",
    "    p = np.abs(c1[:2] - c2[:2])\n",
    "\n",
    "    return np.linalg.norm(p) + c1[2] <= c2[2]"
   ]
  },
  {
   "cell_type": "markdown",
   "id": "190bc049",
   "metadata": {},
   "source": [
    "Final version; does not contain the square root"
   ]
  },
  {
   "cell_type": "code",
   "execution_count": 4,
   "id": "b9a354d3",
   "metadata": {},
   "outputs": [],
   "source": [
    "def is_enclosed(c1, c2):\n",
    "    p = c1[:2] - c2[:2]\n",
    "\n",
    "    return p[0]**2 + p[1]**2 <= (c2[2] - c1[2])**2"
   ]
  },
  {
   "cell_type": "markdown",
   "id": "b1eeaa53",
   "metadata": {},
   "source": [
    "### 3. Interactive visuzalization"
   ]
  },
  {
   "cell_type": "code",
   "execution_count": 5,
   "id": "d5f8fcf6",
   "metadata": {},
   "outputs": [],
   "source": [
    "def vis(cx1=10, cy1=10, r1=10, cx2=30, cy2=30, r2=20):\n",
    "    background_color = None\n",
    "    if is_enclosed(np.array([cx1, cy1, r1]), np.array([cx2, cy2, r2])):\n",
    "        background_color = [0, 255, 0]\n",
    "    else:\n",
    "        background_color = [255, 0, 0]\n",
    "\n",
    "    img = np.zeros((200, 200, 3), dtype=np.uint8)\n",
    "    img[:, :] = background_color\n",
    "\n",
    "    cv2.circle(img, (cx2, cy2), r2, (255, 255, 255), cv2.FILLED)\n",
    "    cv2.circle(img, (cx1, cy1), r1, (128, 128, 128), cv2.FILLED)\n",
    "\n",
    "    plt.imshow(img)"
   ]
  },
  {
   "cell_type": "code",
   "execution_count": 6,
   "id": "be1bc7b4",
   "metadata": {},
   "outputs": [
    {
     "data": {
      "application/vnd.jupyter.widget-view+json": {
       "model_id": "fde31a2b09e142e7b9e2d2d4b9df01d6",
       "version_major": 2,
       "version_minor": 0
      },
      "text/plain": [
       "interactive(children=(IntSlider(value=10, description='cx1', max=200), IntSlider(value=10, description='cy1', …"
      ]
     },
     "metadata": {},
     "output_type": "display_data"
    },
    {
     "data": {
      "text/plain": [
       "<function __main__.vis(cx1=10, cy1=10, r1=10, cx2=30, cy2=30, r2=20)>"
      ]
     },
     "execution_count": 6,
     "metadata": {},
     "output_type": "execute_result"
    }
   ],
   "source": [
    "widgets.interact(vis,\n",
    "                 cx1=(0, 200, 1), cy1=(0, 200, 1), r1=(0, 200, 1),\n",
    "                 cx2=(0, 200, 1), cy2=(0, 200, 1), r2=(0, 200, 1))"
   ]
  }
 ],
 "metadata": {
  "kernelspec": {
   "display_name": "Python 3 (ipykernel)",
   "language": "python",
   "name": "python3"
  },
  "language_info": {
   "codemirror_mode": {
    "name": "ipython",
    "version": 3
   },
   "file_extension": ".py",
   "mimetype": "text/x-python",
   "name": "python",
   "nbconvert_exporter": "python",
   "pygments_lexer": "ipython3",
   "version": "3.9.9"
  }
 },
 "nbformat": 4,
 "nbformat_minor": 5
}
