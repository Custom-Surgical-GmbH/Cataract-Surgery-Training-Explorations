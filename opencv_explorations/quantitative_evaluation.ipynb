{
 "cells": [
  {
   "cell_type": "markdown",
   "metadata": {},
   "source": [
    "### Imports"
   ]
  },
  {
   "cell_type": "code",
   "execution_count": 1,
   "metadata": {},
   "outputs": [],
   "source": [
    "import cv2\n",
    "import ast\n",
    "import time\n",
    "\n",
    "import requests\n",
    "import numpy as np\n",
    "import matplotlib.pyplot as plt\n",
    "import pandas as pd\n",
    "from sympy import Interval, Union\n",
    "from tqdm import tqdm, trange\n",
    "import seaborn as sns\n",
    "from scipy import ndimage\n",
    "\n",
    "from PIL import ImageFont, ImageDraw, Image\n",
    "\n",
    "from helpers.limbus_detection import detect_circle\n",
    "from helpers.orientation_detection_hybrid import detect_orientation, establish_baseline\n",
    "\n",
    "%load_ext autoreload\n",
    "%autoreload 2"
   ]
  },
  {
   "cell_type": "markdown",
   "metadata": {},
   "source": [
    "#### helper functions"
   ]
  },
  {
   "cell_type": "code",
   "execution_count": 2,
   "metadata": {},
   "outputs": [],
   "source": [
    "def extract_annotations(csv_path, total_frames, label_name, video_filename, fps=30):\n",
    "    data = pd.read_csv(csv_path)\n",
    "    data['points'] = data['points'].apply(lambda x: np.array(ast.literal_eval(x)))\n",
    "    data['frames'] = data['frames'].apply(lambda x: np.array(ast.literal_eval(x)))\n",
    "    \n",
    "    annotations = []\n",
    "    frames = []\n",
    "    full_frame_intervals = []\n",
    "    for _, row in data[(data.label_name == label_name) & (data.video_filename == video_filename)].iterrows():\n",
    "        annotations.append(row['points'])\n",
    "        frames.append(row['frames'])\n",
    "        full_frame_intervals.append(Interval(row['frames'][0], row['frames'][-1]))\n",
    "        \n",
    "    full_frame_union = Union(*full_frame_intervals)\n",
    "        \n",
    "    annotations = np.concatenate(annotations)\n",
    "    frames = np.concatenate(frames)\n",
    "    \n",
    "    sort_index = np.argsort(frames)\n",
    "    \n",
    "    annotations = annotations[sort_index]\n",
    "    frames = frames[sort_index]\n",
    "    \n",
    "    annotations_per_frame = []\n",
    "    cur_index = 0\n",
    "    for frame in trange(total_frames):\n",
    "        if cur_index < (len(annotations) - 1) and (frame/30) >= frames[cur_index + 1]:\n",
    "            cur_index += 1\n",
    "        \n",
    "        if full_frame_union.contains(frame/30):\n",
    "            annotations_per_frame.append(annotations[cur_index])\n",
    "        else:\n",
    "            annotations_per_frame.append(None)\n",
    "        \n",
    "    return annotations_per_frame\n",
    "    "
   ]
  },
  {
   "cell_type": "code",
   "execution_count": 3,
   "metadata": {},
   "outputs": [],
   "source": [
    "def extract_whole_frame_annotations(csv_path, total_frames, label_name, video_filename, fps=30):\n",
    "    data = pd.read_csv(csv_path)\n",
    "    data['frames'] = data['frames'].apply(lambda x: np.array(ast.literal_eval(x)))\n",
    "    \n",
    "    frames = []\n",
    "    full_frame_intervals = []\n",
    "    for _, row in data[(data.label_name == label_name) & (data.video_filename == video_filename)].iterrows():\n",
    "        frames.append(row['frames'])\n",
    "        full_frame_intervals.append(Interval(row['frames'][0], row['frames'][-1]))\n",
    "        \n",
    "    full_frame_union = Union(*full_frame_intervals)\n",
    "    frames = np.concatenate(frames)\n",
    "    sort_index = np.argsort(frames)\n",
    "    frames = frames[sort_index]\n",
    "    \n",
    "    annotations_per_frame = []\n",
    "    cur_index = 0\n",
    "    for frame in trange(total_frames):\n",
    "        annotations_per_frame.append(full_frame_union.contains(frame/30))\n",
    "        \n",
    "    return annotations_per_frame\n",
    "    "
   ]
  },
  {
   "cell_type": "code",
   "execution_count": 4,
   "metadata": {},
   "outputs": [],
   "source": [
    "def get_orientation(circle, zero_point):\n",
    "    if circle is None or zero_point is None:\n",
    "        return None\n",
    "    \n",
    "    a = np.array(zero_point)\n",
    "    b = np.array([circle[0], circle[1]])\n",
    "    c = a - b\n",
    "    \n",
    "    alpha = np.arctan2(c[1], c[0])\n",
    "    \n",
    "    if alpha < 0:\n",
    "        alpha = alpha + 2*np.pi\n",
    "    \n",
    "    alpha = 2*np.pi - alpha\n",
    "    \n",
    "    return alpha"
   ]
  },
  {
   "cell_type": "code",
   "execution_count": 5,
   "metadata": {},
   "outputs": [],
   "source": [
    "def get_line_points(circle, zero_point):\n",
    "    a = np.array(zero_point)\n",
    "    b = np.array([circle[0], circle[1]])\n",
    "    c = a - b\n",
    "    c = c / np.linalg.norm(c)\n",
    "    c = c * circle[2]\n",
    "    \n",
    "    start = b\n",
    "    end = b + c \n",
    "    \n",
    "    return [round(start[0]), round(start[1])], [round(end[0]), round(end[1])]"
   ]
  },
  {
   "cell_type": "code",
   "execution_count": 6,
   "metadata": {},
   "outputs": [],
   "source": [
    "def draw_circle(img, circle, color=(0,255,0)):\n",
    "    center = (round(circle[0]),round(circle[1]))\n",
    "    radius = round(circle[2])\n",
    "    cv2.circle(img, center, radius, color)"
   ]
  },
  {
   "cell_type": "code",
   "execution_count": 7,
   "metadata": {},
   "outputs": [],
   "source": [
    "def draw_axis(img, circle, zero_point, color=(0,255,0)):\n",
    "    start, end = get_line_points(circle, zero_point)\n",
    "    cv2.line(img, start, end, color)"
   ]
  },
  {
   "cell_type": "code",
   "execution_count": 8,
   "metadata": {},
   "outputs": [],
   "source": [
    "def draw_axis_orientation(img, circle, orientation, color=(0,255,0)):\n",
    "    rad = np.pi * orientation / 180.0\n",
    "    zero_point = circle[:2] + np.array([\n",
    "        np.cos(rad),\n",
    "        -np.sin(rad)\n",
    "    ])\n",
    "    start, end = get_line_points(circle, zero_point)\n",
    "    cv2.line(img, start, end, color)"
   ]
  },
  {
   "cell_type": "code",
   "execution_count": 9,
   "metadata": {},
   "outputs": [],
   "source": [
    "def numpy_array_robust(l):\n",
    "    size = None\n",
    "    for el in l:\n",
    "        if el is not None:\n",
    "            size = len(el)\n",
    "            break\n",
    "            \n",
    "    return np.array([\n",
    "        (\n",
    "            el\n",
    "            if el is not None \n",
    "            else np.array(size*[np.nan])\n",
    "        )\n",
    "        for el in l\n",
    "    ])"
   ]
  },
  {
   "cell_type": "markdown",
   "metadata": {},
   "source": [
    "#### displaying the ground truth"
   ]
  },
  {
   "cell_type": "code",
   "execution_count": 10,
   "metadata": {},
   "outputs": [
    {
     "name": "stdout",
     "output_type": "stream",
     "text": [
      "extracting circles\n"
     ]
    },
    {
     "name": "stderr",
     "output_type": "stream",
     "text": [
      "100%|███████████████████████████████████████| 3873/3873 [00:44<00:00, 87.28it/s]\n"
     ]
    },
    {
     "name": "stdout",
     "output_type": "stream",
     "text": [
      "extracting orientation\n"
     ]
    },
    {
     "name": "stderr",
     "output_type": "stream",
     "text": [
      "100%|██████████████████████████████████████| 3873/3873 [00:17<00:00, 218.82it/s]\n"
     ]
    },
    {
     "name": "stdout",
     "output_type": "stream",
     "text": [
      "extracting instruments\n"
     ]
    },
    {
     "name": "stderr",
     "output_type": "stream",
     "text": [
      "100%|██████████████████████████████████████| 3873/3873 [00:16<00:00, 232.02it/s]\n"
     ]
    }
   ],
   "source": [
    "cap = cv2.VideoCapture('data/artificial/procedure5_lofi.mkv')\n",
    "annotation_path = 'data/annotations/6238-first-5.csv'\n",
    "\n",
    "print('extracting circles')\n",
    "ground_truth_circles = extract_annotations(annotation_path, int(cap.get(cv2.CAP_PROP_FRAME_COUNT)), 'limbus', 'procedure5_lofi.mp4')\n",
    "ground_truth_circles = numpy_array_robust(ground_truth_circles)\n",
    "print('extracting orientation')\n",
    "ground_truth_zero_points = extract_annotations(annotation_path, int(cap.get(cv2.CAP_PROP_FRAME_COUNT)), 'orientation', 'procedure5_lofi.mp4')\n",
    "ground_truth_zero_points = numpy_array_robust(ground_truth_zero_points)\n",
    "print('extracting instruments')\n",
    "ground_truth_instruments = extract_whole_frame_annotations(annotation_path, int(cap.get(cv2.CAP_PROP_FRAME_COUNT)), 'instrument', 'procedure5_lofi.mp4')\n",
    "ground_truth_instruments = np.array(ground_truth_instruments)"
   ]
  },
  {
   "cell_type": "markdown",
   "metadata": {},
   "source": [
    "#### limbus tracking: naive vs. inout"
   ]
  },
  {
   "cell_type": "markdown",
   "metadata": {},
   "source": [
    "visualization (optional)"
   ]
  },
  {
   "cell_type": "code",
   "execution_count": null,
   "metadata": {},
   "outputs": [],
   "source": [
    "cap = cv2.VideoCapture('data/artificial/procedure5_lofi.mkv')\n",
    "frame = 0\n",
    "while cap.isOpened():\n",
    "    ret, base = cap.read()\n",
    "    if not ret:\n",
    "        break\n",
    "\n",
    "    # hsv conversion\n",
    "    base_hsv = cv2.cvtColor(base, cv2.COLOR_BGR2HSV)\n",
    "    base_value = base_hsv[:, :, 2]\n",
    "    \n",
    "    # visualization\n",
    "    vis = cv2.cvtColor(base_value, cv2.COLOR_GRAY2BGR)\n",
    "    ground_truth_circle = ground_truth_circles[frame]\n",
    "    if ground_truth_circle is not None:\n",
    "        draw_circle(vis, ground_truth_circle)\n",
    "    else:\n",
    "        cv2.putText(vis, 'no groundtruth', (10,10), cv2.FONT_HERSHEY_COMPLEX, 1, (0,0,255))\n",
    "        \n",
    "    # detection\n",
    "    circle = detect_circle(\n",
    "        base_value,\n",
    "        validation='inout',\n",
    "        validation_mode='max',\n",
    "        validation_value_thresh=0.0,\n",
    "        considered_ratio_s=0.1,\n",
    "        circle_width_to_radius_ratio=0.059,\n",
    "        min_radius_ratio=1/10,\n",
    "        max_radius_ratio=1/2,\n",
    "        max_processing_dim=320,\n",
    "        gaussian_blur_sigma=2.3\n",
    "    )\n",
    "    if circle is not None:\n",
    "        draw_circle(vis, circle, (255,0,0))\n",
    "\n",
    "    cv2.imshow('result', base)\n",
    "    cv2.imshow('visualization', vis)\n",
    "    \n",
    "    frame += 1\n",
    "\n",
    "    if cv2.waitKey(25) == ord('q'):\n",
    "        break\n",
    "\n",
    "cap.release()\n",
    "for _ in range(10):\n",
    "    cv2.destroyAllWindows()\n",
    "    cv2.waitKey(1)"
   ]
  },
  {
   "cell_type": "markdown",
   "metadata": {},
   "source": [
    "computation"
   ]
  },
  {
   "cell_type": "code",
   "execution_count": 11,
   "metadata": {},
   "outputs": [
    {
     "name": "stderr",
     "output_type": "stream",
     "text": [
      "100%|██████████████████████████████████████▉| 3872/3873 [02:55<00:00, 22.12it/s]\n"
     ]
    }
   ],
   "source": [
    "cap = cv2.VideoCapture('data/artificial/procedure5_lofi.mkv')\n",
    "circles_inout = []\n",
    "circles_first = []\n",
    "\n",
    "total_frames = int(cap.get(cv2.CAP_PROP_FRAME_COUNT))\n",
    "pbar = tqdm(total=total_frames)\n",
    "frame = 0\n",
    "while cap.isOpened():\n",
    "    ret, base = cap.read()\n",
    "    if not ret:\n",
    "        break\n",
    "        \n",
    "    # hsv conversion\n",
    "    base_hsv = cv2.cvtColor(base, cv2.COLOR_BGR2HSV)\n",
    "    base_value = base_hsv[:, :, 2]\n",
    "        \n",
    "    # first\n",
    "    circle = detect_circle(\n",
    "        base_value,\n",
    "        validation='first',\n",
    "        circle_width_to_radius_ratio=0.059,\n",
    "        min_radius_ratio=1/10,\n",
    "        max_radius_ratio=1/2,\n",
    "        max_processing_dim=320,\n",
    "        gaussian_blur_sigma=2.3\n",
    "    )\n",
    "    circles_first.append(circle)\n",
    "    \n",
    "    # inout\n",
    "    circle = detect_circle(\n",
    "        base_value,\n",
    "        validation='inout',\n",
    "        validation_mode='max',\n",
    "        validation_value_thresh=0.0,\n",
    "        considered_ratio_s=0.1,\n",
    "        circle_width_to_radius_ratio=0.059,\n",
    "        min_radius_ratio=1/10,\n",
    "        max_radius_ratio=1/2,\n",
    "        max_processing_dim=320,\n",
    "        gaussian_blur_sigma=2.3\n",
    "    )\n",
    "    circles_inout.append(circle)\n",
    "    \n",
    "    pbar.update()\n",
    "\n",
    "    if cv2.waitKey(25) == ord('q'):\n",
    "        break\n",
    "        \n",
    "pbar.close()\n",
    "\n",
    "cap.release()\n",
    "for _ in range(10):\n",
    "    cv2.destroyAllWindows()\n",
    "    cv2.waitKey(1)"
   ]
  },
  {
   "cell_type": "code",
   "execution_count": 12,
   "metadata": {},
   "outputs": [],
   "source": [
    "ground_truth_circles = ground_truth_circles[:len(circles_first)]\n",
    "ground_truth_zero_points = ground_truth_zero_points[:len(circles_first)]\n",
    "ground_truth_orientations = [\n",
    "    get_orientation(ground_truth_circles[i], ground_truth_zero_points[i])\n",
    "    for i in range(len(circles_first))\n",
    "]\n",
    "ground_truth_instruments = ground_truth_instruments[:len(circles_first)]"
   ]
  },
  {
   "cell_type": "code",
   "execution_count": 13,
   "metadata": {},
   "outputs": [],
   "source": [
    "circles_first = numpy_array_robust(circles_first)\n",
    "circles_inout = numpy_array_robust(circles_inout)"
   ]
  },
  {
   "cell_type": "markdown",
   "metadata": {},
   "source": [
    "centration & radius diffrence"
   ]
  },
  {
   "cell_type": "code",
   "execution_count": 14,
   "metadata": {},
   "outputs": [],
   "source": [
    "centration_first = np.linalg.norm(circles_first[:,:2] - ground_truth_circles[:,:2], axis=1)\n",
    "# TODO: normalization by radius might be better\n",
    "centration_first_normalized = centration_first / (2*ground_truth_circles[:,2])\n",
    "\n",
    "centration_inout = np.linalg.norm(circles_inout[:,:2] - ground_truth_circles[:,:2], axis=1)\n",
    "# TODO: normalization by radius might be better\n",
    "centration_inout_normalized = centration_inout / (2*ground_truth_circles[:,2])\n",
    "\n",
    "radius_diff_first = np.abs(circles_first[:,2] - ground_truth_circles[:,2])\n",
    "radius_diff_first_normalized = radius_diff_first / ground_truth_circles[:,2]\n",
    "radius_diff_inout = np.abs(circles_inout[:,2] - ground_truth_circles[:,2])\n",
    "radius_diff_inout_normalized = radius_diff_inout / ground_truth_circles[:,2]"
   ]
  },
  {
   "cell_type": "code",
   "execution_count": 63,
   "metadata": {},
   "outputs": [],
   "source": [
    "df = pd.DataFrame({\n",
    "    'method': len(centration_first)*['first'] + len(centration_inout)*['inout'],\n",
    "    'centration': centration_first.tolist() + centration_inout.tolist(),\n",
    "    'ground_truth_radius': ground_truth_circles[:,2].tolist()*2,\n",
    "    'centration_normalized': centration_first_normalized.tolist() + centration_inout_normalized.tolist(),\n",
    "    'radius_diff': radius_diff_first.tolist() + radius_diff_inout.tolist(),\n",
    "    'radius_diff_normalized': radius_diff_first_normalized.tolist() + radius_diff_inout_normalized.tolist(),\n",
    "    'ground_truth_instruments': ground_truth_instruments.tolist()*2,\n",
    "    'center_offset': np.concatenate((circles_first[:,:2] - ground_truth_circles[:,:2], circles_inout[:,:2] - ground_truth_circles[:,:2])).tolist()\n",
    "})"
   ]
  },
  {
   "cell_type": "code",
   "execution_count": 16,
   "metadata": {},
   "outputs": [
    {
     "data": {
      "image/png": "[encoded data removed]",
      "text/plain": [
       "<Figure size 432x288 with 1 Axes>"
      ]
     },
     "metadata": {
      "needs_background": "light"
     },
     "output_type": "display_data"
    }
   ],
   "source": [
    "ax = sns.boxplot(x='method', y='centration_normalized', showfliers=False, data=df)\n",
    "plt.savefig('a.pdf')"
   ]
  },
  {
   "cell_type": "code",
   "execution_count": 17,
   "metadata": {},
   "outputs": [
    {
     "data": {
      "image/png": "[encoded data removed]",
      "text/plain": [
       "<Figure size 432x288 with 1 Axes>"
      ]
     },
     "metadata": {
      "needs_background": "light"
     },
     "output_type": "display_data"
    }
   ],
   "source": [
    "ax = sns.boxplot(x='method', y='radius_diff_normalized', showfliers=False, data=df)\n",
    "plt.savefig('b.pdf')"
   ]
  },
  {
   "cell_type": "markdown",
   "metadata": {},
   "source": [
    "occlusion robustnes"
   ]
  },
  {
   "cell_type": "code",
   "execution_count": 18,
   "metadata": {},
   "outputs": [
    {
     "data": {
      "image/png": "[encoded data removed]",
      "text/plain": [
       "<Figure size 432x288 with 1 Axes>"
      ]
     },
     "metadata": {
      "needs_background": "light"
     },
     "output_type": "display_data"
    }
   ],
   "source": [
    "df_inout = df[df.method == 'inout']\n",
    "df_inout = df_inout.astype({'ground_truth_instruments': 'str'})\n",
    "\n",
    "ax = sns.boxplot(x='ground_truth_instruments', y='radius_diff_normalized', showfliers=False, data=df_inout)\n",
    "plt.savefig('c.pdf')"
   ]
  },
  {
   "cell_type": "code",
   "execution_count": 19,
   "metadata": {},
   "outputs": [
    {
     "data": {
      "image/png": "[encoded data removed]",
      "text/plain": [
       "<Figure size 432x288 with 1 Axes>"
      ]
     },
     "metadata": {
      "needs_background": "light"
     },
     "output_type": "display_data"
    }
   ],
   "source": [
    "df_inout = df[df.method == 'inout']\n",
    "df_inout = df_inout.astype({'ground_truth_instruments': 'str'})\n",
    "\n",
    "ax = sns.boxplot(x='ground_truth_instruments', y='centration_normalized', showfliers=False, data=df_inout)\n",
    "plt.savefig('d.pdf', transparent=True)"
   ]
  },
  {
   "cell_type": "markdown",
   "metadata": {},
   "source": [
    "#### orientation tracking"
   ]
  },
  {
   "cell_type": "markdown",
   "metadata": {},
   "source": [
    "visualization (optional)"
   ]
  },
  {
   "cell_type": "code",
   "execution_count": 26,
   "metadata": {},
   "outputs": [
    {
     "name": "stdout",
     "output_type": "stream",
     "text": [
      "0; baseline established\n"
     ]
    }
   ],
   "source": [
    "cap = cv2.VideoCapture('data/artificial/procedure5_lofi.mkv')\n",
    "out = cv2.VideoWriter('test.mp4', cv2.VideoWriter_fourcc(*'mp4v'), 30,\n",
    "    (int(cap.get(cv2.CAP_PROP_FRAME_WIDTH)), int(cap.get(cv2.CAP_PROP_FRAME_HEIGHT))))\n",
    "\n",
    "total_frames = int(cap.get(cv2.CAP_PROP_FRAME_COUNT))\n",
    "frame = 0\n",
    "baseline = None\n",
    "baseline_reset_frames = np.inf\n",
    "baseline_is_reseting = False\n",
    "baseline_orientation = ground_truth_orientations[0]\n",
    "while cap.isOpened():\n",
    "    ret, base = cap.read()\n",
    "    if not ret:\n",
    "        break\n",
    "        \n",
    "    # hsv conversion\n",
    "    base_hsv = cv2.cvtColor(base, cv2.COLOR_BGR2HSV)\n",
    "    base_value = base_hsv[:, :, 2]\n",
    "    vis = cv2.cvtColor(base_value, cv2.COLOR_GRAY2BGR)\n",
    "    \n",
    "    # inout\n",
    "    circle = detect_circle(\n",
    "        base_value,\n",
    "        validation='inout',\n",
    "        validation_mode='max',\n",
    "        validation_value_thresh=0.0,\n",
    "        considered_ratio_s=0.1,\n",
    "        circle_width_to_radius_ratio=0.059,\n",
    "        min_radius_ratio=1/10,\n",
    "        max_radius_ratio=1/2,\n",
    "        max_processing_dim=320,\n",
    "        gaussian_blur_sigma=2.3\n",
    "    )\n",
    "    \n",
    "    if frame != 0 and (frame % baseline_reset_frames) == 0:\n",
    "        baseline_is_reseting = True\n",
    "    \n",
    "    orientation = None\n",
    "    if circle is not None:\n",
    "        draw_circle(vis, circle, (255,0,0))\n",
    "        if frame == 0:\n",
    "            baseline = establish_baseline(base_value, circle)\n",
    "            orientation = 0.0\n",
    "            print(f'{frame}; baseline established')\n",
    "        else:\n",
    "            orientation = detect_orientation(base_value, circle, baseline)\n",
    "            if orientation is not None:\n",
    "                orientation = (orientation + baseline_orientation) % (2*np.pi)\n",
    "#                 print(orientation)\n",
    "#                 cv2.putText(vis, str(round(180.0 * orientation / np.pi)), (20,20), cv2.FONT_HERSHEY_COMPLEX, 1, (255,0,0))\n",
    "                draw_axis_orientation(vis, circle, 180.0 * orientation / np.pi, (255,0,0))\n",
    "                \n",
    "                if baseline_is_reseting:\n",
    "                    print(f'{frame}; baseline established')\n",
    "                    baseline = establish_baseline(base_value, circle)\n",
    "                    baseline_orientation = orientation\n",
    "                    baseline_is_reseting = False\n",
    "    \n",
    "    frame += 1\n",
    "    out.write(vis)\n",
    "#     cv2.imshow('visualization', vis)\n",
    "\n",
    "    if cv2.waitKey(25) == ord('q'):\n",
    "        break\n",
    "\n",
    "cap.release()\n",
    "out.release()\n",
    "for _ in range(10):\n",
    "    cv2.destroyAllWindows()\n",
    "    cv2.waitKey(1)"
   ]
  },
  {
   "cell_type": "code",
   "execution_count": 20,
   "metadata": {},
   "outputs": [],
   "source": [
    "cap = cv2.VideoCapture('data/artificial/procedure5_lofi.mkv')\n",
    "\n",
    "total_frames = int(cap.get(cv2.CAP_PROP_FRAME_COUNT))\n",
    "frame = 0\n",
    "baseline = None\n",
    "while cap.isOpened():\n",
    "    ret, base = cap.read()\n",
    "    if not ret:\n",
    "        break\n",
    "        \n",
    "    # hsv conversion\n",
    "    base_hsv = cv2.cvtColor(base, cv2.COLOR_BGR2HSV)\n",
    "    base_value = base_hsv[:, :, 2]\n",
    "    vis = cv2.cvtColor(base_value, cv2.COLOR_GRAY2BGR)\n",
    "    \n",
    "    # inout\n",
    "    circle = detect_circle(\n",
    "        base_value,\n",
    "        validation='inout',\n",
    "        validation_mode='max',\n",
    "        validation_value_thresh=0.0,\n",
    "        considered_ratio_s=0.1,\n",
    "        circle_width_to_radius_ratio=0.059,\n",
    "        min_radius_ratio=1/10,\n",
    "        max_radius_ratio=1/2,\n",
    "        max_processing_dim=320,\n",
    "        gaussian_blur_sigma=2.3\n",
    "    )\n",
    "    \n",
    "    orientation = None\n",
    "    if circle is not None:\n",
    "        draw_circle(vis, circle, (255,0,0))\n",
    "        if frame == 0:\n",
    "            baseline = establish_baseline(base_value, circle)\n",
    "            orientation = 0.0\n",
    "        else:\n",
    "            orientation = detect_orientation(base_value, circle, baseline)\n",
    "        \n",
    "        if orientation is not None:\n",
    "            orientation = 180.0 * orientation / np.pi\n",
    "            cv2.putText(vis, str(round(orientation)), (20,20), cv2.FONT_HERSHEY_COMPLEX, 1, (255,0,0))\n",
    "            draw_axis_orientation(vis, circle, orientation, (255,0,0))\n",
    "    \n",
    "    cv2.imshow('visualization', vis)\n",
    "    frame += 1\n",
    "\n",
    "    if cv2.waitKey(25) == ord('q'):\n",
    "        break\n",
    "\n",
    "cap.release()\n",
    "for _ in range(10):\n",
    "    cv2.destroyAllWindows()\n",
    "    cv2.waitKey(1)"
   ]
  },
  {
   "cell_type": "markdown",
   "metadata": {},
   "source": [
    "computation"
   ]
  },
  {
   "cell_type": "code",
   "execution_count": 45,
   "metadata": {},
   "outputs": [
    {
     "name": "stderr",
     "output_type": "stream",
     "text": [
      "  0%|                                          | 3/3873 [00:00<03:14, 19.94it/s]"
     ]
    },
    {
     "name": "stdout",
     "output_type": "stream",
     "text": [
      "0; baseline established\n"
     ]
    },
    {
     "name": "stderr",
     "output_type": "stream",
     "text": [
      " 13%|█████▏                                  | 503/3873 [00:29<03:21, 16.69it/s]"
     ]
    },
    {
     "name": "stdout",
     "output_type": "stream",
     "text": [
      "500; baseline established\n"
     ]
    },
    {
     "name": "stderr",
     "output_type": "stream",
     "text": [
      " 26%|██████████                             | 1003/3873 [00:58<02:57, 16.17it/s]"
     ]
    },
    {
     "name": "stdout",
     "output_type": "stream",
     "text": [
      "1000; baseline established\n"
     ]
    },
    {
     "name": "stderr",
     "output_type": "stream",
     "text": [
      " 39%|███████████████▏                       | 1503/3873 [01:27<02:26, 16.14it/s]"
     ]
    },
    {
     "name": "stdout",
     "output_type": "stream",
     "text": [
      "1500; baseline established\n"
     ]
    },
    {
     "name": "stderr",
     "output_type": "stream",
     "text": [
      " 52%|████████████████████▏                  | 2004/3873 [01:55<01:46, 17.53it/s]"
     ]
    },
    {
     "name": "stdout",
     "output_type": "stream",
     "text": [
      "2000; baseline established\n"
     ]
    },
    {
     "name": "stderr",
     "output_type": "stream",
     "text": [
      " 65%|█████████████████████████▏             | 2504/3873 [02:22<01:17, 17.78it/s]"
     ]
    },
    {
     "name": "stdout",
     "output_type": "stream",
     "text": [
      "2500; baseline established\n"
     ]
    },
    {
     "name": "stderr",
     "output_type": "stream",
     "text": [
      " 78%|██████████████████████████████▏        | 3003/3873 [02:50<00:49, 17.63it/s]"
     ]
    },
    {
     "name": "stdout",
     "output_type": "stream",
     "text": [
      "3000; baseline established\n"
     ]
    },
    {
     "name": "stderr",
     "output_type": "stream",
     "text": [
      " 90%|███████████████████████████████████▎   | 3502/3873 [03:17<00:23, 15.62it/s]"
     ]
    },
    {
     "name": "stdout",
     "output_type": "stream",
     "text": [
      "3500; baseline established\n"
     ]
    },
    {
     "name": "stderr",
     "output_type": "stream",
     "text": [
      "100%|██████████████████████████████████████▉| 3872/3873 [03:40<00:00, 17.53it/s]\n"
     ]
    }
   ],
   "source": [
    "cap = cv2.VideoCapture('data/artificial/procedure5_lofi.mkv')\n",
    "orientations = []\n",
    "\n",
    "total_frames = int(cap.get(cv2.CAP_PROP_FRAME_COUNT))\n",
    "pbar.close()\n",
    "pbar = tqdm(total=total_frames)\n",
    "frame = 0\n",
    "baseline = None\n",
    "baseline_reset_frames = 500\n",
    "baseline_is_reseting = False\n",
    "baseline_orientation = 0.0\n",
    "while cap.isOpened():\n",
    "    ret, base = cap.read()\n",
    "    if not ret:\n",
    "        break\n",
    "        \n",
    "    # hsv conversion\n",
    "    base_hsv = cv2.cvtColor(base, cv2.COLOR_BGR2HSV)\n",
    "    base_value = base_hsv[:, :, 2]\n",
    "    \n",
    "    # inout\n",
    "    circle = detect_circle(\n",
    "        base_value,\n",
    "        validation='inout',\n",
    "        validation_mode='max',\n",
    "        validation_value_thresh=0.0,\n",
    "        considered_ratio_s=0.1,\n",
    "        circle_width_to_radius_ratio=0.059,\n",
    "        min_radius_ratio=1/10,\n",
    "        max_radius_ratio=1/2,\n",
    "        max_processing_dim=320,\n",
    "        gaussian_blur_sigma=2.3\n",
    "    )\n",
    "    \n",
    "    if frame != 0 and (frame % baseline_reset_frames) == 0:\n",
    "        baseline_is_reseting = True\n",
    "    \n",
    "    orientation = None\n",
    "    if circle is not None:\n",
    "        if frame == 0:\n",
    "            baseline = establish_baseline(base_value, circle)\n",
    "            orientation = 0.0\n",
    "            print(f'{frame}; baseline established')\n",
    "        else:\n",
    "            orientation = detect_orientation(base_value, circle, baseline)\n",
    "            if orientation is not None:\n",
    "                orientation = (orientation + baseline_orientation) % (2*np.pi)\n",
    "                if baseline_is_reseting:\n",
    "                    print(f'{frame}; baseline established')\n",
    "                    baseline = establish_baseline(base_value, circle)\n",
    "                    baseline_orientation = orientation\n",
    "                    baseline_is_reseting = False\n",
    "    \n",
    "    orientations.append(orientation)\n",
    "    \n",
    "    pbar.update()\n",
    "    frame += 1\n",
    "\n",
    "    if cv2.waitKey(25) == ord('q'):\n",
    "        break\n",
    "        \n",
    "pbar.close()\n",
    "\n",
    "cap.release()\n",
    "for _ in range(10):\n",
    "    cv2.destroyAllWindows()\n",
    "    cv2.waitKey(1)"
   ]
  },
  {
   "cell_type": "code",
   "execution_count": 46,
   "metadata": {},
   "outputs": [
    {
     "name": "stderr",
     "output_type": "stream",
     "text": [
      "/var/folders/qt/v86lr1d51fj_scwcvj3n1v8h0000gn/T/ipykernel_48044/2435041019.py:4: RuntimeWarning: invalid value encountered in remainder\n",
      "  orientations_processed = orientations_processed % (2*np.pi)\n"
     ]
    }
   ],
   "source": [
    "orientations_processed = np.array([(o if o is not None else np.nan) for o in orientations])\n",
    "orientations_processed = orientations_processed - orientations_processed[0] + ground_truth_orientations[0]\n",
    "orientations_processed = orientations_processed + 4*np.pi\n",
    "orientations_processed = orientations_processed % (2*np.pi)\n",
    "orientations_processed_deg = 180.0 * orientations_processed / np.pi"
   ]
  },
  {
   "cell_type": "code",
   "execution_count": 47,
   "metadata": {},
   "outputs": [],
   "source": [
    "ground_truth_orientations_deg = 180.0 * np.array(ground_truth_orientations) / np.pi\n",
    "ground_truth_orientations_deg = ground_truth_orientations_deg[:len(orientations_processed_deg)]"
   ]
  },
  {
   "cell_type": "code",
   "execution_count": 48,
   "metadata": {},
   "outputs": [
    {
     "name": "stderr",
     "output_type": "stream",
     "text": [
      "/var/folders/qt/v86lr1d51fj_scwcvj3n1v8h0000gn/T/ipykernel_48044/1726909904.py:2: RuntimeWarning: invalid value encountered in remainder\n",
      "  orientation_diff = (orientation_diff + 180) % 360 - 180\n"
     ]
    }
   ],
   "source": [
    "orientation_diff = orientations_processed_deg - ground_truth_orientations_deg\n",
    "orientation_diff = (orientation_diff + 180) % 360 - 180\n",
    "orientation_diff = np.abs(orientation_diff)"
   ]
  },
  {
   "cell_type": "code",
   "execution_count": 42,
   "metadata": {},
   "outputs": [
    {
     "data": {
      "image/png": "[encoded data removed]",
      "text/plain": [
       "<Figure size 432x288 with 1 Axes>"
      ]
     },
     "metadata": {
      "needs_background": "light"
     },
     "output_type": "display_data"
    }
   ],
   "source": [
    "N = 1\n",
    "test = orientation_diff[~np.isnan(orientation_diff)]\n",
    "plt.plot(np.convolve(test, np.ones(N)/N, mode='valid'))\n",
    "plt.xlabel('frame')\n",
    "plt.ylabel('angle_diff')\n",
    "plt.ylim((0, 180))\n",
    "plt.savefig('e.pdf')"
   ]
  },
  {
   "cell_type": "code",
   "execution_count": 43,
   "metadata": {},
   "outputs": [
    {
     "data": {
      "image/png": "[encoded data removed]",
      "text/plain": [
       "<Figure size 432x288 with 1 Axes>"
      ]
     },
     "metadata": {
      "needs_background": "light"
     },
     "output_type": "display_data"
    }
   ],
   "source": [
    "plt.plot(ndimage.median_filter(test, size=30))\n",
    "plt.xlabel('frame')\n",
    "plt.ylabel('angle_diff')\n",
    "plt.ylim((0, 180))\n",
    "plt.savefig('f.pdf')"
   ]
  },
  {
   "cell_type": "code",
   "execution_count": 44,
   "metadata": {},
   "outputs": [
    {
     "data": {
      "image/png": "[encoded data removed]",
      "text/plain": [
       "<Figure size 432x288 with 1 Axes>"
      ]
     },
     "metadata": {
      "needs_background": "light"
     },
     "output_type": "display_data"
    }
   ],
   "source": [
    "plt.plot(ndimage.median_filter(test, size=30*60))\n",
    "plt.xlabel('frame')\n",
    "plt.ylabel('angle_diff')\n",
    "plt.ylim((0, 180))\n",
    "plt.savefig('g.pdf')"
   ]
  },
  {
   "cell_type": "markdown",
   "metadata": {},
   "source": [
    "occlusion robustness"
   ]
  },
  {
   "cell_type": "code",
   "execution_count": 49,
   "metadata": {},
   "outputs": [],
   "source": [
    "N = 1000\n",
    "df = pd.DataFrame({\n",
    "    'ground_truth_instruments': ground_truth_instruments[:N].tolist(),\n",
    "    'orientation_diff': ndimage.median_filter(orientation_diff, size=30)[:N].tolist()\n",
    "})"
   ]
  },
  {
   "cell_type": "code",
   "execution_count": 50,
   "metadata": {},
   "outputs": [
    {
     "data": {
      "text/html": [
       "<div>\n",
       "<style scoped>\n",
       "    .dataframe tbody tr th:only-of-type {\n",
       "        vertical-align: middle;\n",
       "    }\n",
       "\n",
       "    .dataframe tbody tr th {\n",
       "        vertical-align: top;\n",
       "    }\n",
       "\n",
       "    .dataframe thead th {\n",
       "        text-align: right;\n",
       "    }\n",
       "</style>\n",
       "<table border=\"1\" class=\"dataframe\">\n",
       "  <thead>\n",
       "    <tr style=\"text-align: right;\">\n",
       "      <th></th>\n",
       "      <th>ground_truth_instruments</th>\n",
       "      <th>orientation_diff</th>\n",
       "    </tr>\n",
       "  </thead>\n",
       "  <tbody>\n",
       "    <tr>\n",
       "      <th>0</th>\n",
       "      <td>False</td>\n",
       "      <td>0.010689</td>\n",
       "    </tr>\n",
       "    <tr>\n",
       "      <th>1</th>\n",
       "      <td>False</td>\n",
       "      <td>0.010689</td>\n",
       "    </tr>\n",
       "    <tr>\n",
       "      <th>2</th>\n",
       "      <td>False</td>\n",
       "      <td>0.010553</td>\n",
       "    </tr>\n",
       "    <tr>\n",
       "      <th>3</th>\n",
       "      <td>False</td>\n",
       "      <td>0.010689</td>\n",
       "    </tr>\n",
       "    <tr>\n",
       "      <th>4</th>\n",
       "      <td>False</td>\n",
       "      <td>0.010689</td>\n",
       "    </tr>\n",
       "    <tr>\n",
       "      <th>...</th>\n",
       "      <td>...</td>\n",
       "      <td>...</td>\n",
       "    </tr>\n",
       "    <tr>\n",
       "      <th>995</th>\n",
       "      <td>True</td>\n",
       "      <td>1.424455</td>\n",
       "    </tr>\n",
       "    <tr>\n",
       "      <th>996</th>\n",
       "      <td>True</td>\n",
       "      <td>1.424455</td>\n",
       "    </tr>\n",
       "    <tr>\n",
       "      <th>997</th>\n",
       "      <td>True</td>\n",
       "      <td>1.567922</td>\n",
       "    </tr>\n",
       "    <tr>\n",
       "      <th>998</th>\n",
       "      <td>True</td>\n",
       "      <td>1.618151</td>\n",
       "    </tr>\n",
       "    <tr>\n",
       "      <th>999</th>\n",
       "      <td>True</td>\n",
       "      <td>3.237102</td>\n",
       "    </tr>\n",
       "  </tbody>\n",
       "</table>\n",
       "<p>1000 rows × 2 columns</p>\n",
       "</div>"
      ],
      "text/plain": [
       "    ground_truth_instruments  orientation_diff\n",
       "0                      False          0.010689\n",
       "1                      False          0.010689\n",
       "2                      False          0.010553\n",
       "3                      False          0.010689\n",
       "4                      False          0.010689\n",
       "..                       ...               ...\n",
       "995                     True          1.424455\n",
       "996                     True          1.424455\n",
       "997                     True          1.567922\n",
       "998                     True          1.618151\n",
       "999                     True          3.237102\n",
       "\n",
       "[1000 rows x 2 columns]"
      ]
     },
     "execution_count": 50,
     "metadata": {},
     "output_type": "execute_result"
    }
   ],
   "source": [
    "df"
   ]
  },
  {
   "cell_type": "code",
   "execution_count": 51,
   "metadata": {},
   "outputs": [
    {
     "data": {
      "image/png": "[encoded data removed]",
      "text/plain": [
       "<Figure size 432x288 with 1 Axes>"
      ]
     },
     "metadata": {
      "needs_background": "light"
     },
     "output_type": "display_data"
    }
   ],
   "source": [
    "df_proc = df.astype({'ground_truth_instruments': 'str'})\n",
    "\n",
    "ax = sns.boxplot(x='ground_truth_instruments', y='orientation_diff', showfliers=False, data=df_proc)\n",
    "plt.savefig('h.pdf', transparent=True)"
   ]
  },
  {
   "cell_type": "code",
   "execution_count": 76,
   "metadata": {},
   "outputs": [
    {
     "data": {
      "text/plain": [
       "1661"
      ]
     },
     "execution_count": 76,
     "metadata": {},
     "output_type": "execute_result"
    }
   ],
   "source": [
    "dff = df[df['method'] == 'inout']\n",
    "len(dff[dff['ground_truth_instruments'] == False])"
   ]
  },
  {
   "cell_type": "code",
   "execution_count": null,
   "metadata": {},
   "outputs": [],
   "source": []
  },
  {
   "cell_type": "code",
   "execution_count": null,
   "metadata": {},
   "outputs": [],
   "source": []
  },
  {
   "cell_type": "code",
   "execution_count": null,
   "metadata": {},
   "outputs": [],
   "source": []
  },
  {
   "cell_type": "code",
   "execution_count": null,
   "metadata": {},
   "outputs": [],
   "source": []
  },
  {
   "cell_type": "code",
   "execution_count": 65,
   "metadata": {},
   "outputs": [
    {
     "data": {
      "text/plain": [
       "(3872,)"
      ]
     },
     "execution_count": 65,
     "metadata": {},
     "output_type": "execute_result"
    }
   ],
   "source": [
    "orientation_diff.shape"
   ]
  },
  {
   "cell_type": "code",
   "execution_count": 63,
   "metadata": {},
   "outputs": [
    {
     "data": {
      "image/png": "[encoded data removed]",
      "text/plain": [
       "<Figure size 432x288 with 1 Axes>"
      ]
     },
     "metadata": {},
     "output_type": "display_data"
    }
   ],
   "source": [
    "df_inout = df[df.method == 'inout']\n",
    "df_inout = df_inout.astype({'ground_truth_instruments': 'str'})\n",
    "\n",
    "custom_style = {'axes.labelcolor': 'white',\n",
    "                'xtick.color': 'white',\n",
    "                'ytick.color': 'white'}\n",
    "sns.set_style(\"darkgrid\", rc=custom_style)\n",
    "PROPS = {\n",
    "    'boxprops':{'edgecolor':'white'},\n",
    "    'medianprops':{'color':'white'},\n",
    "    'whiskerprops':{'color':'white'},\n",
    "    'capprops':{'color':'white'}\n",
    "}\n",
    "my_pal = {\"True\": \"#F5F4BC\", \"False\": \"#95CAC1\"}\n",
    "ax = sns.boxplot(x='ground_truth_instruments', y='radius_diff_normalized', palette=my_pal, showfliers=False, data=df_inout, **PROPS)\n",
    "plt.savefig('a.pdf', transparent=True)"
   ]
  },
  {
   "cell_type": "code",
   "execution_count": 64,
   "metadata": {},
   "outputs": [
    {
     "data": {
      "image/png": "[encoded data removed]",
      "text/plain": [
       "<Figure size 432x288 with 1 Axes>"
      ]
     },
     "metadata": {},
     "output_type": "display_data"
    }
   ],
   "source": [
    "df_inout = df[df.method == 'inout']\n",
    "df_inout = df_inout.astype({'ground_truth_instruments': 'str'})\n",
    "\n",
    "custom_style = {'axes.labelcolor': 'white',\n",
    "                'xtick.color': 'white',\n",
    "                'ytick.color': 'white'}\n",
    "sns.set_style(\"darkgrid\", rc=custom_style)\n",
    "PROPS = {\n",
    "    'boxprops':{'edgecolor':'white'},\n",
    "    'medianprops':{'color':'white'},\n",
    "    'whiskerprops':{'color':'white'},\n",
    "    'capprops':{'color':'white'}\n",
    "}\n",
    "my_pal = {\"True\": \"#F5F4BC\", \"False\": \"#95CAC1\"}\n",
    "ax = sns.boxplot(x='ground_truth_instruments', y='centration_normalized', palette=my_pal, showfliers=False, data=df_inout, **PROPS)\n",
    "plt.savefig('b.pdf', transparent=True)"
   ]
  },
  {
   "cell_type": "code",
   "execution_count": null,
   "metadata": {},
   "outputs": [],
   "source": []
  },
  {
   "cell_type": "code",
   "execution_count": null,
   "metadata": {},
   "outputs": [],
   "source": []
  },
  {
   "cell_type": "code",
   "execution_count": null,
   "metadata": {},
   "outputs": [],
   "source": []
  },
  {
   "cell_type": "code",
   "execution_count": null,
   "metadata": {},
   "outputs": [],
   "source": []
  },
  {
   "cell_type": "code",
   "execution_count": 109,
   "metadata": {},
   "outputs": [
    {
     "data": {
      "text/html": [
       "<div>\n",
       "<style scoped>\n",
       "    .dataframe tbody tr th:only-of-type {\n",
       "        vertical-align: middle;\n",
       "    }\n",
       "\n",
       "    .dataframe tbody tr th {\n",
       "        vertical-align: top;\n",
       "    }\n",
       "\n",
       "    .dataframe thead th {\n",
       "        text-align: right;\n",
       "    }\n",
       "</style>\n",
       "<table border=\"1\" class=\"dataframe\">\n",
       "  <thead>\n",
       "    <tr style=\"text-align: right;\">\n",
       "      <th></th>\n",
       "      <th>method</th>\n",
       "      <th>centration</th>\n",
       "      <th>ground_truth_radius</th>\n",
       "      <th>centration_normalized</th>\n",
       "      <th>radius_diff</th>\n",
       "      <th>radius_diff_normalized</th>\n",
       "      <th>ground_truth_instruments</th>\n",
       "    </tr>\n",
       "  </thead>\n",
       "  <tbody>\n",
       "    <tr>\n",
       "      <th>0</th>\n",
       "      <td>first</td>\n",
       "      <td>2.304886</td>\n",
       "      <td>152.07</td>\n",
       "      <td>0.007578</td>\n",
       "      <td>1.530006</td>\n",
       "      <td>0.010061</td>\n",
       "      <td>False</td>\n",
       "    </tr>\n",
       "    <tr>\n",
       "      <th>1</th>\n",
       "      <td>first</td>\n",
       "      <td>2.704163</td>\n",
       "      <td>152.07</td>\n",
       "      <td>0.008891</td>\n",
       "      <td>1.329994</td>\n",
       "      <td>0.008746</td>\n",
       "      <td>False</td>\n",
       "    </tr>\n",
       "    <tr>\n",
       "      <th>2</th>\n",
       "      <td>first</td>\n",
       "      <td>2.304886</td>\n",
       "      <td>152.07</td>\n",
       "      <td>0.007578</td>\n",
       "      <td>1.930000</td>\n",
       "      <td>0.012692</td>\n",
       "      <td>False</td>\n",
       "    </tr>\n",
       "    <tr>\n",
       "      <th>3</th>\n",
       "      <td>first</td>\n",
       "      <td>1.820027</td>\n",
       "      <td>152.07</td>\n",
       "      <td>0.005984</td>\n",
       "      <td>2.329994</td>\n",
       "      <td>0.015322</td>\n",
       "      <td>False</td>\n",
       "    </tr>\n",
       "    <tr>\n",
       "      <th>4</th>\n",
       "      <td>first</td>\n",
       "      <td>2.304886</td>\n",
       "      <td>152.07</td>\n",
       "      <td>0.007578</td>\n",
       "      <td>3.129997</td>\n",
       "      <td>0.020583</td>\n",
       "      <td>False</td>\n",
       "    </tr>\n",
       "    <tr>\n",
       "      <th>...</th>\n",
       "      <td>...</td>\n",
       "      <td>...</td>\n",
       "      <td>...</td>\n",
       "      <td>...</td>\n",
       "      <td>...</td>\n",
       "      <td>...</td>\n",
       "      <td>...</td>\n",
       "    </tr>\n",
       "    <tr>\n",
       "      <th>7739</th>\n",
       "      <td>inout</td>\n",
       "      <td>5.698359</td>\n",
       "      <td>154.62</td>\n",
       "      <td>0.018427</td>\n",
       "      <td>3.180003</td>\n",
       "      <td>0.020567</td>\n",
       "      <td>False</td>\n",
       "    </tr>\n",
       "    <tr>\n",
       "      <th>7740</th>\n",
       "      <td>inout</td>\n",
       "      <td>6.276249</td>\n",
       "      <td>153.84</td>\n",
       "      <td>0.020399</td>\n",
       "      <td>0.039997</td>\n",
       "      <td>0.000260</td>\n",
       "      <td>False</td>\n",
       "    </tr>\n",
       "    <tr>\n",
       "      <th>7741</th>\n",
       "      <td>inout</td>\n",
       "      <td>3.520128</td>\n",
       "      <td>153.84</td>\n",
       "      <td>0.011441</td>\n",
       "      <td>0.960003</td>\n",
       "      <td>0.006240</td>\n",
       "      <td>False</td>\n",
       "    </tr>\n",
       "    <tr>\n",
       "      <th>7742</th>\n",
       "      <td>inout</td>\n",
       "      <td>6.276249</td>\n",
       "      <td>153.84</td>\n",
       "      <td>0.020399</td>\n",
       "      <td>0.039997</td>\n",
       "      <td>0.000260</td>\n",
       "      <td>False</td>\n",
       "    </tr>\n",
       "    <tr>\n",
       "      <th>7743</th>\n",
       "      <td>inout</td>\n",
       "      <td>9.518865</td>\n",
       "      <td>153.65</td>\n",
       "      <td>0.030976</td>\n",
       "      <td>4.150003</td>\n",
       "      <td>0.027009</td>\n",
       "      <td>False</td>\n",
       "    </tr>\n",
       "  </tbody>\n",
       "</table>\n",
       "<p>7744 rows × 7 columns</p>\n",
       "</div>"
      ],
      "text/plain": [
       "     method  centration  ground_truth_radius  centration_normalized  \\\n",
       "0     first    2.304886               152.07               0.007578   \n",
       "1     first    2.704163               152.07               0.008891   \n",
       "2     first    2.304886               152.07               0.007578   \n",
       "3     first    1.820027               152.07               0.005984   \n",
       "4     first    2.304886               152.07               0.007578   \n",
       "...     ...         ...                  ...                    ...   \n",
       "7739  inout    5.698359               154.62               0.018427   \n",
       "7740  inout    6.276249               153.84               0.020399   \n",
       "7741  inout    3.520128               153.84               0.011441   \n",
       "7742  inout    6.276249               153.84               0.020399   \n",
       "7743  inout    9.518865               153.65               0.030976   \n",
       "\n",
       "      radius_diff  radius_diff_normalized ground_truth_instruments  \n",
       "0        1.530006                0.010061                    False  \n",
       "1        1.329994                0.008746                    False  \n",
       "2        1.930000                0.012692                    False  \n",
       "3        2.329994                0.015322                    False  \n",
       "4        3.129997                0.020583                    False  \n",
       "...           ...                     ...                      ...  \n",
       "7739     3.180003                0.020567                    False  \n",
       "7740     0.039997                0.000260                    False  \n",
       "7741     0.960003                0.006240                    False  \n",
       "7742     0.039997                0.000260                    False  \n",
       "7743     4.150003                0.027009                    False  \n",
       "\n",
       "[7744 rows x 7 columns]"
      ]
     },
     "execution_count": 109,
     "metadata": {},
     "output_type": "execute_result"
    }
   ],
   "source": [
    "df"
   ]
  },
  {
   "cell_type": "code",
   "execution_count": null,
   "metadata": {},
   "outputs": [],
   "source": []
  },
  {
   "cell_type": "code",
   "execution_count": null,
   "metadata": {},
   "outputs": [],
   "source": []
  },
  {
   "cell_type": "markdown",
   "metadata": {},
   "source": [
    "#### smoothing and outlier detection"
   ]
  },
  {
   "cell_type": "code",
   "execution_count": 52,
   "metadata": {},
   "outputs": [],
   "source": [
    "def get_smoothed_circles(circles, window_size=30, median_dev=0.1):\n",
    "    circles_inout_smoothed = []\n",
    "\n",
    "    window = []\n",
    "    for i in range(len(circles)):\n",
    "        window.insert(0, circles[i])\n",
    "        window = window[:window_size]\n",
    "\n",
    "        radii = np.array([r for r in np.array(window)[:,2] if ~np.isnan(r)])\n",
    "        median = np.median(radii)\n",
    "\n",
    "        filtered_circles = []\n",
    "        for circle in window:\n",
    "            if np.abs(circle[2] - median) < median_dev*median:\n",
    "                filtered_circles.append(circle)\n",
    "\n",
    "        smoothed_circle = np.array([np.nan]*3)\n",
    "        if filtered_circles:\n",
    "            filtered_circles = np.array(filtered_circles)\n",
    "            smoothed_circle = np.mean(filtered_circles, axis=0)\n",
    "\n",
    "        circles_inout_smoothed.append(smoothed_circle)\n",
    "    \n",
    "    return np.array(circles_inout_smoothed)"
   ]
  },
  {
   "cell_type": "code",
   "execution_count": 53,
   "metadata": {},
   "outputs": [
    {
     "name": "stderr",
     "output_type": "stream",
     "text": [
      "/Users/mirek/Documents/Custom_Surgical/Cataract-Surgery-Training-Explorations/.venv/lib/python3.9/site-packages/numpy/core/fromnumeric.py:3440: RuntimeWarning: Mean of empty slice.\n",
      "  return _methods._mean(a, axis=axis, dtype=dtype,\n",
      "/Users/mirek/Documents/Custom_Surgical/Cataract-Surgery-Training-Explorations/.venv/lib/python3.9/site-packages/numpy/core/_methods.py:189: RuntimeWarning: invalid value encountered in double_scalars\n",
      "  ret = ret.dtype.type(ret / rcount)\n"
     ]
    }
   ],
   "source": [
    "df = pd.DataFrame({\n",
    "    'center_offset': (circles_inout[:,:2] - ground_truth_circles[:,:2]).tolist(),\n",
    "    'center_offset_1': (get_smoothed_circles(circles_inout, 1)[:,:2] - ground_truth_circles[:,:2]).tolist(),\n",
    "    'center_offset_15': (get_smoothed_circles(circles_inout, 15)[:,:2] - ground_truth_circles[:,:2]).tolist(),\n",
    "    'center_offset_30': (get_smoothed_circles(circles_inout, 30)[:,:2] - ground_truth_circles[:,:2]).tolist(),\n",
    "    'center_offset_60': (get_smoothed_circles(circles_inout, 60)[:,:2] - ground_truth_circles[:,:2]).tolist(),\n",
    "    'center_offset_120': (get_smoothed_circles(circles_inout, 120)[:,:2] - ground_truth_circles[:,:2]).tolist(),\n",
    "})"
   ]
  },
  {
   "cell_type": "code",
   "execution_count": 252,
   "metadata": {},
   "outputs": [
    {
     "name": "stdout",
     "output_type": "stream",
     "text": [
      "7\n"
     ]
    },
    {
     "data": {
      "image/png": "[encoded data removed]",
      "text/plain": [
       "<Figure size 720x720 with 1 Axes>"
      ]
     },
     "metadata": {},
     "output_type": "display_data"
    }
   ],
   "source": [
    "N = 0\n",
    "NN = 150\n",
    "col = 'center_offset'\n",
    "\n",
    "center_offset_max = np.nanmax(np.abs(np.vstack(df[N:NN][col].values)))\n",
    "center_offset_max = 7\n",
    "# print(center_offset_max)\n",
    "center_diffs_inout = df[N:NN][col].values\n",
    "center_diffs_inout = np.vstack(center_diffs_inout)\n",
    "\n",
    "fig, plots = plt.subplots(1, 1, figsize=(10,10))\n",
    "plots = [plots]\n",
    "\n",
    "plots[0].plot(center_diffs_inout[:,0], center_diffs_inout[:,1])\n",
    "plots[0].set_xlim(-center_offset_max, center_offset_max)\n",
    "plots[0].set_ylim(-center_offset_max, center_offset_max)\n",
    "plots[0].set_title('center_offset')\n",
    "\n",
    "for i in range(center_diffs_inout.shape[0]):\n",
    "    plots[0].annotate(str(i), (center_diffs_inout[i,0], center_diffs_inout[i,1]))\n",
    "\n",
    "plt.show()"
   ]
  },
  {
   "cell_type": "code",
   "execution_count": 61,
   "metadata": {},
   "outputs": [
    {
     "name": "stdout",
     "output_type": "stream",
     "text": [
      "1.75\n"
     ]
    },
    {
     "data": {
      "image/png": "[encoded data removed]",
      "text/plain": [
       "<Figure size 720x720 with 1 Axes>"
      ]
     },
     "metadata": {
      "needs_background": "light"
     },
     "output_type": "display_data"
    }
   ],
   "source": [
    "N = 0\n",
    "NN = 150\n",
    "col = 'center_offset_120'\n",
    "\n",
    "center_offset_max = np.nanmax(np.abs(np.vstack(df[N:NN][col].values)))\n",
    "print(center_offset_max)\n",
    "center_offset_max = 7\n",
    "center_diffs_inout = df[N:NN][col].values\n",
    "center_diffs_inout = np.vstack(center_diffs_inout)\n",
    "\n",
    "fig, plots = plt.subplots(1, 1, figsize=(10,10))\n",
    "plots = [plots]\n",
    "\n",
    "plots[0].plot(center_diffs_inout[:,0], center_diffs_inout[:,1])\n",
    "plots[0].set_xlim(-center_offset_max, center_offset_max)\n",
    "plots[0].set_ylim(-center_offset_max, center_offset_max)\n",
    "plots[0].set_title('center_offset')\n",
    "\n",
    "# for i in range(center_diffs_inout.shape[0]):\n",
    "#     plots[0].annotate(str(i), (center_diffs_inout[i,0], center_diffs_inout[i,1]))\n",
    "\n",
    "# custom_style = {'axes.labelcolor': 'white',\n",
    "#                 'xtick.color': 'white',\n",
    "#                 'ytick.color': 'white'}\n",
    "# sns.set_style(\"darkgrid\", rc=custom_style)\n",
    "# PROPS = {\n",
    "#     'boxprops':{'edgecolor':'white'},\n",
    "#     'medianprops':{'color':'white'},\n",
    "#     'whiskerprops':{'color':'white'},\n",
    "#     'capprops':{'color':'white'}\n",
    "# }\n",
    "# my_pal = {\"True\": \"#F5F4BC\", \"False\": \"#95CAC1\"}\n",
    "\n",
    "plt.savefig('e.pdf')"
   ]
  },
  {
   "cell_type": "code",
   "execution_count": null,
   "metadata": {},
   "outputs": [],
   "source": []
  },
  {
   "cell_type": "code",
   "execution_count": null,
   "metadata": {},
   "outputs": [],
   "source": []
  },
  {
   "cell_type": "code",
   "execution_count": null,
   "metadata": {},
   "outputs": [],
   "source": []
  },
  {
   "cell_type": "code",
   "execution_count": null,
   "metadata": {},
   "outputs": [],
   "source": []
  },
  {
   "cell_type": "code",
   "execution_count": null,
   "metadata": {},
   "outputs": [],
   "source": []
  }
 ],
 "metadata": {
  "kernelspec": {
   "display_name": "Python 3 (ipykernel)",
   "language": "python",
   "name": "python3"
  },
  "language_info": {
   "codemirror_mode": {
    "name": "ipython",
    "version": 3
   },
   "file_extension": ".py",
   "mimetype": "text/x-python",
   "name": "python",
   "nbconvert_exporter": "python",
   "pygments_lexer": "ipython3",
   "version": "3.9.12"
  }
 },
 "nbformat": 4,
 "nbformat_minor": 4
}
