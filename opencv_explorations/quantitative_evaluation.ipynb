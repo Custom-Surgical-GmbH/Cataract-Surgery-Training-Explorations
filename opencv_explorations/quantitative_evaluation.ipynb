{
 "cells": [
  {
   "cell_type": "markdown",
   "metadata": {},
   "source": [
    "### Imports"
   ]
  },
  {
   "cell_type": "code",
   "execution_count": 45,
   "metadata": {},
   "outputs": [
    {
     "name": "stdout",
     "output_type": "stream",
     "text": [
      "The autoreload extension is already loaded. To reload it, use:\n",
      "  %reload_ext autoreload\n"
     ]
    }
   ],
   "source": [
    "import cv2\n",
    "import ast\n",
    "import time\n",
    "\n",
    "import requests\n",
    "import numpy as np\n",
    "import matplotlib.pyplot as plt\n",
    "import pandas as pd\n",
    "from sympy import Interval, Union\n",
    "from tqdm import tqdm, trange\n",
    "import seaborn as sns\n",
    "\n",
    "from PIL import ImageFont, ImageDraw, Image\n",
    "\n",
    "from helpers.limbus_detection import detect_circle\n",
    "from helpers.bioniko_detection import detect_bioniko\n",
    "from helpers.orientation_detection import detect_markers_entropy, detect_markers_hu_moments\n",
    "from helpers.keypoint_based_tracking import estimate_transform, get_transform_info\n",
    "from helpers.misc import get_avg_laplacian, get_in_out_intensity_diff, get_mean_intensity, \\\n",
    "    jiggle_circle, tighten_circle\n",
    "from helpers.view_detection import get_view_mask\n",
    "\n",
    "\n",
    "%load_ext autoreload\n",
    "%autoreload 2"
   ]
  },
  {
   "cell_type": "markdown",
   "metadata": {},
   "source": [
    "#### helper functions"
   ]
  },
  {
   "cell_type": "code",
   "execution_count": 2,
   "metadata": {},
   "outputs": [],
   "source": [
    "def extract_annotations(csv_path, total_frames, label_name, fps=30):\n",
    "    data = pd.read_csv(csv_path)\n",
    "    data['points'] = data['points'].apply(lambda x: np.array(ast.literal_eval(x)))\n",
    "    data['frames'] = data['frames'].apply(lambda x: np.array(ast.literal_eval(x)))\n",
    "    \n",
    "    annotations = []\n",
    "    frames = []\n",
    "    full_frame_intervals = []\n",
    "    for _, row in data[data.label_name == label_name].iterrows():\n",
    "        annotations.append(row['points'])\n",
    "        frames.append(row['frames'])\n",
    "        full_frame_intervals.append(Interval(row['frames'][0], row['frames'][-1]))\n",
    "        \n",
    "    full_frame_union = Union(*full_frame_intervals)\n",
    "        \n",
    "    annotations = np.concatenate(annotations)\n",
    "    frames = np.concatenate(frames)\n",
    "    \n",
    "    sort_index = np.argsort(frames)\n",
    "    \n",
    "    annotations = annotations[sort_index]\n",
    "    frames = frames[sort_index]\n",
    "    \n",
    "    annotations_per_frame = []\n",
    "    cur_index = 0\n",
    "    for frame in trange(total_frames):\n",
    "        if cur_index < (len(annotations) - 1) and (frame/30) >= frames[cur_index + 1]:\n",
    "            cur_index += 1\n",
    "        \n",
    "        if full_frame_union.contains(frame/30):\n",
    "            annotations_per_frame.append(annotations[cur_index])\n",
    "        else:\n",
    "            annotations_per_frame.append(None)\n",
    "        \n",
    "    return annotations_per_frame\n",
    "    "
   ]
  },
  {
   "cell_type": "code",
   "execution_count": 3,
   "metadata": {},
   "outputs": [],
   "source": [
    "def get_orientation(circle, zero_point):\n",
    "    a = np.array(zero_point)\n",
    "    b = np.array([circle[0], circle[1]])\n",
    "    c = a - b\n",
    "    \n",
    "    alpha = np.arctan2(c[1], c[0])\n",
    "    \n",
    "    if alpha < 0:\n",
    "        alpha = alpha + 2*np.pi\n",
    "    \n",
    "    alpha = 2*np.pi - alpha\n",
    "    \n",
    "    return alpha"
   ]
  },
  {
   "cell_type": "code",
   "execution_count": 4,
   "metadata": {},
   "outputs": [],
   "source": [
    "def get_line_points(circle, zero_point):\n",
    "    a = np.array(zero_point)\n",
    "    b = np.array([circle[0], circle[1]])\n",
    "    c = a - b\n",
    "    c = c / np.linalg.norm(c)\n",
    "    c = c * circle[2]\n",
    "    \n",
    "    start = b\n",
    "    end = b + c \n",
    "    \n",
    "    return [round(start[0]), round(start[1])], [round(end[0]), round(end[1])]"
   ]
  },
  {
   "cell_type": "code",
   "execution_count": 5,
   "metadata": {},
   "outputs": [],
   "source": [
    "def draw_circle(img, circle, color=(0,255,0)):\n",
    "    center = (round(circle[0]),round(circle[1]))\n",
    "    radius = round(circle[2])\n",
    "    cv2.circle(img, center, radius, color)"
   ]
  },
  {
   "cell_type": "code",
   "execution_count": 6,
   "metadata": {},
   "outputs": [],
   "source": [
    "def draw_axis(img, circle, zero_point, color=(0,255,0)):\n",
    "    start, end = get_line_points(circle, zero_point)\n",
    "    cv2.line(img, start, end, color)"
   ]
  },
  {
   "cell_type": "code",
   "execution_count": 7,
   "metadata": {},
   "outputs": [],
   "source": [
    "def numpy_array_robust(l):\n",
    "    size = None\n",
    "    for el in l:\n",
    "        if el is not None:\n",
    "            size = len(el)\n",
    "            break\n",
    "            \n",
    "    return np.array([\n",
    "        (\n",
    "            el\n",
    "            if el is not None \n",
    "            else np.array(size*[np.nan])\n",
    "        )\n",
    "        for el in l\n",
    "    ])"
   ]
  },
  {
   "cell_type": "markdown",
   "metadata": {},
   "source": [
    "#### displaying the ground truth"
   ]
  },
  {
   "cell_type": "code",
   "execution_count": 20,
   "metadata": {},
   "outputs": [
    {
     "name": "stdout",
     "output_type": "stream",
     "text": [
      "extracting circles\n"
     ]
    },
    {
     "name": "stderr",
     "output_type": "stream",
     "text": [
      "100%|███████████████████████████████████████| 3873/3873 [00:45<00:00, 84.67it/s]\n"
     ]
    },
    {
     "name": "stdout",
     "output_type": "stream",
     "text": [
      "extracting orientation\n"
     ]
    },
    {
     "name": "stderr",
     "output_type": "stream",
     "text": [
      "100%|██████████████████████████████████████| 3873/3873 [00:17<00:00, 216.64it/s]\n"
     ]
    }
   ],
   "source": [
    "cap = cv2.VideoCapture('data/artificial/procedure5_lofi.mkv')\n",
    "annotation_path = 'data/annotations/6238-first-4.csv'\n",
    "\n",
    "print('extracting circles')\n",
    "ground_truth_circles = extract_annotations(annotation_path, int(cap.get(cv2.CAP_PROP_FRAME_COUNT)), 'limbus')\n",
    "ground_truth_circles = numpy_array_robust(ground_truth_circles)\n",
    "print('extracting orientation')\n",
    "ground_truth_zero_points = extract_annotations(annotation_path, int(cap.get(cv2.CAP_PROP_FRAME_COUNT)), 'orientation')\n",
    "ground_truth_zero_points = numpy_array_robust(ground_truth_zero_points)"
   ]
  },
  {
   "cell_type": "code",
   "execution_count": null,
   "metadata": {},
   "outputs": [],
   "source": [
    "cap = cv2.VideoCapture('data/artificial/procedure5_lofi.mkv')\n",
    "frame = 0\n",
    "while cap.isOpened():\n",
    "    ret, base = cap.read()\n",
    "    if not ret:\n",
    "        break\n",
    "\n",
    "    # hsv conversion\n",
    "    base_hsv = cv2.cvtColor(base, cv2.COLOR_BGR2HSV)\n",
    "    base_value = base_hsv[:, :, 2]\n",
    "    \n",
    "    # visualization\n",
    "    vis = cv2.cvtColor(base_value, cv2.COLOR_GRAY2BGR)\n",
    "    circle = ground_truth_circles[frame]\n",
    "    zero_point = ground_truth_zero_points[frame]\n",
    "    if circle is not None:\n",
    "        draw_circle(vis, circle)\n",
    "        if zero_point is not None:\n",
    "            draw_axis(vis, circle, zero_point)\n",
    "#             print(180*get_orientation(circle, zero_point)/np.pi)\n",
    "    else:\n",
    "        cv2.putText(vis, 'no detection', (10,10), cv2.FONT_HERSHEY_COMPLEX, 1, (0,0,255))\n",
    "\n",
    "    cv2.imshow('result', base)\n",
    "    cv2.imshow('visualization', vis)\n",
    "    \n",
    "    frame += 1\n",
    "\n",
    "    if cv2.waitKey(25) == ord('q'):\n",
    "        break\n",
    "\n",
    "cap.release()\n",
    "for _ in range(10):\n",
    "    cv2.destroyAllWindows()\n",
    "    cv2.waitKey(1)"
   ]
  },
  {
   "cell_type": "markdown",
   "metadata": {},
   "source": [
    "#### limbus tracking: naive vs. inout"
   ]
  },
  {
   "cell_type": "markdown",
   "metadata": {},
   "source": [
    "visualization (optional)"
   ]
  },
  {
   "cell_type": "code",
   "execution_count": null,
   "metadata": {},
   "outputs": [],
   "source": [
    "cap = cv2.VideoCapture('data/artificial/procedure5_lofi.mkv')\n",
    "frame = 0\n",
    "while cap.isOpened():\n",
    "    ret, base = cap.read()\n",
    "    if not ret:\n",
    "        break\n",
    "\n",
    "    # hsv conversion\n",
    "    base_hsv = cv2.cvtColor(base, cv2.COLOR_BGR2HSV)\n",
    "    base_value = base_hsv[:, :, 2]\n",
    "    \n",
    "    # visualization\n",
    "    vis = cv2.cvtColor(base_value, cv2.COLOR_GRAY2BGR)\n",
    "    ground_truth_circle = ground_truth_circles[frame]\n",
    "    if ground_truth_circle is not None:\n",
    "        draw_circle(vis, ground_truth_circle)\n",
    "    else:\n",
    "        cv2.putText(vis, 'no groundtruth', (10,10), cv2.FONT_HERSHEY_COMPLEX, 1, (0,0,255))\n",
    "        \n",
    "    # detection\n",
    "    circle = detect_circle(\n",
    "        base_value,\n",
    "        validation='inout',\n",
    "        validation_mode='max',\n",
    "        validation_value_thresh=0.0,\n",
    "        considered_ratio_s=0.1,\n",
    "        circle_width_to_radius_ratio=0.059,\n",
    "        min_radius_ratio=1/10,\n",
    "        max_radius_ratio=1/2,\n",
    "        max_processing_dim=320,\n",
    "        gaussian_blur_sigma=2.3\n",
    "    )\n",
    "    if circle is not None:\n",
    "        draw_circle(vis, circle, (255,0,0))\n",
    "\n",
    "    cv2.imshow('result', base)\n",
    "    cv2.imshow('visualization', vis)\n",
    "    \n",
    "    frame += 1\n",
    "\n",
    "    if cv2.waitKey(25) == ord('q'):\n",
    "        break\n",
    "\n",
    "cap.release()\n",
    "for _ in range(10):\n",
    "    cv2.destroyAllWindows()\n",
    "    cv2.waitKey(1)"
   ]
  },
  {
   "cell_type": "markdown",
   "metadata": {},
   "source": [
    "computation"
   ]
  },
  {
   "cell_type": "code",
   "execution_count": 13,
   "metadata": {},
   "outputs": [
    {
     "name": "stderr",
     "output_type": "stream",
     "text": [
      "100%|██████████████████████████████████████▉| 3872/3873 [02:45<00:00, 23.34it/s]\n"
     ]
    }
   ],
   "source": [
    "cap = cv2.VideoCapture('data/artificial/procedure5_lofi.mkv')\n",
    "circles_inout = []\n",
    "circles_first = []\n",
    "\n",
    "total_frames = int(cap.get(cv2.CAP_PROP_FRAME_COUNT))\n",
    "pbar = tqdm(total=total_frames)\n",
    "frame = 0\n",
    "while cap.isOpened():\n",
    "    ret, base = cap.read()\n",
    "    if not ret:\n",
    "        break\n",
    "        \n",
    "    # hsv conversion\n",
    "    base_hsv = cv2.cvtColor(base, cv2.COLOR_BGR2HSV)\n",
    "    base_value = base_hsv[:, :, 2]\n",
    "        \n",
    "    # first\n",
    "    circle = detect_circle(\n",
    "        base_value,\n",
    "        validation='first',\n",
    "        circle_width_to_radius_ratio=0.059,\n",
    "        min_radius_ratio=1/10,\n",
    "        max_radius_ratio=1/2,\n",
    "        max_processing_dim=320,\n",
    "        gaussian_blur_sigma=2.3\n",
    "    )\n",
    "    circles_first.append(circle)\n",
    "    \n",
    "    # inout\n",
    "    circle = detect_circle(\n",
    "        base_value,\n",
    "        validation='inout',\n",
    "        validation_mode='max',\n",
    "        validation_value_thresh=0.0,\n",
    "        considered_ratio_s=0.1,\n",
    "        circle_width_to_radius_ratio=0.059,\n",
    "        min_radius_ratio=1/10,\n",
    "        max_radius_ratio=1/2,\n",
    "        max_processing_dim=320,\n",
    "        gaussian_blur_sigma=2.3\n",
    "    )\n",
    "    circles_inout.append(circle)\n",
    "    \n",
    "    pbar.update()\n",
    "\n",
    "    if cv2.waitKey(25) == ord('q'):\n",
    "        break\n",
    "        \n",
    "pbar.close()\n",
    "\n",
    "cap.release()\n",
    "for _ in range(10):\n",
    "    cv2.destroyAllWindows()\n",
    "    cv2.waitKey(1)"
   ]
  },
  {
   "cell_type": "code",
   "execution_count": 21,
   "metadata": {},
   "outputs": [],
   "source": [
    "ground_truth_circles = ground_truth_circles[:len(circles_first)]\n",
    "ground_truth_zero_points = ground_truth_zero_points[:len(circles_first)]"
   ]
  },
  {
   "cell_type": "code",
   "execution_count": 15,
   "metadata": {},
   "outputs": [],
   "source": [
    "circles_first = numpy_array_robust(circles_first)\n",
    "circles_inout = numpy_array_robust(circles_inout)"
   ]
  },
  {
   "cell_type": "markdown",
   "metadata": {},
   "source": [
    "centration & radius diffrence"
   ]
  },
  {
   "cell_type": "code",
   "execution_count": 96,
   "metadata": {},
   "outputs": [],
   "source": [
    "centration_first = np.linalg.norm(circles_first[:,:2] - ground_truth_circles[:,:2], axis=1)\n",
    "# TODO: normalization by radius might be better\n",
    "centration_first_normalized = centration_first / (2*ground_truth_circles[:,2])\n",
    "\n",
    "centration_inout = np.linalg.norm(circles_inout[:,:2] - ground_truth_circles[:,:2], axis=1)\n",
    "# TODO: normalization by radius might be better\n",
    "centration_inout_normalized = centration_inout / (2*ground_truth_circles[:,2])\n",
    "\n",
    "radius_diff_first = np.abs(circles_first[:,2] - ground_truth_circles[:,2])\n",
    "radius_diff_first_normalized = radius_diff_first / ground_truth_circles[:,2]\n",
    "radius_diff_inout = np.abs(circles_inout[:,2] - ground_truth_circles[:,2])\n",
    "radius_diff_inout_normalized = radius_diff_inout / ground_truth_circles[:,2]"
   ]
  },
  {
   "cell_type": "code",
   "execution_count": 98,
   "metadata": {},
   "outputs": [],
   "source": [
    "df = pd.DataFrame({\n",
    "    'method': len(centration_first)*['first'] + len(centration_inout)*['inout'],\n",
    "    'centration': centration_first.tolist() + centration_inout.tolist(),\n",
    "    'ground_truth_radius': ground_truth_circles[:,2].tolist()*2,\n",
    "    'centration_normalized': centration_first_normalized.tolist() + centration_inout_normalized.tolist(),\n",
    "    'radius_diff': radius_diff_first.tolist() + radius_diff_inout.tolist(),\n",
    "    'radius_diff_normalized': radius_diff_first_normalized.tolist() + radius_diff_inout_normalized.tolist(),\n",
    "})"
   ]
  },
  {
   "cell_type": "code",
   "execution_count": 99,
   "metadata": {},
   "outputs": [
    {
     "data": {
      "image/png": "[encoded data removed]",
      "text/plain": [
       "<Figure size 432x288 with 1 Axes>"
      ]
     },
     "metadata": {
      "needs_background": "light"
     },
     "output_type": "display_data"
    }
   ],
   "source": [
    "ax = sns.boxplot(x='method', y='centration_normalized', showfliers=False, data=df)"
   ]
  },
  {
   "cell_type": "code",
   "execution_count": 101,
   "metadata": {},
   "outputs": [
    {
     "data": {
      "image/png": "[encoded data removed]",
      "text/plain": [
       "<Figure size 432x288 with 1 Axes>"
      ]
     },
     "metadata": {
      "needs_background": "light"
     },
     "output_type": "display_data"
    }
   ],
   "source": [
    "ax = sns.boxplot(x='method', y='radius_diff_normalized', showfliers=False, data=df)"
   ]
  },
  {
   "cell_type": "code",
   "execution_count": null,
   "metadata": {},
   "outputs": [],
   "source": []
  },
  {
   "cell_type": "code",
   "execution_count": null,
   "metadata": {},
   "outputs": [],
   "source": []
  },
  {
   "cell_type": "code",
   "execution_count": null,
   "metadata": {},
   "outputs": [],
   "source": []
  },
  {
   "cell_type": "code",
   "execution_count": null,
   "metadata": {},
   "outputs": [],
   "source": []
  },
  {
   "cell_type": "code",
   "execution_count": null,
   "metadata": {},
   "outputs": [],
   "source": []
  }
 ],
 "metadata": {
  "kernelspec": {
   "display_name": "Python 3 (ipykernel)",
   "language": "python",
   "name": "python3"
  },
  "language_info": {
   "codemirror_mode": {
    "name": "ipython",
    "version": 3
   },
   "file_extension": ".py",
   "mimetype": "text/x-python",
   "name": "python",
   "nbconvert_exporter": "python",
   "pygments_lexer": "ipython3",
   "version": "3.9.10"
  }
 },
 "nbformat": 4,
 "nbformat_minor": 4
}
