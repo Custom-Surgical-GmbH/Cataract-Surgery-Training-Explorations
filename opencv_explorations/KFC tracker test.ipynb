{
 "cells": [
  {
   "cell_type": "code",
   "execution_count": 1,
   "id": "4d41f69b",
   "metadata": {},
   "outputs": [],
   "source": [
    "import cv2\n",
    "import random\n",
    "import numpy as np\n",
    "from helpers.limbus_detection import detect_limbus\n",
    "from helpers.misc import jiggle_circle, tighten_circle, repair_bbox\n",
    "from helpers.view_detection import get_view_mask\n",
    "import matplotlib.pyplot as plt\n",
    "\n",
    "%load_ext autoreload\n",
    "%autoreload 2"
   ]
  },
  {
   "cell_type": "code",
   "execution_count": 2,
   "id": "9ebef9a3",
   "metadata": {},
   "outputs": [],
   "source": [
    "kcf_params = cv2.TrackerKCF_Params()\n",
    "# kcf_params.compressed_size = 1\n",
    "# kcf_params.desc_pca = cv2.TrackerKCF_GRAY\n",
    "# kcf_params.desc_npca = cv2.TrackerKCF_GRAY\n",
    "# kcf_params.resize = True\n",
    "# kcf_params.detect_thresh = 0.7\n",
    "\n",
    "csrt_params = cv2.TrackerCSRT_Params()\n",
    "# csrt_params.psr_threshold = 0.05\n",
    "\n",
    "def reset_tracker(frame, view_mask=None):\n",
    "    circle = detect_limbus(cv2.cvtColor(frame, cv2.COLOR_BGR2GRAY), validation='inout',\n",
    "                           validation_value_thresh=40, view_mask=view_mask)\n",
    "    if circle is None:\n",
    "        return None\n",
    "\n",
    "    tracker = cv2.TrackerKCF_create(kcf_params)\n",
    "#     tracker = cv2.TrackerCSRT_create(csrt_params)\n",
    "\n",
    "    bbox = (round(circle[0] - circle[2]), round(circle[1] - circle[2]), \n",
    "            round(circle[2]*2), round(circle[2]*2))\n",
    "    tracker.init(frame, bbox)\n",
    "    \n",
    "    return tracker"
   ]
  },
  {
   "cell_type": "code",
   "execution_count": 3,
   "id": "ee2dd6d4",
   "metadata": {},
   "outputs": [],
   "source": [
    "# filepath = '/Users/mirek/Desktop/bioniko_input_long.mp4'\n",
    "filepath = '/Users/mirek/Desktop/test.mp4'\n",
    "cap = cv2.VideoCapture(filepath)\n",
    "\n",
    "_, frame = cap.read()\n",
    "tracker = reset_tracker(frame)"
   ]
  },
  {
   "cell_type": "code",
   "execution_count": 4,
   "id": "1b7ca25f",
   "metadata": {},
   "outputs": [],
   "source": [
    "while cap.isOpened():\n",
    "    # Read a new frame\n",
    "    ret, frame = cap.read() \n",
    "    if ret == False:\n",
    "        break\n",
    "\n",
    "    timer = cv2.getTickCount()\n",
    "\n",
    "#     tracker = reset_tracker(frame)\n",
    "    if tracker is None:\n",
    "        ok = False\n",
    "    else:\n",
    "        ok, bbox = tracker.update(frame)\n",
    "        \n",
    "    fps = cv2.getTickFrequency() / (cv2.getTickCount() - timer)\n",
    "\n",
    "    if ok:\n",
    "        p1 = (int(bbox[0]), int(bbox[1]))\n",
    "        p2 = (int(bbox[0] + bbox[2]), int(bbox[1] + bbox[3]))\n",
    "        cv2.circle(frame, (round(bbox[0] + bbox[2]/2), round(bbox[1] + bbox[3]/2)),\n",
    "                   round((bbox[2] + bbox[3])/4), (255,0,0))\n",
    "        cv2.putText(frame, \"width v. height diff: %d\" % abs(bbox[2] - bbox[3]),\n",
    "                    (100,80), cv2.FONT_HERSHEY_SIMPLEX, 0.75,\n",
    "                    (0,0,255) if abs(bbox[2] - bbox[3]) > 0 else (0,255,0),2)\n",
    "        cv2.rectangle(frame, p1, p2, (255,0,0), 2, 1)\n",
    "    else:\n",
    "        cv2.putText(frame, \"Tracking failure detected\", (100,80), cv2.FONT_HERSHEY_SIMPLEX, 0.75,(0,0,255),2)\n",
    "        tracker = reset_tracker(frame)\n",
    "\n",
    "    if fps < 20:\n",
    "        tracker = None\n",
    "        \n",
    "#     cv2.putText(frame, \"KCF Tracker\", (100,20), cv2.FONT_HERSHEY_SIMPLEX, 0.75, (50,170,50),2);\n",
    "    cv2.putText(frame, \"FPS : \" + str(int(fps)), (100,50), cv2.FONT_HERSHEY_SIMPLEX, 0.75, (50,170,50), 2);\n",
    "    cv2.imshow(\"Tracking\", frame)\n",
    "\n",
    "    # Exit if ESC pressed\n",
    "    if cv2.waitKey(1) & 0xFF == ord('q'): \n",
    "        break\n",
    "\n",
    "cap.release()                    \n",
    "cv2.destroyAllWindows() "
   ]
  },
  {
   "cell_type": "markdown",
   "id": "40e13869",
   "metadata": {},
   "source": [
    "### Circle jiggle"
   ]
  },
  {
   "cell_type": "code",
   "execution_count": null,
   "id": "eca1f5c1",
   "metadata": {},
   "outputs": [],
   "source": [
    "im = cv2.imread('/Users/mirek/Desktop/test2.png')\n",
    "im = cv2.cvtColor(im, cv2.COLOR_BGR2GRAY)\n",
    "plt.imshow(im, cmap='gray')"
   ]
  },
  {
   "cell_type": "code",
   "execution_count": null,
   "id": "548ceca0",
   "metadata": {},
   "outputs": [],
   "source": [
    "CORRECT_CIRCLE = np.array((265,370,235))\n",
    "INIT_CIRCLE = np.array((300,300,235))\n",
    "\n",
    "# CORRECT_CIRCLE = np.array((270,310,185))\n",
    "# INIT_CIRCLE = np.array((300,300,185))"
   ]
  },
  {
   "cell_type": "code",
   "execution_count": null,
   "id": "cef1bc20",
   "metadata": {},
   "outputs": [],
   "source": [
    "im_c = im.copy()\n",
    "mask = np.zeros(im_c.shape, dtype=np.byte)\n",
    "cv2.circle(im_c, (INIT_CIRCLE[0], INIT_CIRCLE[1]), INIT_CIRCLE[2], 255, 10)\n",
    "cv2.circle(mask, (INIT_CIRCLE[0], INIT_CIRCLE[1]), INIT_CIRCLE[2], 1, 10)\n",
    "\n",
    "_, axs = plt.subplots(1,2)\n",
    "axs[0].imshow(im_c, cmap='gray')\n",
    "axs[1].imshow(mask)"
   ]
  },
  {
   "cell_type": "code",
   "execution_count": null,
   "id": "af9d4e7e",
   "metadata": {},
   "outputs": [],
   "source": [
    "moments = cv2.moments(im*mask, False)\n",
    "moments"
   ]
  },
  {
   "cell_type": "code",
   "execution_count": null,
   "id": "afbbb6a9",
   "metadata": {},
   "outputs": [],
   "source": [
    "center = (round(moments['m10']/moments['m00']),\n",
    "          round(moments['m01']/moments['m00']))\n",
    "direction = (round(moments['m10']/moments['m00'] - INIT_CIRCLE[0]),\n",
    "             round(moments['m01']/moments['m00'] - INIT_CIRCLE[1]))\n",
    "im_cc = im_c.copy()\n",
    "cv2.drawMarker(im_cc, center, 255, thickness=3)\n",
    "cv2.line(im_cc, (INIT_CIRCLE[0], INIT_CIRCLE[1]), center, 255, thickness=3)\n",
    "\n",
    "plt.imshow(im_cc, cmap='gray')"
   ]
  },
  {
   "cell_type": "code",
   "execution_count": null,
   "id": "e24f2f31",
   "metadata": {},
   "outputs": [],
   "source": [
    "MAX_ITER = 10\n",
    "ALPHA = 0.5\n",
    "\n",
    "iter_ims = [im_c]\n",
    "circle = np.copy(INIT_CIRCLE).astype('float32')\n",
    "for _ in range(MAX_ITER):\n",
    "    # pre edge treatment\n",
    "    mask = np.zeros(im_c.shape, dtype=np.byte)\n",
    "    cv2.circle(mask, (round(circle[0]), round(circle[1])), round(circle[2]), 1, 10)\n",
    "    moments = cv2.moments(im*mask, False)\n",
    "    \n",
    "    # edge treatment\n",
    "    padding = 0\n",
    "    im_border = None\n",
    "    if ((0 < round(circle[0]) - round(circle[2]) - 5) or\n",
    "        (round(circle[0]) + round(circle[2]) + 5 >= im_c.shape[1]) or\n",
    "        (0 < round(circle[1]) - round(circle[2]) - 5) or\n",
    "        (round(circle[1]) + round(circle[2]) + 5 >= im_c.shape[0])):\n",
    "        \n",
    "        mean_value = moments['m00']/cv2.countNonZero(mask)\n",
    "        padding = round(circle[2])*2 + 10\n",
    "        im_border = cv2.copyMakeBorder(im, padding, padding, padding, padding, \n",
    "                                       cv2.BORDER_CONSTANT, value=round(mean_value))\n",
    "        mask = np.zeros(im_border.shape, dtype=np.byte)\n",
    "        cv2.circle(mask, (round(circle[0]) + padding, round(circle[1]) + padding), round(circle[2]), 1, 10)\n",
    "        moments = cv2.moments(im_border*mask, False)\n",
    "\n",
    "    # post edge treatment\n",
    "    direction = np.array((moments['m10']/moments['m00'] - circle[0] - padding,\n",
    "                          moments['m01']/moments['m00'] - circle[1] - padding))\n",
    "    circle[:2] -= ALPHA*direction\n",
    "    \n",
    "    im_new = im.copy()\n",
    "    cv2.circle(im_new, (round(circle[0]), round(circle[1])), round(circle[2]), 255, 10)\n",
    "    iter_ims.append(im_new)\n",
    "    \n",
    "_, axs = plt.subplots(1, len(iter_ims), figsize=(50,10))\n",
    "for i in range(len(iter_ims)):\n",
    "    axs[i].imshow(iter_ims[i], cmap='gray')\n",
    "\n",
    "plt.show()\n",
    "print('correct ', CORRECT_CIRCLE, '\\ndetected ', circle)"
   ]
  },
  {
   "cell_type": "markdown",
   "id": "5db379b7",
   "metadata": {},
   "source": [
    "### View masking"
   ]
  },
  {
   "cell_type": "code",
   "execution_count": null,
   "id": "ea88d8f9",
   "metadata": {},
   "outputs": [],
   "source": [
    "im_view = cv2.imread('/Users/mirek/Desktop/test3.png')\n",
    "im_view = cv2.cvtColor(im_view, cv2.COLOR_BGR2GRAY)\n",
    "plt.imshow(im_view, cmap='gray')"
   ]
  },
  {
   "cell_type": "code",
   "execution_count": null,
   "id": "b60d2258",
   "metadata": {},
   "outputs": [],
   "source": [
    "circle = detect_limbus(im_view, validation='inout', validation_mode='min')\n",
    "im_view_c = im_view.copy()\n",
    "mask = np.zeros(im_view_c.shape, dtype=np.byte)\n",
    "\n",
    "cv2.circle(im_view_c, (round(circle[0]), round(circle[1])), round(circle[2]), 255, 10)\n",
    "cv2.circle(mask, (round(circle[0]), round(circle[1])), round(circle[2]), 1, cv2.FILLED)\n",
    "\n",
    "_, axs = plt.subplots(1, 2)\n",
    "axs[0].imshow(im_view_c, cmap='gray')\n",
    "axs[1].imshow(mask, cmap='gray')"
   ]
  },
  {
   "cell_type": "markdown",
   "id": "c97bfe1b",
   "metadata": {},
   "source": [
    "### KFC tracking with circle jiggle"
   ]
  },
  {
   "cell_type": "code",
   "execution_count": 3,
   "id": "6dfae06c",
   "metadata": {},
   "outputs": [
    {
     "data": {
      "text/plain": [
       "<matplotlib.image.AxesImage at 0x127db6fd0>"
      ]
     },
     "execution_count": 3,
     "metadata": {},
     "output_type": "execute_result"
    },
    {
     "data": {
      "image/png": "[encoded data removed]",
      "text/plain": [
       "<Figure size 432x288 with 1 Axes>"
      ]
     },
     "metadata": {
      "needs_background": "light"
     },
     "output_type": "display_data"
    }
   ],
   "source": [
    "filepath = '/Users/mirek/Desktop/bioniko_input_long.mp4'\n",
    "cap = cv2.VideoCapture(filepath)\n",
    "\n",
    "_, frame = cap.read()\n",
    "view_mask = get_view_mask(cv2.cvtColor(frame, cv2.COLOR_BGR2GRAY))\n",
    "# tracker = reset_tracker(frame, view_mask=view_mask)\n",
    "tracker = reset_tracker(frame)\n",
    "\n",
    "plt.imshow(view_mask, cmap='gray')"
   ]
  },
  {
   "cell_type": "code",
   "execution_count": 4,
   "id": "eb241d31",
   "metadata": {},
   "outputs": [],
   "source": [
    "while cap.isOpened():\n",
    "    # Read a new frame\n",
    "    ret, frame = cap.read() \n",
    "    if ret == False:\n",
    "        break\n",
    "\n",
    "    timer = cv2.getTickCount()\n",
    "\n",
    "#     tracker = reset_tracker(frame)\n",
    "    if tracker is None:\n",
    "        ok = False\n",
    "    else:\n",
    "        ok, bbox = tracker.update(frame)\n",
    "        \n",
    "    if ok:\n",
    "        new_bbox = repair_bbox(bbox, frame.shape[1], frame.shape[0])\n",
    "        if new_bbox is not None:\n",
    "            bbox = new_bbox\n",
    "        p1 = (int(bbox[0]), int(bbox[1]))\n",
    "        p2 = (int(bbox[0] + bbox[2]), int(bbox[1] + bbox[3]))\n",
    "        circle = tighten_circle(cv2.cvtColor(frame, cv2.COLOR_BGR2GRAY), \n",
    "                               np.array((bbox[0] + bbox[2]/2, \n",
    "                                         bbox[1] + bbox[3]/2, \n",
    "                                         (bbox[2] + bbox[3])/4)),\n",
    "                              view_mask=view_mask)\n",
    "#         circle = jiggle_circle(cv2.cvtColor(frame, cv2.COLOR_BGR2GRAY), \n",
    "#                                np.array((bbox[0] + bbox[2]/2, \n",
    "#                                          bbox[1] + bbox[3]/2, \n",
    "#                                          (bbox[2] + bbox[3])/4)),\n",
    "#                               view_mask=view_mask)\n",
    "\n",
    "        cv2.circle(frame, (round(circle[0]), round(circle[1])), round(circle[2]), (0,0,255), 1)\n",
    "        cv2.putText(frame, \"width v. height diff: %d\" % abs(bbox[2] - bbox[3]),\n",
    "                    (100,80), cv2.FONT_HERSHEY_SIMPLEX, 0.75,\n",
    "                    (0,0,255) if abs(bbox[2] - bbox[3]) > 0 else (0,255,0),2)\n",
    "\n",
    "        cv2.rectangle(frame, p1, p2, (255,0,0), 1, 1)\n",
    "    else:\n",
    "        cv2.putText(frame, \"Tracking failure detected\", (100,80), cv2.FONT_HERSHEY_SIMPLEX, 0.75,(0,0,255),2)\n",
    "        tracker = reset_tracker(frame, view_mask=view_mask)\n",
    "#         tracker = reset_tracker(frame)\n",
    "\n",
    "    fps = cv2.getTickFrequency() / (cv2.getTickCount() - timer)\n",
    "\n",
    "    if fps < 10:\n",
    "        tracker = None\n",
    "        \n",
    "    cv2.putText(frame, \"KCF Tracker\", (100,20), cv2.FONT_HERSHEY_SIMPLEX, 0.75, (50,170,50),2);\n",
    "    cv2.putText(frame, \"FPS : \" + str(int(fps)), (100,50), cv2.FONT_HERSHEY_SIMPLEX, 0.75, (50,170,50), 2);\n",
    "    cv2.imshow(\"Tracking\", frame)\n",
    "\n",
    "    # Exit if ESC pressed\n",
    "    if cv2.waitKey(1) & 0xFF == ord('q'): \n",
    "        break\n",
    "\n",
    "cap.release()                    \n",
    "cv2.destroyAllWindows() "
   ]
  },
  {
   "cell_type": "markdown",
   "id": "a9c09634",
   "metadata": {},
   "source": [
    "### Tracking by detection fallback"
   ]
  },
  {
   "cell_type": "code",
   "execution_count": 2,
   "id": "b8d6d02c",
   "metadata": {},
   "outputs": [],
   "source": [
    "filepath = '/Users/mirek/Desktop/bioniko_input_long.mp4'\n",
    "cap = cv2.VideoCapture(filepath)"
   ]
  },
  {
   "cell_type": "code",
   "execution_count": 3,
   "id": "cad9e474",
   "metadata": {},
   "outputs": [],
   "source": [
    "while cap.isOpened():\n",
    "    # Read a new frame\n",
    "    ret, frame = cap.read() \n",
    "    if ret == False:\n",
    "        break\n",
    "        \n",
    "    timer = cv2.getTickCount()\n",
    "    circle = detect_limbus(cv2.cvtColor(frame, cv2.COLOR_BGR2GRAY), validation='inout',\n",
    "                           validation_value_thresh=40)\n",
    "    fps = cv2.getTickFrequency() / (cv2.getTickCount() - timer)\n",
    "    \n",
    "    if circle is not None:\n",
    "        cv2.circle(frame, (round(circle[0]), round(circle[1])), round(circle[2]), (0,0,255), 1)\n",
    "    cv2.putText(frame, \"FPS : \" + str(int(fps)), (100,50), cv2.FONT_HERSHEY_SIMPLEX, 0.75, (50,170,50), 2);\n",
    "    cv2.imshow(\"Tracking\", frame)\n",
    "\n",
    "    # Exit if ESC pressed\n",
    "    if cv2.waitKey(1) & 0xFF == ord('q'): \n",
    "        break\n",
    "\n",
    "cap.release()                    \n",
    "cv2.destroyAllWindows() "
   ]
  },
  {
   "cell_type": "code",
   "execution_count": null,
   "id": "b4550271",
   "metadata": {},
   "outputs": [],
   "source": []
  },
  {
   "cell_type": "code",
   "execution_count": null,
   "id": "08a1d51e",
   "metadata": {},
   "outputs": [],
   "source": []
  }
 ],
 "metadata": {
  "kernelspec": {
   "display_name": "Python 3 (ipykernel)",
   "language": "python",
   "name": "python3"
  },
  "language_info": {
   "codemirror_mode": {
    "name": "ipython",
    "version": 3
   },
   "file_extension": ".py",
   "mimetype": "text/x-python",
   "name": "python",
   "nbconvert_exporter": "python",
   "pygments_lexer": "ipython3",
   "version": "3.9.6"
  }
 },
 "nbformat": 4,
 "nbformat_minor": 5
}
