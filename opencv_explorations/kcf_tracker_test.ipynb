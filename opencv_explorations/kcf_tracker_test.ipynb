{
 "cells": [
  {
   "cell_type": "markdown",
   "id": "600ee0bf",
   "metadata": {},
   "source": [
    "## KCF tracker test"
   ]
  },
  {
   "cell_type": "markdown",
   "id": "4932dde7",
   "metadata": {},
   "source": [
    "### 1. Imports"
   ]
  },
  {
   "cell_type": "code",
   "execution_count": 111,
   "id": "12b606e6",
   "metadata": {},
   "outputs": [
    {
     "name": "stdout",
     "output_type": "stream",
     "text": [
      "The autoreload extension is already loaded. To reload it, use:\n",
      "  %reload_ext autoreload\n"
     ]
    }
   ],
   "source": [
    "import cv2\n",
    "import numpy as np\n",
    "from matplotlib import pyplot as plt\n",
    "\n",
    "from helpers.limbus_detection import detect_circle\n",
    "from helpers.misc import repair_bbox, tighten_circle\n",
    "from helpers.view_detection import get_view_mask\n",
    "\n",
    "\n",
    "%load_ext autoreload\n",
    "%autoreload 2"
   ]
  },
  {
   "cell_type": "markdown",
   "id": "570ad46f",
   "metadata": {},
   "source": [
    "### 2. Naive test"
   ]
  },
  {
   "cell_type": "code",
   "execution_count": 112,
   "id": "3727cdd9",
   "metadata": {},
   "outputs": [],
   "source": [
    "kcf_params = cv2.TrackerKCF_Params()\n",
    "# kcf_params.compressed_size = 1\n",
    "# kcf_params.desc_pca = cv2.TrackerKCF_GRAY\n",
    "# kcf_params.desc_npca = cv2.TrackerKCF_GRAY\n",
    "# kcf_params.resize = True\n",
    "# kcf_params.detect_thresh = 0.7\n",
    "\n",
    "\n",
    "def reset_tracker(frame: np.array, view_mask: np.array = None) -> cv2.TrackerKCF:\n",
    "    circle = detect_circle(cv2.cvtColor(frame, cv2.COLOR_BGR2GRAY), validation='inout',\n",
    "                           validation_value_thresh=40, view_mask=view_mask)\n",
    "    if circle is None:\n",
    "        return None\n",
    "\n",
    "    tracker = cv2.TrackerKCF_create(kcf_params)\n",
    "\n",
    "    bbox = (round(circle[0] - circle[2]), round(circle[1] - circle[2]),\n",
    "            round(circle[2]*2), round(circle[2]*2))\n",
    "    tracker.init(frame, bbox)\n",
    "\n",
    "    return tracker"
   ]
  },
  {
   "cell_type": "code",
   "execution_count": 113,
   "id": "4abffdd3",
   "metadata": {},
   "outputs": [],
   "source": [
    "filepath = 'data/artificial/bioniko_input_long.mp4'\n",
    "cap = cv2.VideoCapture(filepath)\n",
    "\n",
    "_, frame = cap.read()\n",
    "tracker = reset_tracker(frame)\n",
    "\n",
    "while cap.isOpened():\n",
    "    ret, frame = cap.read()\n",
    "    if ret == False:\n",
    "        break\n",
    "\n",
    "    timer = cv2.getTickCount()\n",
    "\n",
    "    if tracker is None:\n",
    "        ok = False\n",
    "    else:\n",
    "        ok, bbox = tracker.update(frame)\n",
    "\n",
    "    fps = cv2.getTickFrequency() / (cv2.getTickCount() - timer)\n",
    "\n",
    "    if ok:\n",
    "        p1 = (int(bbox[0]), int(bbox[1]))\n",
    "        p2 = (int(bbox[0] + bbox[2]), int(bbox[1] + bbox[3]))\n",
    "        cv2.circle(frame, (round(bbox[0] + bbox[2]/2), round(bbox[1] + bbox[3]/2)),\n",
    "                   round((bbox[2] + bbox[3])/4), (255, 0, 0))\n",
    "        cv2.putText(frame, \"width v. height diff: %d\" % abs(bbox[2] - bbox[3]),\n",
    "                    (100, 80), cv2.FONT_HERSHEY_SIMPLEX, 0.75,\n",
    "                    (0, 0, 255) if abs(bbox[2] - bbox[3]) > 0 else (0, 255, 0), 2)\n",
    "        cv2.rectangle(frame, p1, p2, (255, 0, 0), 2, 1)\n",
    "    else:\n",
    "        cv2.putText(frame, \"Tracking failure detected\", (100, 80),\n",
    "                    cv2.FONT_HERSHEY_SIMPLEX, 0.75, (0, 0, 255), 2)\n",
    "        tracker = reset_tracker(frame)\n",
    "\n",
    "    if fps < 20:\n",
    "        tracker = None\n",
    "\n",
    "    cv2.putText(frame, \"FPS : \" + str(int(fps)), (100, 50),\n",
    "                cv2.FONT_HERSHEY_SIMPLEX, 0.75, (50, 170, 50), 2)\n",
    "    cv2.imshow(\"Tracking\", frame)\n",
    "\n",
    "    if cv2.waitKey(1) & 0xFF == ord('q'):\n",
    "        break\n",
    "\n",
    "cap.release()\n",
    "for _ in range(10):\n",
    "    cv2.destroyAllWindows()\n",
    "    cv2.waitKey(1)"
   ]
  },
  {
   "cell_type": "markdown",
   "id": "60ac8242",
   "metadata": {},
   "source": [
    "### 3. KFC tracking with circle jiggle/tighten\n",
    "OpenCV trackers usually output a 2D bounding box which can be not very tight. Because of this we need a corrective mechanism to detect the circle precisely.\n",
    "`circle_tighten` method in contrast to `circle_jiggle` tries to also adjust for the radius."
   ]
  },
  {
   "cell_type": "code",
   "execution_count": 119,
   "id": "adefea2c",
   "metadata": {},
   "outputs": [
    {
     "data": {
      "image/png": "[encoded data removed]",
      "text/plain": [
       "<Figure size 432x288 with 1 Axes>"
      ]
     },
     "metadata": {
      "needs_background": "light"
     },
     "output_type": "display_data"
    }
   ],
   "source": [
    "filepath = 'data/artificial/bioniko_input_long.mp4'\n",
    "cap = cv2.VideoCapture(filepath)\n",
    "\n",
    "_, frame = cap.read()\n",
    "view_mask = get_view_mask(cv2.cvtColor(frame, cv2.COLOR_BGR2GRAY))\n",
    "# tracker = reset_tracker(frame, view_mask=view_mask)\n",
    "tracker = reset_tracker(frame)\n",
    "\n",
    "plt.imshow(view_mask, cmap='gray')\n",
    "plt.axis('off')\n",
    "plt.show()"
   ]
  },
  {
   "cell_type": "code",
   "execution_count": 120,
   "id": "50d3cfff",
   "metadata": {},
   "outputs": [
    {
     "name": "stderr",
     "output_type": "stream",
     "text": [
      "/Users/mirek/Documents/Custom_Surgical/Cataract-Surgery-Training-Explorations/.venv/lib/python3.9/site-packages/numpy/core/fromnumeric.py:3440: RuntimeWarning: Mean of empty slice.\n",
      "  return _methods._mean(a, axis=axis, dtype=dtype,\n",
      "/Users/mirek/Documents/Custom_Surgical/Cataract-Surgery-Training-Explorations/.venv/lib/python3.9/site-packages/numpy/core/_methods.py:189: RuntimeWarning: invalid value encountered in double_scalars\n",
      "  ret = ret.dtype.type(ret / rcount)\n"
     ]
    }
   ],
   "source": [
    "while cap.isOpened():\n",
    "    ret, frame = cap.read()\n",
    "    if ret == False:\n",
    "        break\n",
    "\n",
    "    if tracker is None:\n",
    "        ok = False\n",
    "    else:\n",
    "        ok, bbox = tracker.update(frame)\n",
    "\n",
    "    if ok:\n",
    "        new_bbox = repair_bbox(bbox, frame.shape[1], frame.shape[0])\n",
    "        if new_bbox is not None:\n",
    "            bbox = new_bbox\n",
    "        p1 = (int(bbox[0]), int(bbox[1]))\n",
    "        p2 = (int(bbox[0] + bbox[2]), int(bbox[1] + bbox[3]))\n",
    "        circle_tightened = tighten_circle(cv2.cvtColor(frame, cv2.COLOR_BGR2GRAY),\n",
    "                                          np.array((bbox[0] + bbox[2]/2,\n",
    "                                                    bbox[1] + bbox[3]/2,\n",
    "                                                    (bbox[2] + bbox[3])/4)),\n",
    "                                          view_mask=view_mask)\n",
    "        circle_jiggled = jiggle_circle(cv2.cvtColor(frame, cv2.COLOR_BGR2GRAY),\n",
    "                                       np.array((bbox[0] + bbox[2]/2,\n",
    "                                                 bbox[1] + bbox[3]/2,\n",
    "                                                 (bbox[2] + bbox[3])/4)),\n",
    "                                       view_mask=view_mask)\n",
    "\n",
    "        cv2.circle(frame, (round(circle_tightened[0]), round(\n",
    "            circle_tightened[1])), round(circle_tightened[2]), (255, 0, 0), 1)\n",
    "        cv2.circle(frame, (round(circle_jiggled[0]), round(\n",
    "            circle_jiggled[1])), round(circle_jiggled[2]), (255, 255, 0), 1)\n",
    "        cv2.putText(frame, 'width v. height diff: %d' % abs(bbox[2] - bbox[3]),\n",
    "                    (0, 100), cv2.FONT_HERSHEY_SIMPLEX, 0.75,\n",
    "                    (0, 0, 255) if abs(bbox[2] - bbox[3]) > 0 else (0, 255, 0))\n",
    "\n",
    "        cv2.rectangle(frame, p1, p2, (0, 255, 0), 1, 1)\n",
    "    else:\n",
    "        cv2.putText(frame, 'Tracking failure detected', (0, 80),\n",
    "                    cv2.FONT_HERSHEY_SIMPLEX, 0.75, (0, 0, 255))\n",
    "        tracker = reset_tracker(frame, view_mask=view_mask)\n",
    "\n",
    "    if fps < 10:\n",
    "        tracker = None\n",
    "\n",
    "    cv2.putText(frame, 'KCF tracker', (0, 25),\n",
    "                cv2.FONT_HERSHEY_SIMPLEX, 0.75, (0, 255, 0))\n",
    "    cv2.putText(frame, 'jiggle_circle', (0, 50),\n",
    "                cv2.FONT_HERSHEY_SIMPLEX, 0.75, (255, 255, 0))\n",
    "    cv2.putText(frame, 'tighten_circle', (0, 75),\n",
    "                cv2.FONT_HERSHEY_SIMPLEX, 0.75, (255, 0, 0))\n",
    "\n",
    "    cv2.imshow('tracking', frame)\n",
    "\n",
    "    if cv2.waitKey(1) & 0xFF == ord('q'):\n",
    "        break\n",
    "\n",
    "cap.release()\n",
    "for _ in range(10):\n",
    "    cv2.destroyAllWindows()\n",
    "    cv2.waitKey(1)"
   ]
  }
 ],
 "metadata": {
  "kernelspec": {
   "display_name": "Python 3 (ipykernel)",
   "language": "python",
   "name": "python3"
  },
  "language_info": {
   "codemirror_mode": {
    "name": "ipython",
    "version": 3
   },
   "file_extension": ".py",
   "mimetype": "text/x-python",
   "name": "python",
   "nbconvert_exporter": "python",
   "pygments_lexer": "ipython3",
   "version": "3.9.9"
  }
 },
 "nbformat": 4,
 "nbformat_minor": 5
}
